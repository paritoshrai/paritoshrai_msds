{
 "cells": [
  {
   "cell_type": "markdown",
   "id": "touched-walter",
   "metadata": {},
   "source": [
    "#### 7337 Natural Language Processing Home Work 1 Paritosh Rai"
   ]
  },
  {
   "cell_type": "markdown",
   "id": "forbidden-neighbor",
   "metadata": {},
   "source": [
    "#### 1.\tInstall Python (if you don’t have it already), and install NLTK.  "
   ]
  },
  {
   "cell_type": "markdown",
   "id": "nuclear-operation",
   "metadata": {},
   "source": [
    "Installed Python 3.8.8 and other library"
   ]
  },
  {
   "cell_type": "markdown",
   "id": "aboriginal-filename",
   "metadata": {},
   "source": [
    "#### 2.\tFollow the instructions in chapter 1 of Bird-Klein for implementing a “lexical diversity” scoring routine."
   ]
  },
  {
   "cell_type": "code",
   "execution_count": 189,
   "id": "defined-capability",
   "metadata": {
    "scrolled": true
   },
   "outputs": [
    {
     "name": "stdout",
     "output_type": "stream",
     "text": [
      "showing info https://raw.githubusercontent.com/nltk/nltk_data/gh-pages/index.xml\n"
     ]
    },
    {
     "data": {
      "text/plain": [
       "True"
      ]
     },
     "execution_count": 189,
     "metadata": {},
     "output_type": "execute_result"
    }
   ],
   "source": [
    "#installed NLTK\n",
    "# install the data required for the book by typing the following two commands\n",
    "import nltk\n",
    "nltk.download()"
   ]
  },
  {
   "cell_type": "code",
   "execution_count": 190,
   "id": "oriental-hospital",
   "metadata": {
    "scrolled": true
   },
   "outputs": [
    {
     "name": "stdout",
     "output_type": "stream",
     "text": [
      "*** Introductory Examples for the NLTK Book ***\n",
      "Loading text1, ..., text9 and sent1, ..., sent9\n",
      "Type the name of the text or sentence to view it.\n",
      "Type: 'texts()' or 'sents()' to list the materials.\n",
      "text1: Moby Dick by Herman Melville 1851\n",
      "text2: Sense and Sensibility by Jane Austen 1811\n",
      "text3: The Book of Genesis\n",
      "text4: Inaugural Address Corpus\n",
      "text5: Chat Corpus\n",
      "text6: Monty Python and the Holy Grail\n",
      "text7: Wall Street Journal\n",
      "text8: Personals Corpus\n",
      "text9: The Man Who Was Thursday by G . K . Chesterton 1908\n"
     ]
    }
   ],
   "source": [
    "#load the books\n",
    "from nltk.book import *"
   ]
  },
  {
   "cell_type": "code",
   "execution_count": 192,
   "id": "noted-procedure",
   "metadata": {
    "scrolled": true
   },
   "outputs": [
    {
     "data": {
      "image/png": "[encoded data removed]",
      "text/plain": [
       "<Figure size 432x288 with 1 Axes>"
      ]
     },
     "metadata": {
      "needs_background": "light"
     },
     "output_type": "display_data"
    }
   ],
   "source": [
    "#Patterns of word usage over the last 220 years is ploted as shown below\n",
    "text4.dispersion_plot([\"citizens\", \"democracy\", \"freedom\", \"duties\", \"America\"])"
   ]
  },
  {
   "cell_type": "code",
   "execution_count": 193,
   "id": "agreed-champion",
   "metadata": {
    "scrolled": true
   },
   "outputs": [
    {
     "data": {
      "text/plain": [
       "44764"
      ]
     },
     "execution_count": 193,
     "metadata": {},
     "output_type": "execute_result"
    }
   ],
   "source": [
    "# Counting Vacabulary: Find length of text from start to finish including words and punctuation. Also refered as token (sequence of characters)\n",
    "len(text3)\n"
   ]
  },
  {
   "cell_type": "code",
   "execution_count": 194,
   "id": "other-constraint",
   "metadata": {},
   "outputs": [
    {
     "data": {
      "text/plain": [
       "2789"
      ]
     },
     "execution_count": 194,
     "metadata": {},
     "output_type": "execute_result"
    }
   ],
   "source": [
    "# Identify distinct vocabulary\n",
    "len(set(text3))"
   ]
  },
  {
   "cell_type": "markdown",
   "id": "equivalent-kidney",
   "metadata": {},
   "source": [
    "This book has ~45K words but only ~2.8K unique item of vocabulary"
   ]
  },
  {
   "cell_type": "code",
   "execution_count": 195,
   "id": "protected-balance",
   "metadata": {},
   "outputs": [
    {
     "data": {
      "text/plain": [
       "16.050197203298673"
      ]
     },
     "execution_count": 195,
     "metadata": {},
     "output_type": "execute_result"
    }
   ],
   "source": [
    "# Calculate a measure of the lexical richness of the text\n",
    "from __future__ import division\n",
    "len(text3) / len(set(text3))"
   ]
  },
  {
   "cell_type": "markdown",
   "id": "thousand-album",
   "metadata": {},
   "source": [
    "Above output shows us that each word is used 16 times on average."
   ]
  },
  {
   "cell_type": "markdown",
   "id": "honest-selling",
   "metadata": {},
   "source": [
    "#### 3.\tGo to http://www.gutenberg.org/wiki/Children%27s_Instructional_Books_(Bookshelf), and obtain three texts (of different grade levels) from the “Graded Readers” section. Report the lexical diversity score of each. Explain whether the result was surprising.\n",
    "\n"
   ]
  },
  {
   "cell_type": "code",
   "execution_count": 181,
   "id": "above-championship",
   "metadata": {},
   "outputs": [],
   "source": [
    "# import NLTX and othee libraries\n",
    "import nltk\n",
    "# urllib to get info from url. \n",
    "import urllib.request\n",
    "from urllib import request\n",
    "from __future__ import division\n",
    "#from nltk import word_tokenize\n",
    "# Ref: https://www.guru99.com/accessing-internet-data-with-python.html#:~:text=1%20Call%20the%20read%20function%20on%20the%20webURL,It%20will%20print%20the%20data%20into%20HTML%20format\n"
   ]
  },
  {
   "cell_type": "markdown",
   "id": "posted-jurisdiction",
   "metadata": {},
   "source": [
    "### Creat a Function to Read url"
   ]
  },
  {
   "cell_type": "code",
   "execution_count": 182,
   "id": "impossible-basis",
   "metadata": {
    "scrolled": true
   },
   "outputs": [],
   "source": [
    "#Function to read data from url\n",
    "def read_url(url):\n",
    "    text = urllib.request.urlopen(url)\n",
    "    data = text.read().decode('utf8')\n",
    "    #print(data)\n",
    "    return data\n"
   ]
  },
  {
   "cell_type": "markdown",
   "id": "direct-running",
   "metadata": {},
   "source": [
    "### Creat a function to calculate Lexical Diversity"
   ]
  },
  {
   "cell_type": "code",
   "execution_count": 183,
   "id": "identified-piece",
   "metadata": {},
   "outputs": [],
   "source": [
    "# function to calculate Lexical Diversity\n",
    "def lex_div(data):\n",
    "    ld = len(data)/len(set(data))\n",
    "    return ld\n"
   ]
  },
  {
   "cell_type": "markdown",
   "id": "falling-waters",
   "metadata": {},
   "source": [
    "### Create a function to Calculate Vocabulary Count"
   ]
  },
  {
   "cell_type": "code",
   "execution_count": 184,
   "id": "complicated-chancellor",
   "metadata": {},
   "outputs": [],
   "source": [
    "#define a function to get the vocabulary from NLTK text object\n",
    "def vocabulary_count(data):\n",
    "    #we will first strip out all non-alpha characters;\n",
    "    #then we will convert the text to lower case;\n",
    "    #then we will count the distinct words\n",
    "    words=data.split()\n",
    "    words = nltk.word_tokenize(data)\n",
    "    words=[word.casefold() for word in words if word.isalpha()]\n",
    "    v_ln=len(words)\n",
    "    return v_ln\n"
   ]
  },
  {
   "cell_type": "markdown",
   "id": "agricultural-movie",
   "metadata": {},
   "source": [
    "### School Reading By Grades: Sixth Year¶"
   ]
  },
  {
   "cell_type": "code",
   "execution_count": 185,
   "id": "royal-appearance",
   "metadata": {},
   "outputs": [
    {
     "name": "stdout",
     "output_type": "stream",
     "text": [
      "Lexical Diversity for School Reading By Grades Sixth Year is: 3396.2897196261683\n",
      "Vocabulary Count for School Reading By Grades Sixth Year is: 60017\n"
     ]
    }
   ],
   "source": [
    "url='https://www.gutenberg.org/files/36864/36864-0.txt'\n",
    "data_6=read_url(url)\n",
    "print('Lexical Diversity for School Reading By Grades Sixth Year is:', lex_div(data_6))\n",
    "print ('Vocabulary Count for School Reading By Grades Sixth Year is:',vocabulary_count(data_6))"
   ]
  },
  {
   "cell_type": "markdown",
   "id": "hawaiian-theta",
   "metadata": {},
   "source": [
    "### School Reading By Grades: Fifth Year"
   ]
  },
  {
   "cell_type": "code",
   "execution_count": 186,
   "id": "changed-mention",
   "metadata": {},
   "outputs": [
    {
     "name": "stdout",
     "output_type": "stream",
     "text": [
      "Lexical Diversity for School Reading By Grades Fifth Year is: 2210.878048780488\n",
      "Vocabulary Count for School Reading By Grades Fifth Year is: 45103\n"
     ]
    }
   ],
   "source": [
    "\n",
    "url='https://www.gutenberg.org/files/51000/51000-0.txt'\n",
    "data_5=read_url(url)\n",
    "print('Lexical Diversity for School Reading By Grades Fifth Year is:', lex_div(data_5))\n",
    "print ('Vocabulary Count for School Reading By Grades Fifth Year is:',vocabulary_count(data_5))"
   ]
  },
  {
   "cell_type": "markdown",
   "id": "chicken-holmes",
   "metadata": {},
   "source": [
    "### School Reading By Grades: Fourth Year"
   ]
  },
  {
   "cell_type": "code",
   "execution_count": 187,
   "id": "ceramic-trade",
   "metadata": {},
   "outputs": [
    {
     "name": "stdout",
     "output_type": "stream",
     "text": [
      "Lexical Diversity for School Reading By Grades Fourth Year is: 2168.8137931034485\n",
      "Vocabulary Count for School Reading By Grades Fourth Year is: 50603\n"
     ]
    }
   ],
   "source": [
    "url='https://www.gutenberg.org/files/49339/49339-0.txt'\n",
    "data_4=read_url(url)\n",
    "print('Lexical Diversity for School Reading By Grades Fourth Year is:', lex_div(data_4))\n",
    "print ('Vocabulary Count for School Reading By Grades Fourth Year is:',vocabulary_count(data_4))"
   ]
  },
  {
   "cell_type": "markdown",
   "id": "planned-raise",
   "metadata": {},
   "source": [
    "Yes results were little surprisng. \n",
    "Lexical diversity is the ratio of a total number of words and punctuations vs. a number of unique words and punctions. This measure of diversity is seen as a measure of how many times, on average, the words are repeated. The output above Lexical constant for 6th grade is ~3.4K, 5th grade is ~2.2K, and ~2.1K for 3rd grader (a lot closer to grader5). I was expecting Lexical Diversity to go down as we go up the grade. But numbers are showing the other way around. That means there is more repetition of items as the grade goes up. I was expecting the use of new items as we go up the grade and get lower Lexical diversity with grade increase.  "
   ]
  },
  {
   "cell_type": "markdown",
   "id": "dirty-penetration",
   "metadata": {},
   "source": [
    "### 4.\tWrite a paragraph arguing whether vocabulary size and lexical diversity in combination could be a better measure of text difficulty (or reading level) than either measure is by itself."
   ]
  },
  {
   "cell_type": "markdown",
   "id": "stupid-python",
   "metadata": {},
   "source": [
    "I agree with the approach of measuring the text difficulty leveraging the combination of Lexical diversity, and vocabulary size will give better insight. On the surface, Lexical diversity looks excellent measure of text difficulty level; however, if we have too many reoccurrences of punction, that can skew the results. So, it is critical to look at how many new words were added in the text/book. While calculating vocabulary size, we drop all the punctuation. In the above calculation, sixth-graders how more vocabulary than 4th and 5th grade (60K vs. 45K, respectively). However, 4th shows more vocabulary than 5th but graders (50K vs. 45K). We have to note here 5th and grader 6th is from the School Reading by Grade series. In contrast, for 4th, we used Graded Literature Reader, so it may not be a fair comparison.  "
   ]
  }
 ],
 "metadata": {
  "kernelspec": {
   "display_name": "Python 3",
   "language": "python",
   "name": "python3"
  },
  "language_info": {
   "codemirror_mode": {
    "name": "ipython",
    "version": 3
   },
   "file_extension": ".py",
   "mimetype": "text/x-python",
   "name": "python",
   "nbconvert_exporter": "python",
   "pygments_lexer": "ipython3",
   "version": "3.8.8"
  }
 },
 "nbformat": 4,
 "nbformat_minor": 5
}
