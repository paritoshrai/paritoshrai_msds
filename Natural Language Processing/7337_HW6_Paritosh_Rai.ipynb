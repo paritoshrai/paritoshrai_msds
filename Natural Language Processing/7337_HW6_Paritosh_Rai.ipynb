{
 "cells": [
  {
   "cell_type": "markdown",
   "metadata": {},
   "source": [
    "### NLP - Homework 6\n",
    "\n",
    "#### Paritosh Rai¶"
   ]
  },
  {
   "cell_type": "markdown",
   "metadata": {},
   "source": [
    "#### 1.\tEvaluate text similarity of Amazon book search results by doing the following:"
   ]
  },
  {
   "cell_type": "code",
   "execution_count": 15,
   "metadata": {},
   "outputs": [],
   "source": [
    "# ignore warnnings\n",
    "#https://queirozf.com/entries/suppressing-ignoring-warnings-in-python-reference-and-examples\n",
    "\n",
    "import warnings\n",
    "\n",
    "warnings.filterwarnings('ignore')\n",
    "\n",
    "# no warnings will be printed from now on"
   ]
  },
  {
   "cell_type": "code",
   "execution_count": 16,
   "metadata": {},
   "outputs": [],
   "source": [
    "#import required packages\n",
    "import nltk\n",
    "from nltk import word_tokenize\n",
    "import numpy as np\n",
    "from collections import Counter\n",
    "from sklearn.feature_extraction.text import CountVectorizer\n",
    "from sklearn.metrics.pairwise import cosine_similarity\n",
    "from sklearn.feature_extraction.text import TfidfVectorizer\n",
    "import matplotlib.pyplot as plt #to plot bar chart and heatmap"
   ]
  },
  {
   "cell_type": "markdown",
   "metadata": {},
   "source": [
    " #### a. Do a book search on Amazon. Manually copy the full book title (including subtitle) of each of the top 24 books listed in the first two pages of search results."
   ]
  },
  {
   "cell_type": "code",
   "execution_count": 17,
   "metadata": {
    "scrolled": true
   },
   "outputs": [],
   "source": [
    "# Manually creat fiction book list from Amazon of the top 24 books. \n",
    "# https://www.amazon.com/s?k=friction+books&i=stripbooks&ref=nb_sb_noss_2\n",
    "# copiled the serach to word doc and cleaned the doc to create the list. \n",
    "\n",
    "\n",
    "fiction_books = [\"Asher\",\n",
    "\"The Remnant Son: Journeys of the Remnant Book 2\", \n",
    "\"Time Tunnel: The Twin Towers\", \n",
    "\"Slow Brewing Tea\",\n",
    "\"The Couple Next Door: A Novel\",\n",
    "\"I Am Watching\",\n",
    "\"The Beach House (South Carolina Sunsets Book 1)\",\n",
    "\"All the Ugly and Wonderful Things: A Novel\",\n",
    "\"The Silent Patient\", \n",
    "\"When We Believed in Mermaids: A Novel\",\n",
    "\"When the Apricots Bloom\",\n",
    "\"Mary Amazon: a novel\",\n",
    "\"The Indigo Girl: A Novel\",\n",
    "\"The Beekeeper Aleppo: A Novel\",\n",
    "\"Sold on a Monday: A Novel\",\n",
    "\"The Silent Wife: A gripping emotional page turner with a twist that will take your breath away\", \n",
    "\"The Book Woman of Troublesome Creek: A Novel\",\n",
    "\"The Alice Network: A Novel\", \n",
    "\"The Last Anniversary: A Novel\", \n",
    "\"The Other Emily\",\n",
    "\"The Indigo Girl: A Novel\",\n",
    "\"What Comes After: A Novel\",\n",
    "\"The Last Thing He Told Me: A Novel\",\n",
    "\"Before She Disappeared: A Novel\"]\n"
   ]
  },
  {
   "cell_type": "code",
   "execution_count": 18,
   "metadata": {},
   "outputs": [
    {
     "name": "stdout",
     "output_type": "stream",
     "text": [
      "Total number of titles: 24\n"
     ]
    }
   ],
   "source": [
    "# we have right number of titles\n",
    "print(\"Total number of titles:\", len(fiction_books))"
   ]
  },
  {
   "cell_type": "markdown",
   "metadata": {},
   "source": [
    "#### b.\tIn Python, run one of the text-similarity measures covered in this course, e.g., cosine similarity. Compare each of the book titles, pairwise, to every other one. "
   ]
  },
  {
   "cell_type": "code",
   "execution_count": 19,
   "metadata": {},
   "outputs": [],
   "source": [
    "# Ref: https://towardsdatascience.com/overview-of-text-similarity-metrics-3397c4601f50\n",
    "\n",
    "#With cosine similarity, we need to convert sentences into vectors. \n",
    "#One way to do that is to use bag of words with either TF (term frequency) or \n",
    "#TF-IDF (term frequency- inverse document frequency). \n",
    "#TF is good for text similarity in general, but TF-IDF is good for search query relevance.\n",
    "\n",
    "# Define function to calculate the cosine similarity\n",
    "def get_cosine_sim(*strs): \n",
    "    vectors = [t for t in get_vectors(*strs)]\n",
    "    return cosine_similarity(vectors)\n",
    "\n",
    "# define function to convert string to vector    \n",
    "def get_vectors(*strs):\n",
    "    text = [t for t in strs]\n",
    "    vectorizer = CountVectorizer(text)\n",
    "    vectorizer.fit(text)\n",
    "    return vectorizer.transform(text).toarray()"
   ]
  },
  {
   "cell_type": "code",
   "execution_count": 20,
   "metadata": {
    "scrolled": true
   },
   "outputs": [],
   "source": [
    "# caculate cosine similarity among 24 titles\n",
    "title_sim_fict = get_cosine_sim(\"Asher\",\n",
    "\"The Remnant Son: Journeys of the Remnant Book 2\", \n",
    "\"Time Tunnel: The Twin Towers\", \n",
    "\"Slow Brewing Tea\",\n",
    "\"The Couple Next Door: A Novel\",\n",
    "\"I Am Watching\",\n",
    "\"The Beach House (South Carolina Sunsets Book 1)\",\n",
    "\"All the Ugly and Wonderful Things: A Novel\",\n",
    "\"The Silent Patient\", \n",
    "\"When We Believed in Mermaids: A Novel\",\n",
    "\"When the Apricots Bloom\",\n",
    "\"Mary Amazon: a novel\",\n",
    "\"The Indigo Girl: A Novel\",\n",
    "\"The Beekeeper Aleppo: A Novel\",\n",
    "\"Sold on a Monday: A Novel\",\n",
    "\"The Silent Wife: A gripping emotional page turner with a twist that will take your breath away\", \n",
    "\"The Book Woman of Troublesome Creek: A Novel\",\n",
    "\"The Alice Network: A Novel\", \n",
    "\"The Last Anniversary: A Novel\", \n",
    "\"The Other Emily\",\n",
    "\"The Indigo Girl: A Novel\",\n",
    "\"What Comes After: A Novel\",\n",
    "\"The Last Thing He Told Me: A Novel\",\n",
    "\"Before She Disappeared: A Novel\")\n",
    "\n"
   ]
  },
  {
   "cell_type": "code",
   "execution_count": 21,
   "metadata": {
    "scrolled": true
   },
   "outputs": [
    {
     "name": "stdout",
     "output_type": "stream",
     "text": [
      "Pair-wise cosine similarities for Fiction titles are:\n",
      " [[1.         0.         0.         0.         0.         0.\n",
      "  0.         0.         0.         0.         0.         0.\n",
      "  0.         0.         0.         0.         0.         0.\n",
      "  0.         0.         0.         0.         0.         0.        ]\n",
      " [0.         1.         0.25819889 0.         0.25819889 0.\n",
      "  0.32732684 0.21821789 0.33333333 0.         0.28867513 0.\n",
      "  0.28867513 0.28867513 0.         0.1490712  0.43643578 0.28867513\n",
      "  0.28867513 0.33333333 0.28867513 0.         0.21821789 0.        ]\n",
      " [0.         0.25819889 1.         0.         0.2        0.\n",
      "  0.16903085 0.16903085 0.25819889 0.         0.2236068  0.\n",
      "  0.2236068  0.2236068  0.         0.11547005 0.16903085 0.2236068\n",
      "  0.2236068  0.25819889 0.2236068  0.         0.16903085 0.        ]\n",
      " [0.         0.         0.         1.         0.         0.\n",
      "  0.         0.         0.         0.         0.         0.\n",
      "  0.         0.         0.         0.         0.         0.\n",
      "  0.         0.         0.         0.         0.         0.        ]\n",
      " [0.         0.25819889 0.2        0.         1.         0.\n",
      "  0.16903085 0.3380617  0.25819889 0.18257419 0.2236068  0.25819889\n",
      "  0.4472136  0.4472136  0.2236068  0.11547005 0.3380617  0.4472136\n",
      "  0.4472136  0.25819889 0.4472136  0.2236068  0.3380617  0.2236068 ]\n",
      " [0.         0.         0.         0.         0.         1.\n",
      "  0.         0.         0.         0.         0.         0.\n",
      "  0.         0.         0.         0.         0.         0.\n",
      "  0.         0.         0.         0.         0.         0.        ]\n",
      " [0.         0.32732684 0.16903085 0.         0.16903085 0.\n",
      "  1.         0.14285714 0.21821789 0.         0.18898224 0.\n",
      "  0.18898224 0.18898224 0.         0.09759001 0.28571429 0.18898224\n",
      "  0.18898224 0.21821789 0.18898224 0.         0.14285714 0.        ]\n",
      " [0.         0.21821789 0.16903085 0.         0.3380617  0.\n",
      "  0.14285714 1.         0.21821789 0.15430335 0.18898224 0.21821789\n",
      "  0.37796447 0.37796447 0.18898224 0.09759001 0.28571429 0.37796447\n",
      "  0.37796447 0.21821789 0.37796447 0.18898224 0.28571429 0.18898224]\n",
      " [0.         0.33333333 0.25819889 0.         0.25819889 0.\n",
      "  0.21821789 0.21821789 1.         0.         0.28867513 0.\n",
      "  0.28867513 0.28867513 0.         0.2981424  0.21821789 0.28867513\n",
      "  0.28867513 0.33333333 0.28867513 0.         0.21821789 0.        ]\n",
      " [0.         0.         0.         0.         0.18257419 0.\n",
      "  0.         0.15430335 0.         1.         0.20412415 0.23570226\n",
      "  0.20412415 0.20412415 0.20412415 0.         0.15430335 0.20412415\n",
      "  0.20412415 0.         0.20412415 0.20412415 0.15430335 0.20412415]\n",
      " [0.         0.28867513 0.2236068  0.         0.2236068  0.\n",
      "  0.18898224 0.18898224 0.28867513 0.20412415 1.         0.\n",
      "  0.25       0.25       0.         0.12909944 0.18898224 0.25\n",
      "  0.25       0.28867513 0.25       0.         0.18898224 0.        ]\n",
      " [0.         0.         0.         0.         0.25819889 0.\n",
      "  0.         0.21821789 0.         0.23570226 0.         1.\n",
      "  0.28867513 0.28867513 0.28867513 0.         0.21821789 0.28867513\n",
      "  0.28867513 0.         0.28867513 0.28867513 0.21821789 0.28867513]\n",
      " [0.         0.28867513 0.2236068  0.         0.4472136  0.\n",
      "  0.18898224 0.37796447 0.28867513 0.20412415 0.25       0.28867513\n",
      "  1.         0.5        0.25       0.12909944 0.37796447 0.5\n",
      "  0.5        0.28867513 1.         0.25       0.37796447 0.25      ]\n",
      " [0.         0.28867513 0.2236068  0.         0.4472136  0.\n",
      "  0.18898224 0.37796447 0.28867513 0.20412415 0.25       0.28867513\n",
      "  0.5        1.         0.25       0.12909944 0.37796447 0.5\n",
      "  0.5        0.28867513 0.5        0.25       0.37796447 0.25      ]\n",
      " [0.         0.         0.         0.         0.2236068  0.\n",
      "  0.         0.18898224 0.         0.20412415 0.         0.28867513\n",
      "  0.25       0.25       1.         0.         0.18898224 0.25\n",
      "  0.25       0.         0.25       0.25       0.18898224 0.25      ]\n",
      " [0.         0.1490712  0.11547005 0.         0.11547005 0.\n",
      "  0.09759001 0.09759001 0.2981424  0.         0.12909944 0.\n",
      "  0.12909944 0.12909944 0.         1.         0.09759001 0.12909944\n",
      "  0.12909944 0.1490712  0.12909944 0.         0.09759001 0.        ]\n",
      " [0.         0.43643578 0.16903085 0.         0.3380617  0.\n",
      "  0.28571429 0.28571429 0.21821789 0.15430335 0.18898224 0.21821789\n",
      "  0.37796447 0.37796447 0.18898224 0.09759001 1.         0.37796447\n",
      "  0.37796447 0.21821789 0.37796447 0.18898224 0.28571429 0.18898224]\n",
      " [0.         0.28867513 0.2236068  0.         0.4472136  0.\n",
      "  0.18898224 0.37796447 0.28867513 0.20412415 0.25       0.28867513\n",
      "  0.5        0.5        0.25       0.12909944 0.37796447 1.\n",
      "  0.5        0.28867513 0.5        0.25       0.37796447 0.25      ]\n",
      " [0.         0.28867513 0.2236068  0.         0.4472136  0.\n",
      "  0.18898224 0.37796447 0.28867513 0.20412415 0.25       0.28867513\n",
      "  0.5        0.5        0.25       0.12909944 0.37796447 0.5\n",
      "  1.         0.28867513 0.5        0.25       0.56694671 0.25      ]\n",
      " [0.         0.33333333 0.25819889 0.         0.25819889 0.\n",
      "  0.21821789 0.21821789 0.33333333 0.         0.28867513 0.\n",
      "  0.28867513 0.28867513 0.         0.1490712  0.21821789 0.28867513\n",
      "  0.28867513 1.         0.28867513 0.         0.21821789 0.        ]\n",
      " [0.         0.28867513 0.2236068  0.         0.4472136  0.\n",
      "  0.18898224 0.37796447 0.28867513 0.20412415 0.25       0.28867513\n",
      "  1.         0.5        0.25       0.12909944 0.37796447 0.5\n",
      "  0.5        0.28867513 1.         0.25       0.37796447 0.25      ]\n",
      " [0.         0.         0.         0.         0.2236068  0.\n",
      "  0.         0.18898224 0.         0.20412415 0.         0.28867513\n",
      "  0.25       0.25       0.25       0.         0.18898224 0.25\n",
      "  0.25       0.         0.25       1.         0.18898224 0.25      ]\n",
      " [0.         0.21821789 0.16903085 0.         0.3380617  0.\n",
      "  0.14285714 0.28571429 0.21821789 0.15430335 0.18898224 0.21821789\n",
      "  0.37796447 0.37796447 0.18898224 0.09759001 0.28571429 0.37796447\n",
      "  0.56694671 0.21821789 0.37796447 0.18898224 1.         0.18898224]\n",
      " [0.         0.         0.         0.         0.2236068  0.\n",
      "  0.         0.18898224 0.         0.20412415 0.         0.28867513\n",
      "  0.25       0.25       0.25       0.         0.18898224 0.25\n",
      "  0.25       0.         0.25       0.25       0.18898224 1.        ]]\n"
     ]
    }
   ],
   "source": [
    "print(\"Pair-wise cosine similarities for Fiction titles are:\\n\", title_sim_fict)"
   ]
  },
  {
   "cell_type": "markdown",
   "metadata": {},
   "source": [
    "#### c.\tWhich two titles are the most similar to each other? Which are the most dissimilar? Where do they rank, among the first 24 results?"
   ]
  },
  {
   "cell_type": "code",
   "execution_count": 22,
   "metadata": {},
   "outputs": [],
   "source": [
    "# In above table value 1 are in diagonal or array. That is expected as strings are compared with it self. \n",
    "# Remove or mask the value of 1 (>= 1) to remove from ploting to find similarity.\n",
    "m_title_sim_fict = np.ma.MaskedArray(title_sim_fict, np.around(title_sim_fict, 2) >=1)"
   ]
  },
  {
   "cell_type": "code",
   "execution_count": 23,
   "metadata": {},
   "outputs": [
    {
     "data": {
      "image/png": "[encoded data removed]",
      "text/plain": [
       "<Figure size 432x288 with 1 Axes>"
      ]
     },
     "metadata": {
      "needs_background": "light"
     },
     "output_type": "display_data"
    }
   ],
   "source": [
    "\n",
    "#then we will plot the heat map; we will use title numbers for axex, as the titles are too long\n",
    "title_nums = [*range(1,25)]\n",
    "plt.clf()\n",
    "plt.imshow(m_title_sim_fict, cmap='Reds')\n",
    "plt.xticks(np.arange(len(title_nums)), title_nums)\n",
    "plt.yticks(np.arange(len(title_nums)), title_nums)\n",
    "plt.title(\"Fiction Title Similarity Heatmap\")\n",
    "plt.show()"
   ]
  },
  {
   "cell_type": "markdown",
   "metadata": {},
   "source": [
    "##### Maximum Cosine Similarity\n",
    "Title 19 and 23 show maximum cosine similrity with a score of 0.56694671. \n",
    "\n",
    "19: \"**The Last** Anniversary **: A Novel**\"\n",
    "\n",
    "23: \"**The Last** Thing He Told Me **: A Novel**\"\n",
    "\n"
   ]
  },
  {
   "cell_type": "code",
   "execution_count": 24,
   "metadata": {},
   "outputs": [
    {
     "name": "stdout",
     "output_type": "stream",
     "text": [
      "Maximum value of the array is 0.5669467095138407\n"
     ]
    }
   ],
   "source": [
    "#find maximum value\n",
    "max_value = np.max(m_title_sim_fict)\n",
    "print('Maximum value of the array is',max_value)"
   ]
  },
  {
   "cell_type": "code",
   "execution_count": 25,
   "metadata": {},
   "outputs": [
    {
     "name": "stdout",
     "output_type": "stream",
     "text": [
      "List of Indices of maximum cosine element : (array([18, 22], dtype=int64), array([22, 18], dtype=int64))\n"
     ]
    }
   ],
   "source": [
    "# find location of maximu of cosine value in the array\n",
    "loc_max_value = np.where(m_title_sim_fict == np.amax(m_title_sim_fict))\n",
    "print('List of Indices of maximum cosine element :', loc_max_value)\n"
   ]
  },
  {
   "cell_type": "markdown",
   "metadata": {},
   "source": [
    "Indeces startes from 0, so it will be **19th row and 23rd column** and **23rd row and 19th column**. "
   ]
  },
  {
   "cell_type": "markdown",
   "metadata": {},
   "source": [
    "#### Most Dissimilar Cosine Similarity"
   ]
  },
  {
   "cell_type": "markdown",
   "metadata": {},
   "source": [
    "##### Most Dissimilar Cosine Similarity\n",
    "Looking at array there are lot of zeros showing dissimilarities.\n",
    "\n",
    "Title 1, 4 and 6 appears to be very dissimilar from other titles:\n",
    "\n",
    "1: \"Asher\"\n",
    "\n",
    "4: \"Slow Brewing Tea\"\n",
    "\n",
    "6: \"I Am Watching\""
   ]
  },
  {
   "cell_type": "code",
   "execution_count": 26,
   "metadata": {},
   "outputs": [
    {
     "data": {
      "text/plain": [
       "[0.0,\n",
       " 4.264384848527811,\n",
       " 3.1078309133620956,\n",
       " 0.0,\n",
       " 5.844550923781254,\n",
       " 0.0,\n",
       " 2.9047363154684867,\n",
       " 4.991894496388329,\n",
       " 4.086129211673809,\n",
       " 2.718303803204231,\n",
       " 3.6523915354083627,\n",
       " 3.4579558976091573,\n",
       " 5.981620177266995,\n",
       " 6.481620177266995,\n",
       " 3.033352787090564,\n",
       " 1.9921816000966905,\n",
       " 5.352969529481465,\n",
       " 6.481620177266995,\n",
       " 6.67060241377161,\n",
       " 3.9370580131738224,\n",
       " 5.981620177266995,\n",
       " 3.033352787090564,\n",
       " 5.180876732892942,\n",
       " 3.033352787090564]"
      ]
     },
     "execution_count": 26,
     "metadata": {},
     "output_type": "execute_result"
    }
   ],
   "source": [
    "# Adding sum of rows aligns with visiual graph\n",
    "np.sum(m_title_sim_fict,axis=1).tolist()"
   ]
  },
  {
   "cell_type": "markdown",
   "metadata": {},
   "source": [
    "There are three rows showing lowest score, row 1,4 and 6 shows zero (0) similarity score. These three titles are not very similar with other titles. This outcomes aligns with visiual comparision of outcome. "
   ]
  },
  {
   "cell_type": "markdown",
   "metadata": {},
   "source": [
    "#### 2.\tNow evaluate using a major search engine.\n",
    "\n",
    "Submit all of your inputs and outputs and your code for this assignment, along with a brief written explanation of your findings. \n"
   ]
  },
  {
   "cell_type": "markdown",
   "metadata": {},
   "source": [
    "#### a.\tEnter one of the book titles from question 1a into Google, Bing, or Yahoo!. Copy the capsule of the first organic result and the 20th organic result. Take web results only (i.e., not video results), and skip sponsored results. "
   ]
  },
  {
   "cell_type": "markdown",
   "metadata": {},
   "source": [
    "**Searching in google:** \"The Silent Wife: A gripping emotional page turner with a twist that will take your breath away\"  from list of book in 1a. \n",
    "\n",
    "**1st orginic result :** \"The Silent Wife: A gripping emotional page turner with a twist that will take your breath away -\"\n",
    "\n",
    "**20th orginic result :** \"Read The Silent Wife A gripping emotional page turner with a twist that will take your breath...\""
   ]
  },
  {
   "cell_type": "markdown",
   "metadata": {},
   "source": [
    "#### b.\tRun the same text similarity calculation that you used for question 1b on each of these capsules in comparison to the original query (book title). "
   ]
  },
  {
   "cell_type": "code",
   "execution_count": 27,
   "metadata": {},
   "outputs": [
    {
     "name": "stdout",
     "output_type": "stream",
     "text": [
      "Pair-wise cosine similarities of two titles 1st and 20th:\n",
      " [[1.         0.93333333]\n",
      " [0.93333333 1.        ]]\n",
      "Pair-wise cosine similarities for fiction titles among title and 1st and 20th capsules are:\n",
      " [[1.         1.         0.93333333]\n",
      " [1.         1.         0.93333333]\n",
      " [0.93333333 0.93333333 1.        ]]\n"
     ]
    }
   ],
   "source": [
    "# comparison of 1st and 20th results found from google results\n",
    "google_comp_1_20 = get_cosine_sim(\"The Silent Wife: A gripping emotional page turner with a twist that will take your breath away -\",\n",
    "                                  \"Read The Silent Wife A gripping emotional page turner with a twist that will take your breath...\")\n",
    "\n",
    "\n",
    "print(\"Pair-wise cosine similarities of two titles 1st and 20th:\\n\", google_comp_1_20)\n",
    "\n",
    "\n",
    "cosine_similarity_title_cap =get_cosine_sim(\"The Silent Wife: A gripping emotional page turner with a twist that will take your breath away\",\n",
    "                                            \"The Silent Wife: A gripping emotional page turner with a twist that will take your breath away -\",\n",
    "                                            \"Read The Silent Wife A gripping emotional page turner with a twist that will take your breath...\")\n",
    "\n",
    "print(\"Pair-wise cosine similarities for fiction titles among title and 1st and 20th capsules are:\\n\", cosine_similarity_title_cap)"
   ]
  },
  {
   "cell_type": "markdown",
   "metadata": {},
   "source": [
    "#### c.\tWhich one has the highest similarity measure? "
   ]
  },
  {
   "cell_type": "markdown",
   "metadata": {},
   "source": [
    "1st search results show 100% cosine similarity, and 20th show 93% similarity with the title. This is aligned with expectation and demonstrates cosine similarity show reliable results. "
   ]
  }
 ],
 "metadata": {
  "kernelspec": {
   "display_name": "Python 3",
   "language": "python",
   "name": "python3"
  },
  "language_info": {
   "codemirror_mode": {
    "name": "ipython",
    "version": 3
   },
   "file_extension": ".py",
   "mimetype": "text/x-python",
   "name": "python",
   "nbconvert_exporter": "python",
   "pygments_lexer": "ipython3",
   "version": "3.8.8"
  }
 },
 "nbformat": 4,
 "nbformat_minor": 4
}
