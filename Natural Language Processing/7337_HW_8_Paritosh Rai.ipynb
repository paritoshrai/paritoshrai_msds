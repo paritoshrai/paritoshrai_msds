{
 "cells": [
  {
   "cell_type": "markdown",
   "id": "everyday-guard",
   "metadata": {},
   "source": [
    "### NLP - Homework 8\n",
    "#### Paritosh Rai¶"
   ]
  },
  {
   "cell_type": "code",
   "execution_count": 1,
   "id": "protected-gravity",
   "metadata": {},
   "outputs": [],
   "source": [
    "# ignore warnnings\n",
    "#https://queirozf.com/entries/suppressing-ignoring-warnings-in-python-reference-and-examples\n",
    "\n",
    "import warnings\n",
    "\n",
    "warnings.filterwarnings('ignore')\n",
    "\n",
    "# no warnings will be printed from now on\n"
   ]
  },
  {
   "cell_type": "code",
   "execution_count": 2,
   "id": "geological-relations",
   "metadata": {},
   "outputs": [],
   "source": [
    "# import required packages\n",
    "import requests\n",
    "from bs4 import BeautifulSoup\n",
    "import re\n",
    "import pandas as pd\n",
    "import numpy as np\n",
    "import itertools\n",
    "import nltk\n",
    "from nltk import word_tokenize\n",
    "import spacy # import spacy\n",
    "#import required packages\n",
    "from __future__ import print_function\n",
    "from nltk import word_tokenize\n",
    "import numpy as np\n",
    "from sklearn.metrics.pairwise import cosine_similarity\n",
    "from sklearn.feature_extraction.text import TfidfVectorizer\n",
    "import matplotlib.pyplot as plt #to plot bar chart and heatmap\n",
    "import pandas as pd\n",
    "%matplotlib inline\n",
    "from sklearn.cluster import KMeans\n",
    "from nltk.stem.snowball import SnowballStemmer\n",
    "from nltk.stem.porter import *\n",
    "import re\n",
    "import os\n",
    "import matplotlib as mpl\n",
    "from sklearn.manifold import MDS\n",
    "from matplotlib import font_manager as rcParams\n",
    "import itertools\n",
    "#load en_core_web_sm\n",
    "nlp = spacy.load('en_core_web_sm')\n",
    "\n",
    "pd.options.display.max_colwidth=500"
   ]
  },
  {
   "cell_type": "code",
   "execution_count": 3,
   "id": "dynamic-phrase",
   "metadata": {},
   "outputs": [],
   "source": [
    "def getSoup(url):\n",
    "    \"\"\"\n",
    "    Utility function which takes a url and returns a Soup object.\n",
    "    \"\"\"\n",
    "    response = requests.get(url)\n",
    "    soup = BeautifulSoup(response.text, 'html.parser')\n",
    "    \n",
    "    return soup"
   ]
  },
  {
   "cell_type": "code",
   "execution_count": 4,
   "id": "resistant-cleveland",
   "metadata": {},
   "outputs": [],
   "source": [
    "# API call to select:\n",
    "## feature films\n",
    "## which are rated atleast 4.0\n",
    "## having atleast 50,000 votes\n",
    "## in the romance genre\n",
    "## sorted by user rating\n",
    "## limit to 150 movies\n",
    "url = '''https://www.imdb.com/search/title/?title_type=feature&user_rating=4.0,10.0\n",
    "&num_votes=50000,view=simple&sort=user_rating,desc&count=150'''\n",
    "\n",
    "# get the soup from url using 'getSoup' function\n",
    "movies_soup = getSoup(url)\n",
    "# print(movies_soup)"
   ]
  },
  {
   "cell_type": "code",
   "execution_count": 76,
   "id": "average-designation",
   "metadata": {},
   "outputs": [],
   "source": [
    "# Find all a-tag with class:None\n",
    "movie_tags = movies_soup.find_all('a', attrs={'class': None})\n",
    "\n",
    "#print(movie_tags)\n",
    "\n",
    "# filter the a-tags to get just the titles\n",
    "movie_tags = [tag.attrs['href'] for tag in movie_tags \n",
    "              if tag.attrs['href'].startswith('/title') & tag.attrs['href'].endswith('/')]\n",
    "#print(movie_tags)\n",
    "\n",
    "# remove duplicate links\n",
    "movie_tags = list(dict.fromkeys(movie_tags))\n",
    "#print(movie_tags)\n",
    "\n",
    "#print(\"There are a total of \" + str(len(movie_tags)) + \" movie titles\")\n",
    "#print(\"Displaying 10 titles\")\n",
    "\n",
    "#movie_tags[:10]"
   ]
  },
  {
   "cell_type": "code",
   "execution_count": 6,
   "id": "false-valuable",
   "metadata": {},
   "outputs": [
    {
     "name": "stdout",
     "output_type": "stream",
     "text": [
      "There are a total of 150 movie user reviews\n",
      "Displaying 10 user reviews links\n"
     ]
    },
    {
     "data": {
      "text/plain": [
       "['https://www.imdb.com/title/tt0111161/reviews',\n",
       " 'https://www.imdb.com/title/tt0068646/reviews',\n",
       " 'https://www.imdb.com/title/tt10189514/reviews',\n",
       " 'https://www.imdb.com/title/tt0468569/reviews',\n",
       " 'https://www.imdb.com/title/tt0071562/reviews',\n",
       " 'https://www.imdb.com/title/tt0050083/reviews',\n",
       " 'https://www.imdb.com/title/tt0167260/reviews',\n",
       " 'https://www.imdb.com/title/tt0110912/reviews',\n",
       " 'https://www.imdb.com/title/tt0108052/reviews',\n",
       " 'https://www.imdb.com/title/tt1375666/reviews']"
      ]
     },
     "execution_count": 6,
     "metadata": {},
     "output_type": "execute_result"
    }
   ],
   "source": [
    "# movie links\n",
    "# use base_url+tag+review\n",
    "base_url = \"https://www.imdb.com\"\n",
    "movie_links = [base_url + tag + 'reviews' for tag in movie_tags]\n",
    "print(\"There are a total of \" + str(len(movie_links)) + \" movie user reviews\")\n",
    "print(\"Displaying 10 user reviews links\")\n",
    "movie_links[:10]"
   ]
  },
  {
   "cell_type": "code",
   "execution_count": 7,
   "id": "strange-relations",
   "metadata": {},
   "outputs": [],
   "source": [
    "# function to find positive and negative review\n",
    "def minMax(a):\n",
    "    '''Returns the index of negative and positive review.'''\n",
    "    \n",
    "    # get the index of least rated user review\n",
    "    minpos = a.index(min(a))\n",
    "    \n",
    "    # get the index of highest rated user review\n",
    "    maxpos = a.index(max(a))\n",
    "    \n",
    "    return minpos, maxpos"
   ]
  },
  {
   "cell_type": "code",
   "execution_count": 8,
   "id": "nasty-knight",
   "metadata": {},
   "outputs": [],
   "source": [
    "def getReviews(soup):\n",
    "    '''Function returns a negative and positive review for each movie.'''\n",
    "    \n",
    "    # get a list of user ratings\n",
    "    user_review_ratings = [tag.previous_element for tag in \n",
    "                           soup.find_all('span', attrs={'class': 'point-scale'})]\n",
    "    \n",
    "    \n",
    "    # find the index of negative and positive review\n",
    "    n_index, p_index = minMax(list(map(int, user_review_ratings)))\n",
    "    \n",
    "    \n",
    "    # get the review tags\n",
    "    user_review_list = soup.find_all('a', attrs={'class':'title'})\n",
    "    \n",
    "    \n",
    "    # get the negative and positive review tags\n",
    "    n_review_tag = user_review_list[n_index]\n",
    "    p_review_tag = user_review_list[p_index]\n",
    "    \n",
    "    # return the negative and positive review link\n",
    "    n_review_link = \"https://www.imdb.com\" + n_review_tag['href']\n",
    "    p_review_link = \"https://www.imdb.com\" + p_review_tag['href']\n",
    "    return n_review_link, p_review_link\n",
    "    "
   ]
  },
  {
   "cell_type": "code",
   "execution_count": 9,
   "id": "bright-portrait",
   "metadata": {},
   "outputs": [],
   "source": [
    "def getReviewText(review_url):\n",
    "    '''Returns the user review text given the review url.'''\n",
    "    \n",
    "    # get the review_url's soup\n",
    "    soup = getSoup(review_url)\n",
    "    \n",
    "    # find div tags with class text show-more__control\n",
    "    tag = soup.find('div', attrs={'class': 'text show-more__control'})\n",
    "    \n",
    "    return tag.getText()"
   ]
  },
  {
   "cell_type": "code",
   "execution_count": 10,
   "id": "catholic-fortune",
   "metadata": {},
   "outputs": [],
   "source": [
    "def getMovieTitle(review_url):\n",
    "    '''Returns the movie title from the review url.'''\n",
    "    \n",
    "    # get the review_url's soup\n",
    "    soup = getSoup(review_url)\n",
    "    \n",
    "    # find h1 tag\n",
    "    tag = soup.find('h1')\n",
    "    \n",
    "    return list(tag.children)[1].getText()"
   ]
  },
  {
   "cell_type": "code",
   "execution_count": 11,
   "id": "reliable-albany",
   "metadata": {},
   "outputs": [],
   "source": [
    "def getNounChunks(user_review):\n",
    "    \n",
    "    # create the doc object\n",
    "    doc = nlp(user_review)\n",
    "    \n",
    "    # get a list of noun_chunks\n",
    "    noun_chunks = list(doc.noun_chunks)\n",
    "    \n",
    "    # convert noun_chunks from span objects to strings, otherwise it won't pickle\n",
    "    noun_chunks_strlist = [chunk.text for chunk in noun_chunks]\n",
    "    \n",
    "    return noun_chunks_strlist"
   ]
  },
  {
   "cell_type": "code",
   "execution_count": 77,
   "id": "official-connection",
   "metadata": {},
   "outputs": [
    {
     "name": "stdout",
     "output_type": "stream",
     "text": [
      "300\n",
      "There are a total of 300 individual movie reviews\n",
      "Displaying 10 reviews\n"
     ]
    }
   ],
   "source": [
    "# get a list of soup objects\n",
    "movie_soups = [getSoup(link) for link in movie_links]\n",
    "\n",
    "# get all 150 movie review links\n",
    "movie_review_list = [getReviews(movie_soup) for movie_soup in movie_soups]\n",
    "\n",
    "movie_review_list = list(itertools.chain(*movie_review_list))\n",
    "print(len(movie_review_list))\n",
    "\n",
    "print(\"There are a total of \" + str(len(movie_review_list)) + \" individual movie reviews\")\n",
    "print(\"Displaying 10 reviews\")\n",
    "#movie_review_list[:10]"
   ]
  },
  {
   "cell_type": "code",
   "execution_count": 78,
   "id": "perfect-optimization",
   "metadata": {},
   "outputs": [],
   "source": [
    "# get review text from the review link\n",
    "review_texts = [getReviewText(url) for url in movie_review_list]\n",
    "\n",
    "# get movie name from the review link\n",
    "movie_titles = [getMovieTitle(url) for url in movie_review_list]\n",
    "\n",
    "# label each review with negative or positive\n",
    "review_sentiment = np.array(['negative', 'positive'] * (len(movie_review_list)//2))\n",
    "\n",
    "# construct a dataframe\n",
    "df = pd.DataFrame({'movie': movie_titles, 'user_review_permalink': movie_review_list,\n",
    "             'user_review': review_texts, 'sentiment': review_sentiment})"
   ]
  },
  {
   "cell_type": "code",
   "execution_count": 79,
   "id": "failing-stationery",
   "metadata": {},
   "outputs": [
    {
     "data": {
      "text/html": [
       "<div>\n",
       "<style scoped>\n",
       "    .dataframe tbody tr th:only-of-type {\n",
       "        vertical-align: middle;\n",
       "    }\n",
       "\n",
       "    .dataframe tbody tr th {\n",
       "        vertical-align: top;\n",
       "    }\n",
       "\n",
       "    .dataframe thead th {\n",
       "        text-align: right;\n",
       "    }\n",
       "</style>\n",
       "<table border=\"1\" class=\"dataframe\">\n",
       "  <thead>\n",
       "    <tr style=\"text-align: right;\">\n",
       "      <th></th>\n",
       "      <th>movie</th>\n",
       "      <th>user_review_permalink</th>\n",
       "      <th>user_review</th>\n",
       "      <th>sentiment</th>\n",
       "    </tr>\n",
       "  </thead>\n",
       "  <tbody>\n",
       "    <tr>\n",
       "      <th>0</th>\n",
       "      <td>The Shawshank Redemption</td>\n",
       "      <td>https://www.imdb.com/review/rw6627363/</td>\n",
       "      <td>You have already watched this, right?\\nIt is really easy to understand the love for this movie. I'll admit, when it comes to movie adaptations of books, the book is always better. How can it not be? You get way more detail than could be crammed into a two-hour movie. However, I still thoroughly enjoyed this adaptation. Yes, it does deviate from the short a little with character changes and omissions, but I don't think this film could have been any better. I am in line with the ten-star revie...</td>\n",
       "      <td>negative</td>\n",
       "    </tr>\n",
       "    <tr>\n",
       "      <th>1</th>\n",
       "      <td>The Shawshank Redemption</td>\n",
       "      <td>https://www.imdb.com/review/rw0349418/</td>\n",
       "      <td>Why do I want to write the 234th comment on The Shawshank Redemption? I am not sure - almost everything that could be possibly said about it has been said. But like so many other people who wrote comments, I was and am profoundly moved by this simple and eloquent depiction of hope and friendship and redemption. The only other movie I have ever seen that effects me as strongly is To Kill a Mockingbird. Both movies leave me feeling cleaner for having watched them.I didn't intend to see this mo...</td>\n",
       "      <td>positive</td>\n",
       "    </tr>\n",
       "    <tr>\n",
       "      <th>2</th>\n",
       "      <td>The Godfather</td>\n",
       "      <td>https://www.imdb.com/review/rw1901277/</td>\n",
       "      <td>\"The Godfather\" simply put, is one of the greatest films of all time. The script is thee best I've ever read. The direction is flawless. The acting may very well have the best ensemble cast in any movie I've ever seen or will ever see. It's also one of the most precise and intricate films I've ever come across as writer, Mario Puzo brings out some of the most hidden and guarded secrets of the underground world ever captured on film. Watching \"The Godfather,\" is like watching cinematic art. F...</td>\n",
       "      <td>negative</td>\n",
       "    </tr>\n",
       "    <tr>\n",
       "      <th>3</th>\n",
       "      <td>The Godfather</td>\n",
       "      <td>https://www.imdb.com/review/rw3038370/</td>\n",
       "      <td>'The Godfather' is the pinnacle of flawless films! The first time I viewed 'The Godfather' I was in my early teens and it was the most astounding film I had ever seen, and has since then stood as my all-time favourite film. It is due to this that I have been looking forward to writing a review of this unforgettable classic. So let's start from the beginning. The film opens to four words, 'I believe in America', it's crazy to think that this simple line has become a resonant quote solely due ...</td>\n",
       "      <td>positive</td>\n",
       "    </tr>\n",
       "    <tr>\n",
       "      <th>4</th>\n",
       "      <td>Soorarai Pottru</td>\n",
       "      <td>https://www.imdb.com/review/rw6260561/</td>\n",
       "      <td>Wonderful motivational story. Especially wonderful acting mr.suriya in airports scenes.</td>\n",
       "      <td>negative</td>\n",
       "    </tr>\n",
       "  </tbody>\n",
       "</table>\n",
       "</div>"
      ],
      "text/plain": [
       "                      movie                   user_review_permalink  \\\n",
       "0  The Shawshank Redemption  https://www.imdb.com/review/rw6627363/   \n",
       "1  The Shawshank Redemption  https://www.imdb.com/review/rw0349418/   \n",
       "2             The Godfather  https://www.imdb.com/review/rw1901277/   \n",
       "3             The Godfather  https://www.imdb.com/review/rw3038370/   \n",
       "4           Soorarai Pottru  https://www.imdb.com/review/rw6260561/   \n",
       "\n",
       "                                                                                                                                                                                                                                                                                                                                                                                                                                                                                                           user_review  \\\n",
       "0  You have already watched this, right?\\nIt is really easy to understand the love for this movie. I'll admit, when it comes to movie adaptations of books, the book is always better. How can it not be? You get way more detail than could be crammed into a two-hour movie. However, I still thoroughly enjoyed this adaptation. Yes, it does deviate from the short a little with character changes and omissions, but I don't think this film could have been any better. I am in line with the ten-star revie...   \n",
       "1  Why do I want to write the 234th comment on The Shawshank Redemption? I am not sure - almost everything that could be possibly said about it has been said. But like so many other people who wrote comments, I was and am profoundly moved by this simple and eloquent depiction of hope and friendship and redemption. The only other movie I have ever seen that effects me as strongly is To Kill a Mockingbird. Both movies leave me feeling cleaner for having watched them.I didn't intend to see this mo...   \n",
       "2  \"The Godfather\" simply put, is one of the greatest films of all time. The script is thee best I've ever read. The direction is flawless. The acting may very well have the best ensemble cast in any movie I've ever seen or will ever see. It's also one of the most precise and intricate films I've ever come across as writer, Mario Puzo brings out some of the most hidden and guarded secrets of the underground world ever captured on film. Watching \"The Godfather,\" is like watching cinematic art. F...   \n",
       "3  'The Godfather' is the pinnacle of flawless films! The first time I viewed 'The Godfather' I was in my early teens and it was the most astounding film I had ever seen, and has since then stood as my all-time favourite film. It is due to this that I have been looking forward to writing a review of this unforgettable classic. So let's start from the beginning. The film opens to four words, 'I believe in America', it's crazy to think that this simple line has become a resonant quote solely due ...   \n",
       "4                                                                                                                                                                                                                                                                                                                                                                                                                              Wonderful motivational story. Especially wonderful acting mr.suriya in airports scenes.   \n",
       "\n",
       "  sentiment  \n",
       "0  negative  \n",
       "1  positive  \n",
       "2  negative  \n",
       "3  positive  \n",
       "4  negative  "
      ]
     },
     "execution_count": 79,
     "metadata": {},
     "output_type": "execute_result"
    }
   ],
   "source": [
    "df.head() # ensure all the required fileds are there in right format"
   ]
  },
  {
   "cell_type": "markdown",
   "id": "vulnerable-collectible",
   "metadata": {},
   "source": [
    "###### Save Data in harddrive"
   ]
  },
  {
   "cell_type": "code",
   "execution_count": 80,
   "id": "closed-ensemble",
   "metadata": {},
   "outputs": [],
   "source": [
    "# save data in CSV file in given location\n",
    "df.to_csv (r'C:\\Paritosh\\SMU\\DS7337_Natural_Language_Processing\\HW\\ IMDB.csv', index = False, header=True) # save data frame in csv form"
   ]
  },
  {
   "cell_type": "code",
   "execution_count": 81,
   "id": "amended-sudan",
   "metadata": {
    "scrolled": true
   },
   "outputs": [],
   "source": [
    "df_csv = pd.read_csv(\"IMDB.csv\") # verify the data is saved "
   ]
  },
  {
   "cell_type": "code",
   "execution_count": 82,
   "id": "applied-findings",
   "metadata": {
    "scrolled": true
   },
   "outputs": [
    {
     "data": {
      "text/html": [
       "<div>\n",
       "<style scoped>\n",
       "    .dataframe tbody tr th:only-of-type {\n",
       "        vertical-align: middle;\n",
       "    }\n",
       "\n",
       "    .dataframe tbody tr th {\n",
       "        vertical-align: top;\n",
       "    }\n",
       "\n",
       "    .dataframe thead th {\n",
       "        text-align: right;\n",
       "    }\n",
       "</style>\n",
       "<table border=\"1\" class=\"dataframe\">\n",
       "  <thead>\n",
       "    <tr style=\"text-align: right;\">\n",
       "      <th></th>\n",
       "      <th>Unnamed: 0</th>\n",
       "      <th>movie</th>\n",
       "      <th>user_review_permalink</th>\n",
       "      <th>user_review</th>\n",
       "      <th>sentiment</th>\n",
       "    </tr>\n",
       "  </thead>\n",
       "  <tbody>\n",
       "    <tr>\n",
       "      <th>0</th>\n",
       "      <td>0</td>\n",
       "      <td>The Shawshank Redemption</td>\n",
       "      <td>https://www.imdb.com/review/rw6627363/</td>\n",
       "      <td>You have already watched this, right?\\nIt is really easy to understand the love for this movie. I'll admit, when it comes to movie adaptations of books, the book is always better. How can it not be? You get way more detail than could be crammed into a two-hour movie. However, I still thoroughly enjoyed this adaptation. Yes, it does deviate from the short a little with character changes and omissions, but I don't think this film could have been any better. I am in line with the ten-star revie...</td>\n",
       "      <td>negative</td>\n",
       "    </tr>\n",
       "    <tr>\n",
       "      <th>1</th>\n",
       "      <td>1</td>\n",
       "      <td>The Shawshank Redemption</td>\n",
       "      <td>https://www.imdb.com/review/rw0349418/</td>\n",
       "      <td>Why do I want to write the 234th comment on The Shawshank Redemption? I am not sure - almost everything that could be possibly said about it has been said. But like so many other people who wrote comments, I was and am profoundly moved by this simple and eloquent depiction of hope and friendship and redemption. The only other movie I have ever seen that effects me as strongly is To Kill a Mockingbird. Both movies leave me feeling cleaner for having watched them.I didn't intend to see this mo...</td>\n",
       "      <td>positive</td>\n",
       "    </tr>\n",
       "    <tr>\n",
       "      <th>2</th>\n",
       "      <td>2</td>\n",
       "      <td>The Godfather</td>\n",
       "      <td>https://www.imdb.com/review/rw1901277/</td>\n",
       "      <td>\"The Godfather\" simply put, is one of the greatest films of all time. The script is thee best I've ever read. The direction is flawless. The acting may very well have the best ensemble cast in any movie I've ever seen or will ever see. It's also one of the most precise and intricate films I've ever come across as writer, Mario Puzo brings out some of the most hidden and guarded secrets of the underground world ever captured on film. Watching \"The Godfather,\" is like watching cinematic art. F...</td>\n",
       "      <td>negative</td>\n",
       "    </tr>\n",
       "    <tr>\n",
       "      <th>3</th>\n",
       "      <td>3</td>\n",
       "      <td>The Godfather</td>\n",
       "      <td>https://www.imdb.com/review/rw3038370/</td>\n",
       "      <td>'The Godfather' is the pinnacle of flawless films! The first time I viewed 'The Godfather' I was in my early teens and it was the most astounding film I had ever seen, and has since then stood as my all-time favourite film. It is due to this that I have been looking forward to writing a review of this unforgettable classic. So let's start from the beginning. The film opens to four words, 'I believe in America', it's crazy to think that this simple line has become a resonant quote solely due ...</td>\n",
       "      <td>positive</td>\n",
       "    </tr>\n",
       "    <tr>\n",
       "      <th>4</th>\n",
       "      <td>4</td>\n",
       "      <td>Soorarai Pottru</td>\n",
       "      <td>https://www.imdb.com/review/rw6260561/</td>\n",
       "      <td>Wonderful motivational story. Especially wonderful acting mr.suriya in airports scenes.</td>\n",
       "      <td>negative</td>\n",
       "    </tr>\n",
       "  </tbody>\n",
       "</table>\n",
       "</div>"
      ],
      "text/plain": [
       "   Unnamed: 0                     movie  \\\n",
       "0           0  The Shawshank Redemption   \n",
       "1           1  The Shawshank Redemption   \n",
       "2           2             The Godfather   \n",
       "3           3             The Godfather   \n",
       "4           4           Soorarai Pottru   \n",
       "\n",
       "                    user_review_permalink  \\\n",
       "0  https://www.imdb.com/review/rw6627363/   \n",
       "1  https://www.imdb.com/review/rw0349418/   \n",
       "2  https://www.imdb.com/review/rw1901277/   \n",
       "3  https://www.imdb.com/review/rw3038370/   \n",
       "4  https://www.imdb.com/review/rw6260561/   \n",
       "\n",
       "                                                                                                                                                                                                                                                                                                                                                                                                                                                                                                           user_review  \\\n",
       "0  You have already watched this, right?\\nIt is really easy to understand the love for this movie. I'll admit, when it comes to movie adaptations of books, the book is always better. How can it not be? You get way more detail than could be crammed into a two-hour movie. However, I still thoroughly enjoyed this adaptation. Yes, it does deviate from the short a little with character changes and omissions, but I don't think this film could have been any better. I am in line with the ten-star revie...   \n",
       "1  Why do I want to write the 234th comment on The Shawshank Redemption? I am not sure - almost everything that could be possibly said about it has been said. But like so many other people who wrote comments, I was and am profoundly moved by this simple and eloquent depiction of hope and friendship and redemption. The only other movie I have ever seen that effects me as strongly is To Kill a Mockingbird. Both movies leave me feeling cleaner for having watched them.I didn't intend to see this mo...   \n",
       "2  \"The Godfather\" simply put, is one of the greatest films of all time. The script is thee best I've ever read. The direction is flawless. The acting may very well have the best ensemble cast in any movie I've ever seen or will ever see. It's also one of the most precise and intricate films I've ever come across as writer, Mario Puzo brings out some of the most hidden and guarded secrets of the underground world ever captured on film. Watching \"The Godfather,\" is like watching cinematic art. F...   \n",
       "3  'The Godfather' is the pinnacle of flawless films! The first time I viewed 'The Godfather' I was in my early teens and it was the most astounding film I had ever seen, and has since then stood as my all-time favourite film. It is due to this that I have been looking forward to writing a review of this unforgettable classic. So let's start from the beginning. The film opens to four words, 'I believe in America', it's crazy to think that this simple line has become a resonant quote solely due ...   \n",
       "4                                                                                                                                                                                                                                                                                                                                                                                                                              Wonderful motivational story. Especially wonderful acting mr.suriya in airports scenes.   \n",
       "\n",
       "  sentiment  \n",
       "0  negative  \n",
       "1  positive  \n",
       "2  negative  \n",
       "3  positive  \n",
       "4  negative  "
      ]
     },
     "execution_count": 82,
     "metadata": {},
     "output_type": "execute_result"
    }
   ],
   "source": [
    "df_csv.head() # validate the information"
   ]
  },
  {
   "cell_type": "code",
   "execution_count": 83,
   "id": "different-century",
   "metadata": {},
   "outputs": [],
   "source": [
    "df1=df # we will use df1 datafarme for question 1"
   ]
  },
  {
   "cell_type": "markdown",
   "id": "hybrid-material",
   "metadata": {},
   "source": [
    "##### Perform a vocabulary-based sentiment analysis of the movie reviews you used in homework 5 and homework 7, by doing the following:\n",
    "\n",
    "##### 1.\tIn Python, load one of the sentiment vocabularies referenced in the textbook, and run the sentiment analyzer as explained in the corresponding reference. Add words to the sentiment vocabulary, if you think you need to, to better fit your particular text collection."
   ]
  },
  {
   "cell_type": "code",
   "execution_count": 84,
   "id": "organized-cowboy",
   "metadata": {},
   "outputs": [],
   "source": [
    "#Load the spacy's embedded word vector, download the larger spacy english models is used to ensure largest set of words are included.\n",
    "\n",
    "nlp=spacy.load('en_core_web_lg') "
   ]
  },
  {
   "cell_type": "code",
   "execution_count": 85,
   "id": "spanish-airport",
   "metadata": {},
   "outputs": [
    {
     "name": "stderr",
     "output_type": "stream",
     "text": [
      "[nltk_data] Downloading package vader_lexicon to\n",
      "[nltk_data]     C:\\Users\\parit\\AppData\\Roaming\\nltk_data...\n",
      "[nltk_data]   Package vader_lexicon is already up-to-date!\n"
     ]
    },
    {
     "data": {
      "text/plain": [
       "True"
      ]
     },
     "execution_count": 85,
     "metadata": {},
     "output_type": "execute_result"
    }
   ],
   "source": [
    "nltk.download('vader_lexicon') # download vader_lexian\n",
    "# VADER (Valence Aware Dictionary and sEntiment Reasoner) is a lexicon.\n",
    "# VADER is rule-based sentiment analysis tool that is specifically attuned to sentiments expressed in social media."
   ]
  },
  {
   "cell_type": "code",
   "execution_count": 86,
   "id": "opened-tomorrow",
   "metadata": {},
   "outputs": [],
   "source": [
    "# import SentimentIntensityAnalyzer\n",
    "from nltk.sentiment.vader import SentimentIntensityAnalyzer \n",
    "sid=SentimentIntensityAnalyzer()\n",
    "\n",
    "# SentimentIntensityAnalyzer gives a dictionaly of score in four category: \n",
    "# Negative, Neutral, posivite and compund score"
   ]
  },
  {
   "cell_type": "code",
   "execution_count": 87,
   "id": "unavailable-relations",
   "metadata": {},
   "outputs": [
    {
     "data": {
      "text/plain": [
       "positive    150\n",
       "negative    150\n",
       "Name: sentiment, dtype: int64"
      ]
     },
     "execution_count": 87,
     "metadata": {},
     "output_type": "execute_result"
    }
   ],
   "source": [
    "df1['sentiment'].value_counts() # count number of positive and negative sentiment"
   ]
  },
  {
   "cell_type": "markdown",
   "id": "liked-preserve",
   "metadata": {},
   "source": [
    "150 samples are postive sentimnet and 150 are negative sentiment"
   ]
  },
  {
   "cell_type": "code",
   "execution_count": 88,
   "id": "covered-internship",
   "metadata": {},
   "outputs": [],
   "source": [
    "# data clean up if required. Data provided was a clean data \n",
    "# Remove na if any\n",
    "df1.dropna(inplace=True)"
   ]
  },
  {
   "cell_type": "markdown",
   "id": "subjective-twins",
   "metadata": {},
   "source": [
    "###### Validate effectiness of VADR and SentimentIntensityAnalyzer"
   ]
  },
  {
   "cell_type": "code",
   "execution_count": 89,
   "id": "speaking-portfolio",
   "metadata": {
    "scrolled": true
   },
   "outputs": [
    {
     "data": {
      "text/plain": [
       "\"You have already watched this, right?\\nIt is really easy to understand the love for this movie. I'll admit, when it comes to movie adaptations of books, the book is always better. How can it not be? You get way more detail than could be crammed into a two-hour movie. However, I still thoroughly enjoyed this adaptation. Yes, it does deviate from the short a little with character changes and omissions, but I don't think this film could have been any better. I am in line with the ten-star reviews that I'm seeing and the only reason I am not giving this parable for hope a ten myself is because I don't as a rule.\\nHope, aspiration, fighting the system, justice and humanism against the tyranny of the mainstream society/religion. This is the film.\""
      ]
     },
     "execution_count": 89,
     "metadata": {},
     "output_type": "execute_result"
    }
   ],
   "source": [
    "# read 2nd review:\n",
    "df1.iloc[0]['user_review']"
   ]
  },
  {
   "cell_type": "code",
   "execution_count": 90,
   "id": "pharmaceutical-prospect",
   "metadata": {},
   "outputs": [
    {
     "data": {
      "text/plain": [
       "{'neg': 0.08, 'neu': 0.714, 'pos': 0.207, 'compound': 0.9939}"
      ]
     },
     "execution_count": 90,
     "metadata": {},
     "output_type": "execute_result"
    }
   ],
   "source": [
    "# look at sid ploarity_scores 2nd record\n",
    "sid.polarity_scores(df1.iloc[1]['user_review'])"
   ]
  },
  {
   "cell_type": "markdown",
   "id": "radical-floating",
   "metadata": {},
   "source": [
    "Very low negative score (neg), high neutral score (neu) and postive score (pos). Most of it was neutral and some positive. \n",
    "Compound score is high (close to 1) and greater than zero. So looks like positove review based on vader SentimentIntensityAnalyzer. It is align with rating by user."
   ]
  },
  {
   "cell_type": "code",
   "execution_count": 91,
   "id": "roman-attachment",
   "metadata": {},
   "outputs": [],
   "source": [
    "# Apply this to dataframe and add polarity score as score\n",
    "df1['scores'] = df1['user_review'].apply(lambda user_review: sid.polarity_scores(user_review))"
   ]
  },
  {
   "cell_type": "code",
   "execution_count": 92,
   "id": "spare-plain",
   "metadata": {},
   "outputs": [
    {
     "data": {
      "text/html": [
       "<div>\n",
       "<style scoped>\n",
       "    .dataframe tbody tr th:only-of-type {\n",
       "        vertical-align: middle;\n",
       "    }\n",
       "\n",
       "    .dataframe tbody tr th {\n",
       "        vertical-align: top;\n",
       "    }\n",
       "\n",
       "    .dataframe thead th {\n",
       "        text-align: right;\n",
       "    }\n",
       "</style>\n",
       "<table border=\"1\" class=\"dataframe\">\n",
       "  <thead>\n",
       "    <tr style=\"text-align: right;\">\n",
       "      <th></th>\n",
       "      <th>movie</th>\n",
       "      <th>user_review_permalink</th>\n",
       "      <th>user_review</th>\n",
       "      <th>sentiment</th>\n",
       "      <th>scores</th>\n",
       "    </tr>\n",
       "  </thead>\n",
       "  <tbody>\n",
       "    <tr>\n",
       "      <th>0</th>\n",
       "      <td>The Shawshank Redemption</td>\n",
       "      <td>https://www.imdb.com/review/rw6627363/</td>\n",
       "      <td>You have already watched this, right?\\nIt is really easy to understand the love for this movie. I'll admit, when it comes to movie adaptations of books, the book is always better. How can it not be? You get way more detail than could be crammed into a two-hour movie. However, I still thoroughly enjoyed this adaptation. Yes, it does deviate from the short a little with character changes and omissions, but I don't think this film could have been any better. I am in line with the ten-star revie...</td>\n",
       "      <td>negative</td>\n",
       "      <td>{'neg': 0.061, 'neu': 0.77, 'pos': 0.169, 'compound': 0.9318}</td>\n",
       "    </tr>\n",
       "    <tr>\n",
       "      <th>1</th>\n",
       "      <td>The Shawshank Redemption</td>\n",
       "      <td>https://www.imdb.com/review/rw0349418/</td>\n",
       "      <td>Why do I want to write the 234th comment on The Shawshank Redemption? I am not sure - almost everything that could be possibly said about it has been said. But like so many other people who wrote comments, I was and am profoundly moved by this simple and eloquent depiction of hope and friendship and redemption. The only other movie I have ever seen that effects me as strongly is To Kill a Mockingbird. Both movies leave me feeling cleaner for having watched them.I didn't intend to see this mo...</td>\n",
       "      <td>positive</td>\n",
       "      <td>{'neg': 0.08, 'neu': 0.714, 'pos': 0.207, 'compound': 0.9939}</td>\n",
       "    </tr>\n",
       "    <tr>\n",
       "      <th>2</th>\n",
       "      <td>The Godfather</td>\n",
       "      <td>https://www.imdb.com/review/rw1901277/</td>\n",
       "      <td>\"The Godfather\" simply put, is one of the greatest films of all time. The script is thee best I've ever read. The direction is flawless. The acting may very well have the best ensemble cast in any movie I've ever seen or will ever see. It's also one of the most precise and intricate films I've ever come across as writer, Mario Puzo brings out some of the most hidden and guarded secrets of the underground world ever captured on film. Watching \"The Godfather,\" is like watching cinematic art. F...</td>\n",
       "      <td>negative</td>\n",
       "      <td>{'neg': 0.051, 'neu': 0.81, 'pos': 0.138, 'compound': 0.9984}</td>\n",
       "    </tr>\n",
       "    <tr>\n",
       "      <th>3</th>\n",
       "      <td>The Godfather</td>\n",
       "      <td>https://www.imdb.com/review/rw3038370/</td>\n",
       "      <td>'The Godfather' is the pinnacle of flawless films! The first time I viewed 'The Godfather' I was in my early teens and it was the most astounding film I had ever seen, and has since then stood as my all-time favourite film. It is due to this that I have been looking forward to writing a review of this unforgettable classic. So let's start from the beginning. The film opens to four words, 'I believe in America', it's crazy to think that this simple line has become a resonant quote solely due ...</td>\n",
       "      <td>positive</td>\n",
       "      <td>{'neg': 0.106, 'neu': 0.711, 'pos': 0.183, 'compound': 0.9897}</td>\n",
       "    </tr>\n",
       "    <tr>\n",
       "      <th>4</th>\n",
       "      <td>Soorarai Pottru</td>\n",
       "      <td>https://www.imdb.com/review/rw6260561/</td>\n",
       "      <td>Wonderful motivational story. Especially wonderful acting mr.suriya in airports scenes.</td>\n",
       "      <td>negative</td>\n",
       "      <td>{'neg': 0.0, 'neu': 0.51, 'pos': 0.49, 'compound': 0.8268}</td>\n",
       "    </tr>\n",
       "  </tbody>\n",
       "</table>\n",
       "</div>"
      ],
      "text/plain": [
       "                      movie                   user_review_permalink  \\\n",
       "0  The Shawshank Redemption  https://www.imdb.com/review/rw6627363/   \n",
       "1  The Shawshank Redemption  https://www.imdb.com/review/rw0349418/   \n",
       "2             The Godfather  https://www.imdb.com/review/rw1901277/   \n",
       "3             The Godfather  https://www.imdb.com/review/rw3038370/   \n",
       "4           Soorarai Pottru  https://www.imdb.com/review/rw6260561/   \n",
       "\n",
       "                                                                                                                                                                                                                                                                                                                                                                                                                                                                                                           user_review  \\\n",
       "0  You have already watched this, right?\\nIt is really easy to understand the love for this movie. I'll admit, when it comes to movie adaptations of books, the book is always better. How can it not be? You get way more detail than could be crammed into a two-hour movie. However, I still thoroughly enjoyed this adaptation. Yes, it does deviate from the short a little with character changes and omissions, but I don't think this film could have been any better. I am in line with the ten-star revie...   \n",
       "1  Why do I want to write the 234th comment on The Shawshank Redemption? I am not sure - almost everything that could be possibly said about it has been said. But like so many other people who wrote comments, I was and am profoundly moved by this simple and eloquent depiction of hope and friendship and redemption. The only other movie I have ever seen that effects me as strongly is To Kill a Mockingbird. Both movies leave me feeling cleaner for having watched them.I didn't intend to see this mo...   \n",
       "2  \"The Godfather\" simply put, is one of the greatest films of all time. The script is thee best I've ever read. The direction is flawless. The acting may very well have the best ensemble cast in any movie I've ever seen or will ever see. It's also one of the most precise and intricate films I've ever come across as writer, Mario Puzo brings out some of the most hidden and guarded secrets of the underground world ever captured on film. Watching \"The Godfather,\" is like watching cinematic art. F...   \n",
       "3  'The Godfather' is the pinnacle of flawless films! The first time I viewed 'The Godfather' I was in my early teens and it was the most astounding film I had ever seen, and has since then stood as my all-time favourite film. It is due to this that I have been looking forward to writing a review of this unforgettable classic. So let's start from the beginning. The film opens to four words, 'I believe in America', it's crazy to think that this simple line has become a resonant quote solely due ...   \n",
       "4                                                                                                                                                                                                                                                                                                                                                                                                                              Wonderful motivational story. Especially wonderful acting mr.suriya in airports scenes.   \n",
       "\n",
       "  sentiment                                                          scores  \n",
       "0  negative   {'neg': 0.061, 'neu': 0.77, 'pos': 0.169, 'compound': 0.9318}  \n",
       "1  positive   {'neg': 0.08, 'neu': 0.714, 'pos': 0.207, 'compound': 0.9939}  \n",
       "2  negative   {'neg': 0.051, 'neu': 0.81, 'pos': 0.138, 'compound': 0.9984}  \n",
       "3  positive  {'neg': 0.106, 'neu': 0.711, 'pos': 0.183, 'compound': 0.9897}  \n",
       "4  negative      {'neg': 0.0, 'neu': 0.51, 'pos': 0.49, 'compound': 0.8268}  "
      ]
     },
     "execution_count": 92,
     "metadata": {},
     "output_type": "execute_result"
    }
   ],
   "source": [
    "# check first place\n",
    "df1.head()\n",
    "# new column is added a disctionary with four scores"
   ]
  },
  {
   "cell_type": "code",
   "execution_count": 93,
   "id": "saved-myanmar",
   "metadata": {},
   "outputs": [],
   "source": [
    "# We will leverage compund score to udentify sentiments\n",
    "# add a column with compound score to dataframe from the dictionary\n",
    "\n",
    "df1['compound'] = df1['scores'].apply(lambda d:d['compound'])\n"
   ]
  },
  {
   "cell_type": "code",
   "execution_count": 94,
   "id": "forbidden-powder",
   "metadata": {},
   "outputs": [
    {
     "data": {
      "text/html": [
       "<div>\n",
       "<style scoped>\n",
       "    .dataframe tbody tr th:only-of-type {\n",
       "        vertical-align: middle;\n",
       "    }\n",
       "\n",
       "    .dataframe tbody tr th {\n",
       "        vertical-align: top;\n",
       "    }\n",
       "\n",
       "    .dataframe thead th {\n",
       "        text-align: right;\n",
       "    }\n",
       "</style>\n",
       "<table border=\"1\" class=\"dataframe\">\n",
       "  <thead>\n",
       "    <tr style=\"text-align: right;\">\n",
       "      <th></th>\n",
       "      <th>movie</th>\n",
       "      <th>user_review_permalink</th>\n",
       "      <th>user_review</th>\n",
       "      <th>sentiment</th>\n",
       "      <th>scores</th>\n",
       "      <th>compound</th>\n",
       "    </tr>\n",
       "  </thead>\n",
       "  <tbody>\n",
       "    <tr>\n",
       "      <th>0</th>\n",
       "      <td>The Shawshank Redemption</td>\n",
       "      <td>https://www.imdb.com/review/rw6627363/</td>\n",
       "      <td>You have already watched this, right?\\nIt is really easy to understand the love for this movie. I'll admit, when it comes to movie adaptations of books, the book is always better. How can it not be? You get way more detail than could be crammed into a two-hour movie. However, I still thoroughly enjoyed this adaptation. Yes, it does deviate from the short a little with character changes and omissions, but I don't think this film could have been any better. I am in line with the ten-star revie...</td>\n",
       "      <td>negative</td>\n",
       "      <td>{'neg': 0.061, 'neu': 0.77, 'pos': 0.169, 'compound': 0.9318}</td>\n",
       "      <td>0.9318</td>\n",
       "    </tr>\n",
       "    <tr>\n",
       "      <th>1</th>\n",
       "      <td>The Shawshank Redemption</td>\n",
       "      <td>https://www.imdb.com/review/rw0349418/</td>\n",
       "      <td>Why do I want to write the 234th comment on The Shawshank Redemption? I am not sure - almost everything that could be possibly said about it has been said. But like so many other people who wrote comments, I was and am profoundly moved by this simple and eloquent depiction of hope and friendship and redemption. The only other movie I have ever seen that effects me as strongly is To Kill a Mockingbird. Both movies leave me feeling cleaner for having watched them.I didn't intend to see this mo...</td>\n",
       "      <td>positive</td>\n",
       "      <td>{'neg': 0.08, 'neu': 0.714, 'pos': 0.207, 'compound': 0.9939}</td>\n",
       "      <td>0.9939</td>\n",
       "    </tr>\n",
       "    <tr>\n",
       "      <th>2</th>\n",
       "      <td>The Godfather</td>\n",
       "      <td>https://www.imdb.com/review/rw1901277/</td>\n",
       "      <td>\"The Godfather\" simply put, is one of the greatest films of all time. The script is thee best I've ever read. The direction is flawless. The acting may very well have the best ensemble cast in any movie I've ever seen or will ever see. It's also one of the most precise and intricate films I've ever come across as writer, Mario Puzo brings out some of the most hidden and guarded secrets of the underground world ever captured on film. Watching \"The Godfather,\" is like watching cinematic art. F...</td>\n",
       "      <td>negative</td>\n",
       "      <td>{'neg': 0.051, 'neu': 0.81, 'pos': 0.138, 'compound': 0.9984}</td>\n",
       "      <td>0.9984</td>\n",
       "    </tr>\n",
       "    <tr>\n",
       "      <th>3</th>\n",
       "      <td>The Godfather</td>\n",
       "      <td>https://www.imdb.com/review/rw3038370/</td>\n",
       "      <td>'The Godfather' is the pinnacle of flawless films! The first time I viewed 'The Godfather' I was in my early teens and it was the most astounding film I had ever seen, and has since then stood as my all-time favourite film. It is due to this that I have been looking forward to writing a review of this unforgettable classic. So let's start from the beginning. The film opens to four words, 'I believe in America', it's crazy to think that this simple line has become a resonant quote solely due ...</td>\n",
       "      <td>positive</td>\n",
       "      <td>{'neg': 0.106, 'neu': 0.711, 'pos': 0.183, 'compound': 0.9897}</td>\n",
       "      <td>0.9897</td>\n",
       "    </tr>\n",
       "    <tr>\n",
       "      <th>4</th>\n",
       "      <td>Soorarai Pottru</td>\n",
       "      <td>https://www.imdb.com/review/rw6260561/</td>\n",
       "      <td>Wonderful motivational story. Especially wonderful acting mr.suriya in airports scenes.</td>\n",
       "      <td>negative</td>\n",
       "      <td>{'neg': 0.0, 'neu': 0.51, 'pos': 0.49, 'compound': 0.8268}</td>\n",
       "      <td>0.8268</td>\n",
       "    </tr>\n",
       "  </tbody>\n",
       "</table>\n",
       "</div>"
      ],
      "text/plain": [
       "                      movie                   user_review_permalink  \\\n",
       "0  The Shawshank Redemption  https://www.imdb.com/review/rw6627363/   \n",
       "1  The Shawshank Redemption  https://www.imdb.com/review/rw0349418/   \n",
       "2             The Godfather  https://www.imdb.com/review/rw1901277/   \n",
       "3             The Godfather  https://www.imdb.com/review/rw3038370/   \n",
       "4           Soorarai Pottru  https://www.imdb.com/review/rw6260561/   \n",
       "\n",
       "                                                                                                                                                                                                                                                                                                                                                                                                                                                                                                           user_review  \\\n",
       "0  You have already watched this, right?\\nIt is really easy to understand the love for this movie. I'll admit, when it comes to movie adaptations of books, the book is always better. How can it not be? You get way more detail than could be crammed into a two-hour movie. However, I still thoroughly enjoyed this adaptation. Yes, it does deviate from the short a little with character changes and omissions, but I don't think this film could have been any better. I am in line with the ten-star revie...   \n",
       "1  Why do I want to write the 234th comment on The Shawshank Redemption? I am not sure - almost everything that could be possibly said about it has been said. But like so many other people who wrote comments, I was and am profoundly moved by this simple and eloquent depiction of hope and friendship and redemption. The only other movie I have ever seen that effects me as strongly is To Kill a Mockingbird. Both movies leave me feeling cleaner for having watched them.I didn't intend to see this mo...   \n",
       "2  \"The Godfather\" simply put, is one of the greatest films of all time. The script is thee best I've ever read. The direction is flawless. The acting may very well have the best ensemble cast in any movie I've ever seen or will ever see. It's also one of the most precise and intricate films I've ever come across as writer, Mario Puzo brings out some of the most hidden and guarded secrets of the underground world ever captured on film. Watching \"The Godfather,\" is like watching cinematic art. F...   \n",
       "3  'The Godfather' is the pinnacle of flawless films! The first time I viewed 'The Godfather' I was in my early teens and it was the most astounding film I had ever seen, and has since then stood as my all-time favourite film. It is due to this that I have been looking forward to writing a review of this unforgettable classic. So let's start from the beginning. The film opens to four words, 'I believe in America', it's crazy to think that this simple line has become a resonant quote solely due ...   \n",
       "4                                                                                                                                                                                                                                                                                                                                                                                                                              Wonderful motivational story. Especially wonderful acting mr.suriya in airports scenes.   \n",
       "\n",
       "  sentiment                                                          scores  \\\n",
       "0  negative   {'neg': 0.061, 'neu': 0.77, 'pos': 0.169, 'compound': 0.9318}   \n",
       "1  positive   {'neg': 0.08, 'neu': 0.714, 'pos': 0.207, 'compound': 0.9939}   \n",
       "2  negative   {'neg': 0.051, 'neu': 0.81, 'pos': 0.138, 'compound': 0.9984}   \n",
       "3  positive  {'neg': 0.106, 'neu': 0.711, 'pos': 0.183, 'compound': 0.9897}   \n",
       "4  negative      {'neg': 0.0, 'neu': 0.51, 'pos': 0.49, 'compound': 0.8268}   \n",
       "\n",
       "   compound  \n",
       "0    0.9318  \n",
       "1    0.9939  \n",
       "2    0.9984  \n",
       "3    0.9897  \n",
       "4    0.8268  "
      ]
     },
     "execution_count": 94,
     "metadata": {},
     "output_type": "execute_result"
    }
   ],
   "source": [
    "# check the 1st 5 samples\n",
    "df1.head()"
   ]
  },
  {
   "cell_type": "code",
   "execution_count": 95,
   "id": "hydraulic-recall",
   "metadata": {},
   "outputs": [],
   "source": [
    "#use compound score to determine comp_score\n",
    "# of value of compund is equal to or greater than zero call it postive soce, else negative (i.e. comp_score <0)\n",
    "df1['comp_score']=df1['compound'].apply(lambda score:'positive' if score >=0 else 'negative')"
   ]
  },
  {
   "cell_type": "code",
   "execution_count": 96,
   "id": "graphic-librarian",
   "metadata": {},
   "outputs": [
    {
     "data": {
      "text/html": [
       "<div>\n",
       "<style scoped>\n",
       "    .dataframe tbody tr th:only-of-type {\n",
       "        vertical-align: middle;\n",
       "    }\n",
       "\n",
       "    .dataframe tbody tr th {\n",
       "        vertical-align: top;\n",
       "    }\n",
       "\n",
       "    .dataframe thead th {\n",
       "        text-align: right;\n",
       "    }\n",
       "</style>\n",
       "<table border=\"1\" class=\"dataframe\">\n",
       "  <thead>\n",
       "    <tr style=\"text-align: right;\">\n",
       "      <th></th>\n",
       "      <th>movie</th>\n",
       "      <th>user_review_permalink</th>\n",
       "      <th>user_review</th>\n",
       "      <th>sentiment</th>\n",
       "      <th>scores</th>\n",
       "      <th>compound</th>\n",
       "      <th>comp_score</th>\n",
       "    </tr>\n",
       "  </thead>\n",
       "  <tbody>\n",
       "    <tr>\n",
       "      <th>0</th>\n",
       "      <td>The Shawshank Redemption</td>\n",
       "      <td>https://www.imdb.com/review/rw6627363/</td>\n",
       "      <td>You have already watched this, right?\\nIt is really easy to understand the love for this movie. I'll admit, when it comes to movie adaptations of books, the book is always better. How can it not be? You get way more detail than could be crammed into a two-hour movie. However, I still thoroughly enjoyed this adaptation. Yes, it does deviate from the short a little with character changes and omissions, but I don't think this film could have been any better. I am in line with the ten-star revie...</td>\n",
       "      <td>negative</td>\n",
       "      <td>{'neg': 0.061, 'neu': 0.77, 'pos': 0.169, 'compound': 0.9318}</td>\n",
       "      <td>0.9318</td>\n",
       "      <td>positive</td>\n",
       "    </tr>\n",
       "    <tr>\n",
       "      <th>1</th>\n",
       "      <td>The Shawshank Redemption</td>\n",
       "      <td>https://www.imdb.com/review/rw0349418/</td>\n",
       "      <td>Why do I want to write the 234th comment on The Shawshank Redemption? I am not sure - almost everything that could be possibly said about it has been said. But like so many other people who wrote comments, I was and am profoundly moved by this simple and eloquent depiction of hope and friendship and redemption. The only other movie I have ever seen that effects me as strongly is To Kill a Mockingbird. Both movies leave me feeling cleaner for having watched them.I didn't intend to see this mo...</td>\n",
       "      <td>positive</td>\n",
       "      <td>{'neg': 0.08, 'neu': 0.714, 'pos': 0.207, 'compound': 0.9939}</td>\n",
       "      <td>0.9939</td>\n",
       "      <td>positive</td>\n",
       "    </tr>\n",
       "    <tr>\n",
       "      <th>2</th>\n",
       "      <td>The Godfather</td>\n",
       "      <td>https://www.imdb.com/review/rw1901277/</td>\n",
       "      <td>\"The Godfather\" simply put, is one of the greatest films of all time. The script is thee best I've ever read. The direction is flawless. The acting may very well have the best ensemble cast in any movie I've ever seen or will ever see. It's also one of the most precise and intricate films I've ever come across as writer, Mario Puzo brings out some of the most hidden and guarded secrets of the underground world ever captured on film. Watching \"The Godfather,\" is like watching cinematic art. F...</td>\n",
       "      <td>negative</td>\n",
       "      <td>{'neg': 0.051, 'neu': 0.81, 'pos': 0.138, 'compound': 0.9984}</td>\n",
       "      <td>0.9984</td>\n",
       "      <td>positive</td>\n",
       "    </tr>\n",
       "    <tr>\n",
       "      <th>3</th>\n",
       "      <td>The Godfather</td>\n",
       "      <td>https://www.imdb.com/review/rw3038370/</td>\n",
       "      <td>'The Godfather' is the pinnacle of flawless films! The first time I viewed 'The Godfather' I was in my early teens and it was the most astounding film I had ever seen, and has since then stood as my all-time favourite film. It is due to this that I have been looking forward to writing a review of this unforgettable classic. So let's start from the beginning. The film opens to four words, 'I believe in America', it's crazy to think that this simple line has become a resonant quote solely due ...</td>\n",
       "      <td>positive</td>\n",
       "      <td>{'neg': 0.106, 'neu': 0.711, 'pos': 0.183, 'compound': 0.9897}</td>\n",
       "      <td>0.9897</td>\n",
       "      <td>positive</td>\n",
       "    </tr>\n",
       "    <tr>\n",
       "      <th>4</th>\n",
       "      <td>Soorarai Pottru</td>\n",
       "      <td>https://www.imdb.com/review/rw6260561/</td>\n",
       "      <td>Wonderful motivational story. Especially wonderful acting mr.suriya in airports scenes.</td>\n",
       "      <td>negative</td>\n",
       "      <td>{'neg': 0.0, 'neu': 0.51, 'pos': 0.49, 'compound': 0.8268}</td>\n",
       "      <td>0.8268</td>\n",
       "      <td>positive</td>\n",
       "    </tr>\n",
       "  </tbody>\n",
       "</table>\n",
       "</div>"
      ],
      "text/plain": [
       "                      movie                   user_review_permalink  \\\n",
       "0  The Shawshank Redemption  https://www.imdb.com/review/rw6627363/   \n",
       "1  The Shawshank Redemption  https://www.imdb.com/review/rw0349418/   \n",
       "2             The Godfather  https://www.imdb.com/review/rw1901277/   \n",
       "3             The Godfather  https://www.imdb.com/review/rw3038370/   \n",
       "4           Soorarai Pottru  https://www.imdb.com/review/rw6260561/   \n",
       "\n",
       "                                                                                                                                                                                                                                                                                                                                                                                                                                                                                                           user_review  \\\n",
       "0  You have already watched this, right?\\nIt is really easy to understand the love for this movie. I'll admit, when it comes to movie adaptations of books, the book is always better. How can it not be? You get way more detail than could be crammed into a two-hour movie. However, I still thoroughly enjoyed this adaptation. Yes, it does deviate from the short a little with character changes and omissions, but I don't think this film could have been any better. I am in line with the ten-star revie...   \n",
       "1  Why do I want to write the 234th comment on The Shawshank Redemption? I am not sure - almost everything that could be possibly said about it has been said. But like so many other people who wrote comments, I was and am profoundly moved by this simple and eloquent depiction of hope and friendship and redemption. The only other movie I have ever seen that effects me as strongly is To Kill a Mockingbird. Both movies leave me feeling cleaner for having watched them.I didn't intend to see this mo...   \n",
       "2  \"The Godfather\" simply put, is one of the greatest films of all time. The script is thee best I've ever read. The direction is flawless. The acting may very well have the best ensemble cast in any movie I've ever seen or will ever see. It's also one of the most precise and intricate films I've ever come across as writer, Mario Puzo brings out some of the most hidden and guarded secrets of the underground world ever captured on film. Watching \"The Godfather,\" is like watching cinematic art. F...   \n",
       "3  'The Godfather' is the pinnacle of flawless films! The first time I viewed 'The Godfather' I was in my early teens and it was the most astounding film I had ever seen, and has since then stood as my all-time favourite film. It is due to this that I have been looking forward to writing a review of this unforgettable classic. So let's start from the beginning. The film opens to four words, 'I believe in America', it's crazy to think that this simple line has become a resonant quote solely due ...   \n",
       "4                                                                                                                                                                                                                                                                                                                                                                                                                              Wonderful motivational story. Especially wonderful acting mr.suriya in airports scenes.   \n",
       "\n",
       "  sentiment                                                          scores  \\\n",
       "0  negative   {'neg': 0.061, 'neu': 0.77, 'pos': 0.169, 'compound': 0.9318}   \n",
       "1  positive   {'neg': 0.08, 'neu': 0.714, 'pos': 0.207, 'compound': 0.9939}   \n",
       "2  negative   {'neg': 0.051, 'neu': 0.81, 'pos': 0.138, 'compound': 0.9984}   \n",
       "3  positive  {'neg': 0.106, 'neu': 0.711, 'pos': 0.183, 'compound': 0.9897}   \n",
       "4  negative      {'neg': 0.0, 'neu': 0.51, 'pos': 0.49, 'compound': 0.8268}   \n",
       "\n",
       "   compound comp_score  \n",
       "0    0.9318   positive  \n",
       "1    0.9939   positive  \n",
       "2    0.9984   positive  \n",
       "3    0.9897   positive  \n",
       "4    0.8268   positive  "
      ]
     },
     "execution_count": 96,
     "metadata": {},
     "output_type": "execute_result"
    }
   ],
   "source": [
    "#list 1st few rows of dataframe\n",
    "df1.head()"
   ]
  },
  {
   "cell_type": "code",
   "execution_count": 97,
   "id": "french-manual",
   "metadata": {},
   "outputs": [],
   "source": [
    "# validate the accuracy\n",
    "from sklearn.metrics import accuracy_score, classification_report,confusion_matrix"
   ]
  },
  {
   "cell_type": "markdown",
   "id": "genetic-keyboard",
   "metadata": {},
   "source": [
    "###### Accuracy Sentiment vs comp_score"
   ]
  },
  {
   "cell_type": "code",
   "execution_count": 33,
   "id": "greatest-retrieval",
   "metadata": {
    "scrolled": true
   },
   "outputs": [
    {
     "data": {
      "text/plain": [
       "0.5433333333333333"
      ]
     },
     "execution_count": 33,
     "metadata": {},
     "output_type": "execute_result"
    }
   ],
   "source": [
    "accuracy_score(df1['sentiment'],df1['comp_score'])"
   ]
  },
  {
   "cell_type": "markdown",
   "id": "downtown-canadian",
   "metadata": {},
   "source": [
    "55% is a  low accuracy score. However, better than 50%. Sometimes it is a bit hard to read and understand what users are saying, and sometimes it's also sarcastic, which makes it's tough to detect. Sarcasm is almost impossible to test for something like VADER. Few cases were observed where sentiment rating was not aligning with the text reviews. The reviews were excellent, but the rating was low, and the compound score aligns with the review. After reading the reviews, we have observed the review and compound score align well."
   ]
  },
  {
   "cell_type": "markdown",
   "id": "later-arcade",
   "metadata": {},
   "source": [
    "###### Classification Report"
   ]
  },
  {
   "cell_type": "code",
   "execution_count": 34,
   "id": "expensive-swiss",
   "metadata": {},
   "outputs": [
    {
     "name": "stdout",
     "output_type": "stream",
     "text": [
      "              precision    recall  f1-score   support\n",
      "\n",
      "    negative       0.62      0.22      0.33       150\n",
      "    positive       0.53      0.87      0.65       150\n",
      "\n",
      "    accuracy                           0.54       300\n",
      "   macro avg       0.57      0.54      0.49       300\n",
      "weighted avg       0.57      0.54      0.49       300\n",
      "\n"
     ]
    }
   ],
   "source": [
    "print(classification_report(df1['sentiment'],df1['comp_score']))"
   ]
  },
  {
   "cell_type": "markdown",
   "id": "facial-productivity",
   "metadata": {},
   "source": [
    "The classification report aligns with the observation that a lot of negative sentiments are analyzed as positive. "
   ]
  },
  {
   "cell_type": "markdown",
   "id": "inappropriate-stuart",
   "metadata": {},
   "source": [
    "###### Distribution of postive and negative scores by sentimentIntensityAnalyzer"
   ]
  },
  {
   "cell_type": "code",
   "execution_count": 98,
   "id": "stuffed-drama",
   "metadata": {},
   "outputs": [
    {
     "data": {
      "text/plain": [
       "positive    247\n",
       "negative     53\n",
       "Name: comp_score, dtype: int64"
      ]
     },
     "execution_count": 98,
     "metadata": {},
     "output_type": "execute_result"
    }
   ],
   "source": [
    "df1['comp_score'].value_counts()"
   ]
  },
  {
   "cell_type": "markdown",
   "id": "scientific-toner",
   "metadata": {},
   "source": [
    "SentimentAnalyzer identified a low number of negative scores, whereas sentiments were equally distributed in the original dataframe. After reading the reviews and comparing them with sentiments and compound scores, it is evident that SentimentAnalyzer is doing a good job identifying the reviews as positive or negative. "
   ]
  },
  {
   "cell_type": "markdown",
   "id": "anonymous-employer",
   "metadata": {},
   "source": [
    "###### Confusion Matrix"
   ]
  },
  {
   "cell_type": "code",
   "execution_count": 99,
   "id": "fabulous-firewall",
   "metadata": {},
   "outputs": [
    {
     "name": "stdout",
     "output_type": "stream",
     "text": [
      "[[ 33 117]\n",
      " [ 20 130]]\n"
     ]
    }
   ],
   "source": [
    "print(confusion_matrix(df1['sentiment'],df1['comp_score']))"
   ]
  },
  {
   "cell_type": "markdown",
   "id": "indie-toronto",
   "metadata": {},
   "source": [
    "Aligns with positive and negative distribution above"
   ]
  },
  {
   "cell_type": "markdown",
   "id": "minimal-services",
   "metadata": {},
   "source": [
    "##### 2.\tFor each of the clusters you created in homework 7, compute the average, median, high, and low sentiment scores for each cluster. Explain whether you think this reveals anything interesting about the clusters."
   ]
  },
  {
   "cell_type": "code",
   "execution_count": 125,
   "id": "great-armenia",
   "metadata": {},
   "outputs": [],
   "source": [
    "# df2 data frame will be used to recreate the cluster of HW5.\n",
    "df2= pd.read_csv(\"IMDB.csv\") # reterive IMDB date from hard drive as df2"
   ]
  },
  {
   "cell_type": "code",
   "execution_count": 126,
   "id": "possible-setting",
   "metadata": {},
   "outputs": [
    {
     "data": {
      "text/html": [
       "<div>\n",
       "<style scoped>\n",
       "    .dataframe tbody tr th:only-of-type {\n",
       "        vertical-align: middle;\n",
       "    }\n",
       "\n",
       "    .dataframe tbody tr th {\n",
       "        vertical-align: top;\n",
       "    }\n",
       "\n",
       "    .dataframe thead th {\n",
       "        text-align: right;\n",
       "    }\n",
       "</style>\n",
       "<table border=\"1\" class=\"dataframe\">\n",
       "  <thead>\n",
       "    <tr style=\"text-align: right;\">\n",
       "      <th></th>\n",
       "      <th>Unnamed: 0</th>\n",
       "      <th>movie</th>\n",
       "      <th>user_review_permalink</th>\n",
       "      <th>user_review</th>\n",
       "      <th>sentiment</th>\n",
       "    </tr>\n",
       "  </thead>\n",
       "  <tbody>\n",
       "    <tr>\n",
       "      <th>0</th>\n",
       "      <td>0</td>\n",
       "      <td>The Shawshank Redemption</td>\n",
       "      <td>https://www.imdb.com/review/rw6627363/</td>\n",
       "      <td>You have already watched this, right?\\nIt is really easy to understand the love for this movie. I'll admit, when it comes to movie adaptations of books, the book is always better. How can it not be? You get way more detail than could be crammed into a two-hour movie. However, I still thoroughly enjoyed this adaptation. Yes, it does deviate from the short a little with character changes and omissions, but I don't think this film could have been any better. I am in line with the ten-star revie...</td>\n",
       "      <td>negative</td>\n",
       "    </tr>\n",
       "    <tr>\n",
       "      <th>1</th>\n",
       "      <td>1</td>\n",
       "      <td>The Shawshank Redemption</td>\n",
       "      <td>https://www.imdb.com/review/rw0349418/</td>\n",
       "      <td>Why do I want to write the 234th comment on The Shawshank Redemption? I am not sure - almost everything that could be possibly said about it has been said. But like so many other people who wrote comments, I was and am profoundly moved by this simple and eloquent depiction of hope and friendship and redemption. The only other movie I have ever seen that effects me as strongly is To Kill a Mockingbird. Both movies leave me feeling cleaner for having watched them.I didn't intend to see this mo...</td>\n",
       "      <td>positive</td>\n",
       "    </tr>\n",
       "    <tr>\n",
       "      <th>2</th>\n",
       "      <td>2</td>\n",
       "      <td>The Godfather</td>\n",
       "      <td>https://www.imdb.com/review/rw1901277/</td>\n",
       "      <td>\"The Godfather\" simply put, is one of the greatest films of all time. The script is thee best I've ever read. The direction is flawless. The acting may very well have the best ensemble cast in any movie I've ever seen or will ever see. It's also one of the most precise and intricate films I've ever come across as writer, Mario Puzo brings out some of the most hidden and guarded secrets of the underground world ever captured on film. Watching \"The Godfather,\" is like watching cinematic art. F...</td>\n",
       "      <td>negative</td>\n",
       "    </tr>\n",
       "    <tr>\n",
       "      <th>3</th>\n",
       "      <td>3</td>\n",
       "      <td>The Godfather</td>\n",
       "      <td>https://www.imdb.com/review/rw3038370/</td>\n",
       "      <td>'The Godfather' is the pinnacle of flawless films! The first time I viewed 'The Godfather' I was in my early teens and it was the most astounding film I had ever seen, and has since then stood as my all-time favourite film. It is due to this that I have been looking forward to writing a review of this unforgettable classic. So let's start from the beginning. The film opens to four words, 'I believe in America', it's crazy to think that this simple line has become a resonant quote solely due ...</td>\n",
       "      <td>positive</td>\n",
       "    </tr>\n",
       "    <tr>\n",
       "      <th>4</th>\n",
       "      <td>4</td>\n",
       "      <td>Soorarai Pottru</td>\n",
       "      <td>https://www.imdb.com/review/rw6260561/</td>\n",
       "      <td>Wonderful motivational story. Especially wonderful acting mr.suriya in airports scenes.</td>\n",
       "      <td>negative</td>\n",
       "    </tr>\n",
       "  </tbody>\n",
       "</table>\n",
       "</div>"
      ],
      "text/plain": [
       "   Unnamed: 0                     movie  \\\n",
       "0           0  The Shawshank Redemption   \n",
       "1           1  The Shawshank Redemption   \n",
       "2           2             The Godfather   \n",
       "3           3             The Godfather   \n",
       "4           4           Soorarai Pottru   \n",
       "\n",
       "                    user_review_permalink  \\\n",
       "0  https://www.imdb.com/review/rw6627363/   \n",
       "1  https://www.imdb.com/review/rw0349418/   \n",
       "2  https://www.imdb.com/review/rw1901277/   \n",
       "3  https://www.imdb.com/review/rw3038370/   \n",
       "4  https://www.imdb.com/review/rw6260561/   \n",
       "\n",
       "                                                                                                                                                                                                                                                                                                                                                                                                                                                                                                           user_review  \\\n",
       "0  You have already watched this, right?\\nIt is really easy to understand the love for this movie. I'll admit, when it comes to movie adaptations of books, the book is always better. How can it not be? You get way more detail than could be crammed into a two-hour movie. However, I still thoroughly enjoyed this adaptation. Yes, it does deviate from the short a little with character changes and omissions, but I don't think this film could have been any better. I am in line with the ten-star revie...   \n",
       "1  Why do I want to write the 234th comment on The Shawshank Redemption? I am not sure - almost everything that could be possibly said about it has been said. But like so many other people who wrote comments, I was and am profoundly moved by this simple and eloquent depiction of hope and friendship and redemption. The only other movie I have ever seen that effects me as strongly is To Kill a Mockingbird. Both movies leave me feeling cleaner for having watched them.I didn't intend to see this mo...   \n",
       "2  \"The Godfather\" simply put, is one of the greatest films of all time. The script is thee best I've ever read. The direction is flawless. The acting may very well have the best ensemble cast in any movie I've ever seen or will ever see. It's also one of the most precise and intricate films I've ever come across as writer, Mario Puzo brings out some of the most hidden and guarded secrets of the underground world ever captured on film. Watching \"The Godfather,\" is like watching cinematic art. F...   \n",
       "3  'The Godfather' is the pinnacle of flawless films! The first time I viewed 'The Godfather' I was in my early teens and it was the most astounding film I had ever seen, and has since then stood as my all-time favourite film. It is due to this that I have been looking forward to writing a review of this unforgettable classic. So let's start from the beginning. The film opens to four words, 'I believe in America', it's crazy to think that this simple line has become a resonant quote solely due ...   \n",
       "4                                                                                                                                                                                                                                                                                                                                                                                                                              Wonderful motivational story. Especially wonderful acting mr.suriya in airports scenes.   \n",
       "\n",
       "  sentiment  \n",
       "0  negative  \n",
       "1  positive  \n",
       "2  negative  \n",
       "3  positive  \n",
       "4  negative  "
      ]
     },
     "execution_count": 126,
     "metadata": {},
     "output_type": "execute_result"
    }
   ],
   "source": [
    "df2.head() # valdiate data for right format"
   ]
  },
  {
   "cell_type": "code",
   "execution_count": 127,
   "id": "waiting-marina",
   "metadata": {},
   "outputs": [
    {
     "data": {
      "text/plain": [
       "(300, 5)"
      ]
     },
     "execution_count": 127,
     "metadata": {},
     "output_type": "execute_result"
    }
   ],
   "source": [
    "df2.shape # number of rows and columns in dataframe"
   ]
  },
  {
   "cell_type": "code",
   "execution_count": 128,
   "id": "golden-torture",
   "metadata": {},
   "outputs": [],
   "source": [
    "user_review = df2.user_review # pull user_review"
   ]
  },
  {
   "cell_type": "code",
   "execution_count": 129,
   "id": "solar-period",
   "metadata": {},
   "outputs": [
    {
     "data": {
      "text/plain": [
       "(300,)"
      ]
     },
     "execution_count": 129,
     "metadata": {},
     "output_type": "execute_result"
    }
   ],
   "source": [
    "user_review.shape # validate number of rows"
   ]
  },
  {
   "cell_type": "code",
   "execution_count": 130,
   "id": "welcome-winter",
   "metadata": {},
   "outputs": [
    {
     "data": {
      "text/plain": [
       "300"
      ]
     },
     "execution_count": 130,
     "metadata": {},
     "output_type": "execute_result"
    }
   ],
   "source": [
    "#Text Preprocessing\n",
    "# remove stip words, normalize, tokenize\n",
    "#load stop word libary\n",
    "stop_words = nltk.corpus.stopwords.words('english')\n",
    "# define the function to normalize the text\n",
    "def normalize_document(doc):\n",
    " # lower case and remove special characters\\whitespaces\n",
    " doc = re.sub(r'[^a-zA-Z0-9\\s]',\"\",doc, re.I|re.A) # remove special characters and white space\n",
    " doc = doc.lower() # lower case\n",
    " doc = doc.strip()\n",
    " # tokenize document\n",
    " tokens = nltk.word_tokenize(doc)\n",
    " # filter stopwords out of document\n",
    " filtered_tokens = [token for token in tokens if token not in stop_words]\n",
    " # re-create document from filtered tokens\n",
    " doc = ' '.join(filtered_tokens)\n",
    " return doc\n",
    "#normailize the text\n",
    "normalize_corpus = np.vectorize(normalize_document)\n",
    "norm_corpus = normalize_corpus(user_review)\n",
    "tokens = nltk.word_tokenize('norm_corpus')\n",
    "len(norm_corpus) # check lenght to ensure there is data in the tozanized text"
   ]
  },
  {
   "cell_type": "code",
   "execution_count": 131,
   "id": "controlling-drilling",
   "metadata": {},
   "outputs": [],
   "source": [
    "#norm_corpus"
   ]
  },
  {
   "cell_type": "code",
   "execution_count": 132,
   "id": "aging-maximum",
   "metadata": {},
   "outputs": [
    {
     "data": {
      "text/plain": [
       "(300, 212)"
      ]
     },
     "execution_count": 132,
     "metadata": {},
     "output_type": "execute_result"
    }
   ],
   "source": [
    "#  leverage TF_IDF to vectorize our preprocessed movie descriptions, thereby converting them into numeric vectors\n",
    "#define vectorizer parameters\n",
    "\n",
    "vec = TfidfVectorizer(ngram_range=(1, 2), max_df=0.8, max_features=200000, min_df=0.10)\n",
    "reviews_tfidf_matrix = vec.fit_transform(norm_corpus) #fit the vectorizer to synopses\n",
    "reviews_tfidf_matrix.shape # check shape to valiadate data in matrix"
   ]
  },
  {
   "cell_type": "code",
   "execution_count": 133,
   "id": "emotional-superintendent",
   "metadata": {},
   "outputs": [],
   "source": [
    "#gather the different terms from the TF-IDF matrix and calculate cosine similarity distances based on the matrix.\n",
    "terms = vec.get_feature_names()\n",
    "dist = 1 - cosine_similarity(reviews_tfidf_matrix)"
   ]
  },
  {
   "cell_type": "code",
   "execution_count": 134,
   "id": "alpha-china",
   "metadata": {},
   "outputs": [],
   "source": [
    "MDS()\n",
    "# convert two components as we're plotting points in a two-dimensional plane leveraging MDS (Multidimenstional scaling)\n",
    "# \"precomputed\" because we provide a distance matrix\n",
    "# we will also specify `random_state` so the plot is reproducible.\n",
    "mds = MDS(n_components=2, dissimilarity=\"precomputed\", random_state=1)\n",
    "pos = mds.fit_transform(dist)  # shape (n_components, n_samples)\n",
    "xs, ys = pos[:, 0], pos[:, 1]\n",
    "#pos"
   ]
  },
  {
   "cell_type": "code",
   "execution_count": 135,
   "id": "empirical-insert",
   "metadata": {},
   "outputs": [
    {
     "data": {
      "text/plain": [
       "(300, 916)"
      ]
     },
     "execution_count": 135,
     "metadata": {},
     "output_type": "execute_result"
    }
   ],
   "source": [
    "from sklearn.feature_extraction.text import CountVectorizer\n",
    "cv = CountVectorizer(ngram_range=(1, 2), min_df=10, max_df=0.8, stop_words=stop_words)\n",
    "cv_matrix = cv.fit_transform(norm_corpus)\n",
    "cv_matrix.shape"
   ]
  },
  {
   "cell_type": "code",
   "execution_count": 136,
   "id": "lesser-mission",
   "metadata": {
    "scrolled": true
   },
   "outputs": [],
   "source": [
    "#print(reviews_tfidf_matrix)"
   ]
  },
  {
   "cell_type": "code",
   "execution_count": 137,
   "id": "olympic-texas",
   "metadata": {},
   "outputs": [],
   "source": [
    "#print(cv_matrix)"
   ]
  },
  {
   "cell_type": "code",
   "execution_count": 138,
   "id": "labeled-blade",
   "metadata": {},
   "outputs": [],
   "source": [
    "# K- Mean Clustering\n",
    "# three cluster\n",
    "from sklearn.cluster import KMeans\n",
    "NUM_CLUSTERS = 3 # number of cluster\n",
    "km = KMeans(n_clusters=NUM_CLUSTERS, max_iter=10000, n_init=50, random_state=42).fit(cv_matrix)\n",
    "km\n",
    "KMeans(algorithm='auto', copy_x=True, init='k-means++', max_iter=10000,\n",
    " n_clusters=NUM_CLUSTERS, n_init=50, n_jobs=None, precompute_distances='auto',\n",
    " random_state=42, tol=0.0001, verbose=0)\n",
    "norm_corpus= km.labels_\n",
    "#km"
   ]
  },
  {
   "cell_type": "code",
   "execution_count": 139,
   "id": "sophisticated-spiritual",
   "metadata": {},
   "outputs": [],
   "source": [
    "#norm_corpus"
   ]
  },
  {
   "cell_type": "code",
   "execution_count": 140,
   "id": "grand-sewing",
   "metadata": {
    "scrolled": true
   },
   "outputs": [],
   "source": [
    "#km.labels_"
   ]
  },
  {
   "cell_type": "code",
   "execution_count": 141,
   "id": "promising-refund",
   "metadata": {},
   "outputs": [
    {
     "data": {
      "text/plain": [
       "Counter({0: 203, 2: 32, 1: 65})"
      ]
     },
     "execution_count": 141,
     "metadata": {},
     "output_type": "execute_result"
    }
   ],
   "source": [
    "# viewing distribution of movies across the clusters\n",
    "from collections import Counter\n",
    "Counter(km.labels_)"
   ]
  },
  {
   "cell_type": "code",
   "execution_count": 142,
   "id": "swedish-spank",
   "metadata": {},
   "outputs": [
    {
     "name": "stdout",
     "output_type": "stream",
     "text": [
      "CLUSTER #1\n",
      "Popular Movies: ['Heat', 'Lawrence of Arabia', 'Vertigo', 'Vertigo', 'North by Northwest', 'There Will Be Blood', 'Batman Begins', 'Lawrence of Arabia', 'Up', 'L.A. Confidential', 'Shutter Island', 'Swades', \"Pan's Labyrinth\", 'Lock, Stock and Two Smoking Barrels', 'Queen', 'A Beautiful Mind', 'Green Book', 'A Beautiful Mind', 'The Kid', 'The Kid']\n",
      "--------------------------------------------------------------------------------\n",
      "CLUSTER #2\n",
      "Popular Movies: ['Aliens', 'Witness for the Prosecution', 'A Separation', 'The Hunt', 'Metropolis', 'The Great Dictator', 'The Great Dictator', 'Sunset Blvd.', 'Andhadhun', 'The Lord of the Rings: The Fellowship of the Ring', 'The Lord of the Rings: The Fellowship of the Ring', 'Soorarai Pottru', 'Alien', 'Forrest Gump', 'A Silent Voice: The Movie', 'A Clockwork Orange', 'The Good, the Bad and the Ugly', 'The Shining', 'Indiana Jones and the Raiders of the Lost Ark', '2001: A Space Odyssey']\n",
      "--------------------------------------------------------------------------------\n",
      "CLUSTER #3\n",
      "Popular Movies: ['The Shawshank Redemption', 'Shutter Island', 'WALL·E', '3 Idiots', '3 Idiots', 'The Dark Knight Rises', 'Bhaag Milkha Bhaag', 'Avengers: Infinity War', 'Avengers: Endgame', 'Dangal', 'Capharnaüm', 'City Lights', 'Modern Times', 'Casablanca', 'Rear Window', 'Back to the Future', 'The Lives of Others', 'Back to the Future', 'Grave of the Fireflies', 'Grave of the Fireflies']\n",
      "--------------------------------------------------------------------------------\n"
     ]
    }
   ],
   "source": [
    "#  to group similar movies in clusters\n",
    "\n",
    "from sklearn.metrics.pairwise import cosine_similarity\n",
    "cosine_sim_features = cosine_similarity(cv_matrix)\n",
    "km = KMeans(n_clusters=NUM_CLUSTERS , max_iter=100000, n_init=50, random_state=42).fit(cosine_sim_features)\n",
    "Counter(km.labels_)\n",
    "Counter({4: 427, 3: 724, 1: 1913, 2: 504, 0: 879, 5: 353})\n",
    "df2['kmeans_cluster'] = km.labels_\n",
    "movie_clusters = (df2[['movie', 'kmeans_cluster']]\n",
    " .sort_values(by=['kmeans_cluster'],\n",
    " ascending=False)\n",
    " .groupby('kmeans_cluster').head(20))\n",
    "movie_clusters = movie_clusters.copy(deep=True)\n",
    "# get movies belonging to each cluster\n",
    "for cluster_num in range(NUM_CLUSTERS ):\n",
    " movies = movie_clusters[movie_clusters['kmeans_cluster'] == cluster_num]['movie'].values.tolist()\n",
    " print('CLUSTER #'+str(cluster_num+1))\n",
    " print('Popular Movies:', movies)\n",
    " print('-'*80)"
   ]
  },
  {
   "cell_type": "code",
   "execution_count": 143,
   "id": "hundred-cover",
   "metadata": {},
   "outputs": [
    {
     "data": {
      "image/png": "[encoded data removed]",
      "text/plain": [
       "<Figure size 1440x1440 with 1 Axes>"
      ]
     },
     "metadata": {
      "needs_background": "light"
     },
     "output_type": "display_data"
    }
   ],
   "source": [
    "#plotting of Movie Cluster Map\n",
    "plt.figure(figsize=(20, 20))\n",
    "#filter rows of original data\n",
    "filtered_label0 = pos[km.labels_== 0]\n",
    "filtered_label1 = pos[km.labels_== 1]\n",
    "filtered_label2 = pos[km.labels_== 2]\n",
    "\n",
    "#Plotting the results#plt.scatter(filtered_label0[:,0] , filtered_label0[:,1] , color = 'red')\n",
    "plt.title('Clusters of Movies')\n",
    "plt.scatter(km.cluster_centers_[:, 0], km.cluster_centers_[:, 1], s=300, label = 'Centroids', marker=\"*\")\n",
    "plt.scatter(filtered_label0[:,0] , filtered_label0[:,1], s=80, label = '0')\n",
    "plt.scatter(filtered_label1[:,0] , filtered_label1[:,1], s=80, label = '1')\n",
    "plt.scatter(filtered_label2[:,0] , filtered_label2[:,1], s=80, label = '2')\n",
    "plt.legend()\n",
    "plt.show()"
   ]
  },
  {
   "cell_type": "code",
   "execution_count": 144,
   "id": "sapphire-accuracy",
   "metadata": {},
   "outputs": [
    {
     "data": {
      "text/html": [
       "<div>\n",
       "<style scoped>\n",
       "    .dataframe tbody tr th:only-of-type {\n",
       "        vertical-align: middle;\n",
       "    }\n",
       "\n",
       "    .dataframe tbody tr th {\n",
       "        vertical-align: top;\n",
       "    }\n",
       "\n",
       "    .dataframe thead th {\n",
       "        text-align: right;\n",
       "    }\n",
       "</style>\n",
       "<table border=\"1\" class=\"dataframe\">\n",
       "  <thead>\n",
       "    <tr style=\"text-align: right;\">\n",
       "      <th></th>\n",
       "      <th>Unnamed: 0</th>\n",
       "      <th>movie</th>\n",
       "      <th>user_review_permalink</th>\n",
       "      <th>user_review</th>\n",
       "      <th>sentiment</th>\n",
       "    </tr>\n",
       "  </thead>\n",
       "  <tbody>\n",
       "    <tr>\n",
       "      <th>0</th>\n",
       "      <td>0</td>\n",
       "      <td>The Shawshank Redemption</td>\n",
       "      <td>https://www.imdb.com/review/rw6627363/</td>\n",
       "      <td>You have already watched this, right?\\nIt is really easy to understand the love for this movie. I'll admit, when it comes to movie adaptations of books, the book is always better. How can it not be? You get way more detail than could be crammed into a two-hour movie. However, I still thoroughly enjoyed this adaptation. Yes, it does deviate from the short a little with character changes and omissions, but I don't think this film could have been any better. I am in line with the ten-star revie...</td>\n",
       "      <td>negative</td>\n",
       "    </tr>\n",
       "    <tr>\n",
       "      <th>1</th>\n",
       "      <td>1</td>\n",
       "      <td>The Shawshank Redemption</td>\n",
       "      <td>https://www.imdb.com/review/rw0349418/</td>\n",
       "      <td>Why do I want to write the 234th comment on The Shawshank Redemption? I am not sure - almost everything that could be possibly said about it has been said. But like so many other people who wrote comments, I was and am profoundly moved by this simple and eloquent depiction of hope and friendship and redemption. The only other movie I have ever seen that effects me as strongly is To Kill a Mockingbird. Both movies leave me feeling cleaner for having watched them.I didn't intend to see this mo...</td>\n",
       "      <td>positive</td>\n",
       "    </tr>\n",
       "    <tr>\n",
       "      <th>2</th>\n",
       "      <td>2</td>\n",
       "      <td>The Godfather</td>\n",
       "      <td>https://www.imdb.com/review/rw1901277/</td>\n",
       "      <td>\"The Godfather\" simply put, is one of the greatest films of all time. The script is thee best I've ever read. The direction is flawless. The acting may very well have the best ensemble cast in any movie I've ever seen or will ever see. It's also one of the most precise and intricate films I've ever come across as writer, Mario Puzo brings out some of the most hidden and guarded secrets of the underground world ever captured on film. Watching \"The Godfather,\" is like watching cinematic art. F...</td>\n",
       "      <td>negative</td>\n",
       "    </tr>\n",
       "    <tr>\n",
       "      <th>3</th>\n",
       "      <td>3</td>\n",
       "      <td>The Godfather</td>\n",
       "      <td>https://www.imdb.com/review/rw3038370/</td>\n",
       "      <td>'The Godfather' is the pinnacle of flawless films! The first time I viewed 'The Godfather' I was in my early teens and it was the most astounding film I had ever seen, and has since then stood as my all-time favourite film. It is due to this that I have been looking forward to writing a review of this unforgettable classic. So let's start from the beginning. The film opens to four words, 'I believe in America', it's crazy to think that this simple line has become a resonant quote solely due ...</td>\n",
       "      <td>positive</td>\n",
       "    </tr>\n",
       "    <tr>\n",
       "      <th>4</th>\n",
       "      <td>4</td>\n",
       "      <td>Soorarai Pottru</td>\n",
       "      <td>https://www.imdb.com/review/rw6260561/</td>\n",
       "      <td>Wonderful motivational story. Especially wonderful acting mr.suriya in airports scenes.</td>\n",
       "      <td>negative</td>\n",
       "    </tr>\n",
       "  </tbody>\n",
       "</table>\n",
       "</div>"
      ],
      "text/plain": [
       "   Unnamed: 0                     movie  \\\n",
       "0           0  The Shawshank Redemption   \n",
       "1           1  The Shawshank Redemption   \n",
       "2           2             The Godfather   \n",
       "3           3             The Godfather   \n",
       "4           4           Soorarai Pottru   \n",
       "\n",
       "                    user_review_permalink  \\\n",
       "0  https://www.imdb.com/review/rw6627363/   \n",
       "1  https://www.imdb.com/review/rw0349418/   \n",
       "2  https://www.imdb.com/review/rw1901277/   \n",
       "3  https://www.imdb.com/review/rw3038370/   \n",
       "4  https://www.imdb.com/review/rw6260561/   \n",
       "\n",
       "                                                                                                                                                                                                                                                                                                                                                                                                                                                                                                           user_review  \\\n",
       "0  You have already watched this, right?\\nIt is really easy to understand the love for this movie. I'll admit, when it comes to movie adaptations of books, the book is always better. How can it not be? You get way more detail than could be crammed into a two-hour movie. However, I still thoroughly enjoyed this adaptation. Yes, it does deviate from the short a little with character changes and omissions, but I don't think this film could have been any better. I am in line with the ten-star revie...   \n",
       "1  Why do I want to write the 234th comment on The Shawshank Redemption? I am not sure - almost everything that could be possibly said about it has been said. But like so many other people who wrote comments, I was and am profoundly moved by this simple and eloquent depiction of hope and friendship and redemption. The only other movie I have ever seen that effects me as strongly is To Kill a Mockingbird. Both movies leave me feeling cleaner for having watched them.I didn't intend to see this mo...   \n",
       "2  \"The Godfather\" simply put, is one of the greatest films of all time. The script is thee best I've ever read. The direction is flawless. The acting may very well have the best ensemble cast in any movie I've ever seen or will ever see. It's also one of the most precise and intricate films I've ever come across as writer, Mario Puzo brings out some of the most hidden and guarded secrets of the underground world ever captured on film. Watching \"The Godfather,\" is like watching cinematic art. F...   \n",
       "3  'The Godfather' is the pinnacle of flawless films! The first time I viewed 'The Godfather' I was in my early teens and it was the most astounding film I had ever seen, and has since then stood as my all-time favourite film. It is due to this that I have been looking forward to writing a review of this unforgettable classic. So let's start from the beginning. The film opens to four words, 'I believe in America', it's crazy to think that this simple line has become a resonant quote solely due ...   \n",
       "4                                                                                                                                                                                                                                                                                                                                                                                                                              Wonderful motivational story. Especially wonderful acting mr.suriya in airports scenes.   \n",
       "\n",
       "  sentiment  \n",
       "0  negative  \n",
       "1  positive  \n",
       "2  negative  \n",
       "3  positive  \n",
       "4  negative  "
      ]
     },
     "execution_count": 144,
     "metadata": {},
     "output_type": "execute_result"
    }
   ],
   "source": [
    "df2.pop('kmeans_cluster') # remove  kmean_cluster column\n",
    "df2.head()"
   ]
  },
  {
   "cell_type": "code",
   "execution_count": 145,
   "id": "interim-wrapping",
   "metadata": {
    "scrolled": true
   },
   "outputs": [],
   "source": [
    "df1['cluster'] = km.labels_.tolist() # Add cluster to df1 dataframe"
   ]
  },
  {
   "cell_type": "code",
   "execution_count": 146,
   "id": "material-description",
   "metadata": {
    "scrolled": true
   },
   "outputs": [],
   "source": [
    "#df1.head() # validate the outcome"
   ]
  },
  {
   "cell_type": "code",
   "execution_count": 147,
   "id": "united-course",
   "metadata": {},
   "outputs": [],
   "source": [
    "# Calculate mean, min, max and median pf compound grouped by cluster\n",
    "result = df1.groupby('cluster').agg({'compound': ['mean', 'min', 'max','median']})"
   ]
  },
  {
   "cell_type": "code",
   "execution_count": 148,
   "id": "threatened-challenge",
   "metadata": {},
   "outputs": [
    {
     "name": "stdout",
     "output_type": "stream",
     "text": [
      "mean, min, max and median score for each cluster \n",
      "\n",
      "\n",
      "\n",
      "         compound                         \n",
      "             mean     min     max   median\n",
      "cluster                                   \n",
      "0        0.599891 -0.9997  0.9995  0.97705\n",
      "1        0.560969 -0.9986  0.9978  0.93300\n",
      "2        0.689564 -0.9981  0.9996  0.98460\n"
     ]
    }
   ],
   "source": [
    "print('mean, min, max and median score for each cluster \\n')\n",
    "print ('\\n')\n",
    "print(result)"
   ]
  },
  {
   "cell_type": "markdown",
   "id": "grand-strike",
   "metadata": {},
   "source": [
    "Following are my observations about three clusters:\n",
    "\n",
    "    *All three clusters have extremely negative and extremely positive sentiment by looking at min and max values\n",
    "    \n",
    "    *Looking at mean sentiments, cluster 2 has more positive sentiment on average than cluster 0 and cluster 1\n",
    "    \n",
    "    *All three clusters, on average, are positive clusters\n",
    "    \n",
    "    *All three clusters have a lot of extremely positive sentiments based on the median."
   ]
  },
  {
   "cell_type": "markdown",
   "id": "continent-radical",
   "metadata": {},
   "source": [
    "##### 3.\tFor extra credit, analyze sentiment of chunks as follows:\n",
    "##### a.\tTake the chunks from homework 5, and in Python, run each chunk individually through your sentiment analyzer that you used in question 1. If the chunk registers a nonneutral sentiment, save it in a tabular format (the chunk, the sentiment score).\n"
   ]
  },
  {
   "cell_type": "code",
   "execution_count": 149,
   "id": "prescribed-frost",
   "metadata": {
    "scrolled": true
   },
   "outputs": [],
   "source": [
    "# Pull the IMDB date from CSV file for further analysis.\n",
    "df3 = pd.read_csv(\"IMDB.csv\") \n",
    "#df3.head()"
   ]
  },
  {
   "cell_type": "code",
   "execution_count": 150,
   "id": "abroad-tennessee",
   "metadata": {
    "scrolled": true
   },
   "outputs": [
    {
     "data": {
      "text/html": [
       "<div>\n",
       "<style scoped>\n",
       "    .dataframe tbody tr th:only-of-type {\n",
       "        vertical-align: middle;\n",
       "    }\n",
       "\n",
       "    .dataframe tbody tr th {\n",
       "        vertical-align: top;\n",
       "    }\n",
       "\n",
       "    .dataframe thead th {\n",
       "        text-align: right;\n",
       "    }\n",
       "</style>\n",
       "<table border=\"1\" class=\"dataframe\">\n",
       "  <thead>\n",
       "    <tr style=\"text-align: right;\">\n",
       "      <th></th>\n",
       "      <th>Unnamed: 0</th>\n",
       "      <th>movie</th>\n",
       "      <th>user_review_permalink</th>\n",
       "      <th>user_review</th>\n",
       "      <th>sentiment</th>\n",
       "      <th>noun_chunks</th>\n",
       "    </tr>\n",
       "  </thead>\n",
       "  <tbody>\n",
       "    <tr>\n",
       "      <th>0</th>\n",
       "      <td>0</td>\n",
       "      <td>The Shawshank Redemption</td>\n",
       "      <td>https://www.imdb.com/review/rw6627363/</td>\n",
       "      <td>You have already watched this, right?\\nIt is really easy to understand the love for this movie. I'll admit, when it comes to movie adaptations of books, the book is always better. How can it not be? You get way more detail than could be crammed into a two-hour movie. However, I still thoroughly enjoyed this adaptation. Yes, it does deviate from the short a little with character changes and omissions, but I don't think this film could have been any better. I am in line with the ten-star revie...</td>\n",
       "      <td>negative</td>\n",
       "      <td>[You, It, the love, this movie, I, it, movie adaptations, books, the book, it, You, way more detail, a two-hour movie, I, this adaptation, it, character changes, omissions, I, this film, I, line, the ten-star reviews, I, the only reason, I, this parable, hope, I, a rule, Hope, aspiration, the system, justice, humanism, the tyranny, the mainstream society/religion, the film]</td>\n",
       "    </tr>\n",
       "    <tr>\n",
       "      <th>1</th>\n",
       "      <td>1</td>\n",
       "      <td>The Shawshank Redemption</td>\n",
       "      <td>https://www.imdb.com/review/rw0349418/</td>\n",
       "      <td>Why do I want to write the 234th comment on The Shawshank Redemption? I am not sure - almost everything that could be possibly said about it has been said. But like so many other people who wrote comments, I was and am profoundly moved by this simple and eloquent depiction of hope and friendship and redemption. The only other movie I have ever seen that effects me as strongly is To Kill a Mockingbird. Both movies leave me feeling cleaner for having watched them.I didn't intend to see this mo...</td>\n",
       "      <td>positive</td>\n",
       "      <td>[I, the 234th comment, The Shawshank Redemption, I, almost everything, it, so many other people, who, comments, I, this simple and eloquent depiction, hope, friendship, redemption, The only other movie, I, me, a Mockingbird, Both movies, me, them, I, this movie, I, prison movies, I, them, I, a branch library, I, The Shawshank Redemption, our older patrons, she, me, I, I, this movie, it, it, me, the time, I, nothing, TV, things, I, any circumstance, things, I, too many times, I, what, she, I,...</td>\n",
       "    </tr>\n",
       "    <tr>\n",
       "      <th>2</th>\n",
       "      <td>2</td>\n",
       "      <td>The Godfather</td>\n",
       "      <td>https://www.imdb.com/review/rw1901277/</td>\n",
       "      <td>\"The Godfather\" simply put, is one of the greatest films of all time. The script is thee best I've ever read. The direction is flawless. The acting may very well have the best ensemble cast in any movie I've ever seen or will ever see. It's also one of the most precise and intricate films I've ever come across as writer, Mario Puzo brings out some of the most hidden and guarded secrets of the underground world ever captured on film. Watching \"The Godfather,\" is like watching cinematic art. F...</td>\n",
       "      <td>negative</td>\n",
       "      <td>[The Godfather, the greatest films, all time, The script, thee, I, The direction, The acting, the best ensemble, any movie, I, It, the most precise and intricate films, I, writer, Mario Puzo, the most hidden and guarded secrets, the underground world, film, The Godfather, cinematic art, Francis Ford Coppola's direction, what, this film, earth, precision direction, he, each and every scene, such care, The film, a black screen, an opening monologue, an undertaker, the man, honor, family, respe...</td>\n",
       "    </tr>\n",
       "    <tr>\n",
       "      <th>3</th>\n",
       "      <td>3</td>\n",
       "      <td>The Godfather</td>\n",
       "      <td>https://www.imdb.com/review/rw3038370/</td>\n",
       "      <td>'The Godfather' is the pinnacle of flawless films! The first time I viewed 'The Godfather' I was in my early teens and it was the most astounding film I had ever seen, and has since then stood as my all-time favourite film. It is due to this that I have been looking forward to writing a review of this unforgettable classic. So let's start from the beginning. The film opens to four words, 'I believe in America', it's crazy to think that this simple line has become a resonant quote solely due ...</td>\n",
       "      <td>positive</td>\n",
       "      <td>[The Godfather, the pinnacle, flawless films, The first time, I, The Godfather' I, my early teens, it, the most astounding film, I, my all-time favourite film, It, I, a review, this unforgettable classic, 's, the beginning, The film, four words, I, America, it, this simple line, a resonant quote, the impact, it, the entrance, the film's \"threshold, the many renowned quotes, the film, me, a lot, the first take, we, the life, Vito Corleone, the Oscar- winning performance, Marlon Brando, Vito, ...</td>\n",
       "    </tr>\n",
       "    <tr>\n",
       "      <th>4</th>\n",
       "      <td>4</td>\n",
       "      <td>Soorarai Pottru</td>\n",
       "      <td>https://www.imdb.com/review/rw6260561/</td>\n",
       "      <td>Wonderful motivational story. Especially wonderful acting mr.suriya in airports scenes.</td>\n",
       "      <td>negative</td>\n",
       "      <td>[Wonderful motivational story, Especially wonderful acting mr.suriya, airports scenes]</td>\n",
       "    </tr>\n",
       "  </tbody>\n",
       "</table>\n",
       "</div>"
      ],
      "text/plain": [
       "   Unnamed: 0                     movie  \\\n",
       "0           0  The Shawshank Redemption   \n",
       "1           1  The Shawshank Redemption   \n",
       "2           2             The Godfather   \n",
       "3           3             The Godfather   \n",
       "4           4           Soorarai Pottru   \n",
       "\n",
       "                    user_review_permalink  \\\n",
       "0  https://www.imdb.com/review/rw6627363/   \n",
       "1  https://www.imdb.com/review/rw0349418/   \n",
       "2  https://www.imdb.com/review/rw1901277/   \n",
       "3  https://www.imdb.com/review/rw3038370/   \n",
       "4  https://www.imdb.com/review/rw6260561/   \n",
       "\n",
       "                                                                                                                                                                                                                                                                                                                                                                                                                                                                                                           user_review  \\\n",
       "0  You have already watched this, right?\\nIt is really easy to understand the love for this movie. I'll admit, when it comes to movie adaptations of books, the book is always better. How can it not be? You get way more detail than could be crammed into a two-hour movie. However, I still thoroughly enjoyed this adaptation. Yes, it does deviate from the short a little with character changes and omissions, but I don't think this film could have been any better. I am in line with the ten-star revie...   \n",
       "1  Why do I want to write the 234th comment on The Shawshank Redemption? I am not sure - almost everything that could be possibly said about it has been said. But like so many other people who wrote comments, I was and am profoundly moved by this simple and eloquent depiction of hope and friendship and redemption. The only other movie I have ever seen that effects me as strongly is To Kill a Mockingbird. Both movies leave me feeling cleaner for having watched them.I didn't intend to see this mo...   \n",
       "2  \"The Godfather\" simply put, is one of the greatest films of all time. The script is thee best I've ever read. The direction is flawless. The acting may very well have the best ensemble cast in any movie I've ever seen or will ever see. It's also one of the most precise and intricate films I've ever come across as writer, Mario Puzo brings out some of the most hidden and guarded secrets of the underground world ever captured on film. Watching \"The Godfather,\" is like watching cinematic art. F...   \n",
       "3  'The Godfather' is the pinnacle of flawless films! The first time I viewed 'The Godfather' I was in my early teens and it was the most astounding film I had ever seen, and has since then stood as my all-time favourite film. It is due to this that I have been looking forward to writing a review of this unforgettable classic. So let's start from the beginning. The film opens to four words, 'I believe in America', it's crazy to think that this simple line has become a resonant quote solely due ...   \n",
       "4                                                                                                                                                                                                                                                                                                                                                                                                                              Wonderful motivational story. Especially wonderful acting mr.suriya in airports scenes.   \n",
       "\n",
       "  sentiment  \\\n",
       "0  negative   \n",
       "1  positive   \n",
       "2  negative   \n",
       "3  positive   \n",
       "4  negative   \n",
       "\n",
       "                                                                                                                                                                                                                                                                                                                                                                                                                                                                                                           noun_chunks  \n",
       "0                                                                                                                             [You, It, the love, this movie, I, it, movie adaptations, books, the book, it, You, way more detail, a two-hour movie, I, this adaptation, it, character changes, omissions, I, this film, I, line, the ten-star reviews, I, the only reason, I, this parable, hope, I, a rule, Hope, aspiration, the system, justice, humanism, the tyranny, the mainstream society/religion, the film]  \n",
       "1  [I, the 234th comment, The Shawshank Redemption, I, almost everything, it, so many other people, who, comments, I, this simple and eloquent depiction, hope, friendship, redemption, The only other movie, I, me, a Mockingbird, Both movies, me, them, I, this movie, I, prison movies, I, them, I, a branch library, I, The Shawshank Redemption, our older patrons, she, me, I, I, this movie, it, it, me, the time, I, nothing, TV, things, I, any circumstance, things, I, too many times, I, what, she, I,...  \n",
       "2  [The Godfather, the greatest films, all time, The script, thee, I, The direction, The acting, the best ensemble, any movie, I, It, the most precise and intricate films, I, writer, Mario Puzo, the most hidden and guarded secrets, the underground world, film, The Godfather, cinematic art, Francis Ford Coppola's direction, what, this film, earth, precision direction, he, each and every scene, such care, The film, a black screen, an opening monologue, an undertaker, the man, honor, family, respe...  \n",
       "3  [The Godfather, the pinnacle, flawless films, The first time, I, The Godfather' I, my early teens, it, the most astounding film, I, my all-time favourite film, It, I, a review, this unforgettable classic, 's, the beginning, The film, four words, I, America, it, this simple line, a resonant quote, the impact, it, the entrance, the film's \"threshold, the many renowned quotes, the film, me, a lot, the first take, we, the life, Vito Corleone, the Oscar- winning performance, Marlon Brando, Vito, ...  \n",
       "4                                                                                                                                                                                                                                                                                                                                                                                                                               [Wonderful motivational story, Especially wonderful acting mr.suriya, airports scenes]  "
      ]
     },
     "execution_count": 150,
     "metadata": {},
     "output_type": "execute_result"
    }
   ],
   "source": [
    "# convert user_review to noun chunks\n",
    "# add the noun chunks as column in dataframe\n",
    "df3['noun_chunks'] = df3['user_review'].apply(getNounChunks)\n",
    "df3.head()"
   ]
  },
  {
   "cell_type": "code",
   "execution_count": 151,
   "id": "comparable-publication",
   "metadata": {
    "scrolled": false
   },
   "outputs": [
    {
     "data": {
      "text/html": [
       "<div>\n",
       "<style scoped>\n",
       "    .dataframe tbody tr th:only-of-type {\n",
       "        vertical-align: middle;\n",
       "    }\n",
       "\n",
       "    .dataframe tbody tr th {\n",
       "        vertical-align: top;\n",
       "    }\n",
       "\n",
       "    .dataframe thead th {\n",
       "        text-align: right;\n",
       "    }\n",
       "</style>\n",
       "<table border=\"1\" class=\"dataframe\">\n",
       "  <thead>\n",
       "    <tr style=\"text-align: right;\">\n",
       "      <th></th>\n",
       "      <th>Unnamed: 0</th>\n",
       "      <th>movie</th>\n",
       "      <th>user_review_permalink</th>\n",
       "      <th>user_review</th>\n",
       "      <th>sentiment</th>\n",
       "      <th>noun_chunks</th>\n",
       "      <th>noun_chunk_mod</th>\n",
       "    </tr>\n",
       "  </thead>\n",
       "  <tbody>\n",
       "    <tr>\n",
       "      <th>0</th>\n",
       "      <td>0</td>\n",
       "      <td>The Shawshank Redemption</td>\n",
       "      <td>https://www.imdb.com/review/rw6627363/</td>\n",
       "      <td>You have already watched this, right?\\nIt is really easy to understand the love for this movie. I'll admit, when it comes to movie adaptations of books, the book is always better. How can it not be? You get way more detail than could be crammed into a two-hour movie. However, I still thoroughly enjoyed this adaptation. Yes, it does deviate from the short a little with character changes and omissions, but I don't think this film could have been any better. I am in line with the ten-star revie...</td>\n",
       "      <td>negative</td>\n",
       "      <td>[You, It, the love, this movie, I, it, movie adaptations, books, the book, it, You, way more detail, a two-hour movie, I, this adaptation, it, character changes, omissions, I, this film, I, line, the ten-star reviews, I, the only reason, I, this parable, hope, I, a rule, Hope, aspiration, the system, justice, humanism, the tyranny, the mainstream society/religion, the film]</td>\n",
       "      <td>You,It,the love,this movie,I,it,movie adaptations,books,the book,it,You,way more detail,a two-hour movie,I,this adaptation,it,character changes,omissions,I,this film,I,line,the ten-star reviews,I,the only reason,I,this parable,hope,I,a rule,Hope,aspiration,the system,justice,humanism,the tyranny,the mainstream society/religion,the film</td>\n",
       "    </tr>\n",
       "    <tr>\n",
       "      <th>1</th>\n",
       "      <td>1</td>\n",
       "      <td>The Shawshank Redemption</td>\n",
       "      <td>https://www.imdb.com/review/rw0349418/</td>\n",
       "      <td>Why do I want to write the 234th comment on The Shawshank Redemption? I am not sure - almost everything that could be possibly said about it has been said. But like so many other people who wrote comments, I was and am profoundly moved by this simple and eloquent depiction of hope and friendship and redemption. The only other movie I have ever seen that effects me as strongly is To Kill a Mockingbird. Both movies leave me feeling cleaner for having watched them.I didn't intend to see this mo...</td>\n",
       "      <td>positive</td>\n",
       "      <td>[I, the 234th comment, The Shawshank Redemption, I, almost everything, it, so many other people, who, comments, I, this simple and eloquent depiction, hope, friendship, redemption, The only other movie, I, me, a Mockingbird, Both movies, me, them, I, this movie, I, prison movies, I, them, I, a branch library, I, The Shawshank Redemption, our older patrons, she, me, I, I, this movie, it, it, me, the time, I, nothing, TV, things, I, any circumstance, things, I, too many times, I, what, she, I,...</td>\n",
       "      <td>I,the 234th comment,The Shawshank Redemption,I,almost everything,it,so many other people,who,comments,I,this simple and eloquent depiction,hope,friendship,redemption,The only other movie,I,me,a Mockingbird,Both movies,me,them,I,this movie,I,prison movies,I,them,I,a branch library,I,The Shawshank Redemption,our older patrons,she,me,I,I,this movie,it,it,me,the time,I,nothing,TV,things,I,any circumstance,things,I,too many times,I,what,she,I,it,I,it,it,every showing,No action,no special effects,...</td>\n",
       "    </tr>\n",
       "    <tr>\n",
       "      <th>2</th>\n",
       "      <td>2</td>\n",
       "      <td>The Godfather</td>\n",
       "      <td>https://www.imdb.com/review/rw1901277/</td>\n",
       "      <td>\"The Godfather\" simply put, is one of the greatest films of all time. The script is thee best I've ever read. The direction is flawless. The acting may very well have the best ensemble cast in any movie I've ever seen or will ever see. It's also one of the most precise and intricate films I've ever come across as writer, Mario Puzo brings out some of the most hidden and guarded secrets of the underground world ever captured on film. Watching \"The Godfather,\" is like watching cinematic art. F...</td>\n",
       "      <td>negative</td>\n",
       "      <td>[The Godfather, the greatest films, all time, The script, thee, I, The direction, The acting, the best ensemble, any movie, I, It, the most precise and intricate films, I, writer, Mario Puzo, the most hidden and guarded secrets, the underground world, film, The Godfather, cinematic art, Francis Ford Coppola's direction, what, this film, earth, precision direction, he, each and every scene, such care, The film, a black screen, an opening monologue, an undertaker, the man, honor, family, respe...</td>\n",
       "      <td>The Godfather,the greatest films,all time,The script,thee,I,The direction,The acting,the best ensemble,any movie,I,It,the most precise and intricate films,I,writer,Mario Puzo,the most hidden and guarded secrets,the underground world,film,The Godfather,cinematic art,Francis Ford Coppola's direction,what,this film,earth,precision direction,he,each and every scene,such care,The film,a black screen,an opening monologue,an undertaker,the man,honor,family,respect,justice,we,his luminous eyes,he,da...</td>\n",
       "    </tr>\n",
       "    <tr>\n",
       "      <th>3</th>\n",
       "      <td>3</td>\n",
       "      <td>The Godfather</td>\n",
       "      <td>https://www.imdb.com/review/rw3038370/</td>\n",
       "      <td>'The Godfather' is the pinnacle of flawless films! The first time I viewed 'The Godfather' I was in my early teens and it was the most astounding film I had ever seen, and has since then stood as my all-time favourite film. It is due to this that I have been looking forward to writing a review of this unforgettable classic. So let's start from the beginning. The film opens to four words, 'I believe in America', it's crazy to think that this simple line has become a resonant quote solely due ...</td>\n",
       "      <td>positive</td>\n",
       "      <td>[The Godfather, the pinnacle, flawless films, The first time, I, The Godfather' I, my early teens, it, the most astounding film, I, my all-time favourite film, It, I, a review, this unforgettable classic, 's, the beginning, The film, four words, I, America, it, this simple line, a resonant quote, the impact, it, the entrance, the film's \"threshold, the many renowned quotes, the film, me, a lot, the first take, we, the life, Vito Corleone, the Oscar- winning performance, Marlon Brando, Vito, ...</td>\n",
       "      <td>The Godfather,the pinnacle,flawless films,The first time,I,The Godfather' I,my early teens,it,the most astounding film,I,my all-time favourite film,It,I,a review,this unforgettable classic,'s,the beginning,The film,four words,I,America,it,this simple line,a resonant quote,the impact,it,the entrance,the film's \"threshold,the many renowned quotes,the film,me,a lot,the first take,we,the life,Vito Corleone,the Oscar- winning performance,Marlon Brando,Vito,a feared man,he,a criminal,he,a mafioso,...</td>\n",
       "    </tr>\n",
       "    <tr>\n",
       "      <th>4</th>\n",
       "      <td>4</td>\n",
       "      <td>Soorarai Pottru</td>\n",
       "      <td>https://www.imdb.com/review/rw6260561/</td>\n",
       "      <td>Wonderful motivational story. Especially wonderful acting mr.suriya in airports scenes.</td>\n",
       "      <td>negative</td>\n",
       "      <td>[Wonderful motivational story, Especially wonderful acting mr.suriya, airports scenes]</td>\n",
       "      <td>Wonderful motivational story,Especially wonderful acting mr.suriya,airports scenes</td>\n",
       "    </tr>\n",
       "  </tbody>\n",
       "</table>\n",
       "</div>"
      ],
      "text/plain": [
       "   Unnamed: 0                     movie  \\\n",
       "0           0  The Shawshank Redemption   \n",
       "1           1  The Shawshank Redemption   \n",
       "2           2             The Godfather   \n",
       "3           3             The Godfather   \n",
       "4           4           Soorarai Pottru   \n",
       "\n",
       "                    user_review_permalink  \\\n",
       "0  https://www.imdb.com/review/rw6627363/   \n",
       "1  https://www.imdb.com/review/rw0349418/   \n",
       "2  https://www.imdb.com/review/rw1901277/   \n",
       "3  https://www.imdb.com/review/rw3038370/   \n",
       "4  https://www.imdb.com/review/rw6260561/   \n",
       "\n",
       "                                                                                                                                                                                                                                                                                                                                                                                                                                                                                                           user_review  \\\n",
       "0  You have already watched this, right?\\nIt is really easy to understand the love for this movie. I'll admit, when it comes to movie adaptations of books, the book is always better. How can it not be? You get way more detail than could be crammed into a two-hour movie. However, I still thoroughly enjoyed this adaptation. Yes, it does deviate from the short a little with character changes and omissions, but I don't think this film could have been any better. I am in line with the ten-star revie...   \n",
       "1  Why do I want to write the 234th comment on The Shawshank Redemption? I am not sure - almost everything that could be possibly said about it has been said. But like so many other people who wrote comments, I was and am profoundly moved by this simple and eloquent depiction of hope and friendship and redemption. The only other movie I have ever seen that effects me as strongly is To Kill a Mockingbird. Both movies leave me feeling cleaner for having watched them.I didn't intend to see this mo...   \n",
       "2  \"The Godfather\" simply put, is one of the greatest films of all time. The script is thee best I've ever read. The direction is flawless. The acting may very well have the best ensemble cast in any movie I've ever seen or will ever see. It's also one of the most precise and intricate films I've ever come across as writer, Mario Puzo brings out some of the most hidden and guarded secrets of the underground world ever captured on film. Watching \"The Godfather,\" is like watching cinematic art. F...   \n",
       "3  'The Godfather' is the pinnacle of flawless films! The first time I viewed 'The Godfather' I was in my early teens and it was the most astounding film I had ever seen, and has since then stood as my all-time favourite film. It is due to this that I have been looking forward to writing a review of this unforgettable classic. So let's start from the beginning. The film opens to four words, 'I believe in America', it's crazy to think that this simple line has become a resonant quote solely due ...   \n",
       "4                                                                                                                                                                                                                                                                                                                                                                                                                              Wonderful motivational story. Especially wonderful acting mr.suriya in airports scenes.   \n",
       "\n",
       "  sentiment  \\\n",
       "0  negative   \n",
       "1  positive   \n",
       "2  negative   \n",
       "3  positive   \n",
       "4  negative   \n",
       "\n",
       "                                                                                                                                                                                                                                                                                                                                                                                                                                                                                                           noun_chunks  \\\n",
       "0                                                                                                                             [You, It, the love, this movie, I, it, movie adaptations, books, the book, it, You, way more detail, a two-hour movie, I, this adaptation, it, character changes, omissions, I, this film, I, line, the ten-star reviews, I, the only reason, I, this parable, hope, I, a rule, Hope, aspiration, the system, justice, humanism, the tyranny, the mainstream society/religion, the film]   \n",
       "1  [I, the 234th comment, The Shawshank Redemption, I, almost everything, it, so many other people, who, comments, I, this simple and eloquent depiction, hope, friendship, redemption, The only other movie, I, me, a Mockingbird, Both movies, me, them, I, this movie, I, prison movies, I, them, I, a branch library, I, The Shawshank Redemption, our older patrons, she, me, I, I, this movie, it, it, me, the time, I, nothing, TV, things, I, any circumstance, things, I, too many times, I, what, she, I,...   \n",
       "2  [The Godfather, the greatest films, all time, The script, thee, I, The direction, The acting, the best ensemble, any movie, I, It, the most precise and intricate films, I, writer, Mario Puzo, the most hidden and guarded secrets, the underground world, film, The Godfather, cinematic art, Francis Ford Coppola's direction, what, this film, earth, precision direction, he, each and every scene, such care, The film, a black screen, an opening monologue, an undertaker, the man, honor, family, respe...   \n",
       "3  [The Godfather, the pinnacle, flawless films, The first time, I, The Godfather' I, my early teens, it, the most astounding film, I, my all-time favourite film, It, I, a review, this unforgettable classic, 's, the beginning, The film, four words, I, America, it, this simple line, a resonant quote, the impact, it, the entrance, the film's \"threshold, the many renowned quotes, the film, me, a lot, the first take, we, the life, Vito Corleone, the Oscar- winning performance, Marlon Brando, Vito, ...   \n",
       "4                                                                                                                                                                                                                                                                                                                                                                                                                               [Wonderful motivational story, Especially wonderful acting mr.suriya, airports scenes]   \n",
       "\n",
       "                                                                                                                                                                                                                                                                                                                                                                                                                                                                                                        noun_chunk_mod  \n",
       "0                                                                                                                                                                    You,It,the love,this movie,I,it,movie adaptations,books,the book,it,You,way more detail,a two-hour movie,I,this adaptation,it,character changes,omissions,I,this film,I,line,the ten-star reviews,I,the only reason,I,this parable,hope,I,a rule,Hope,aspiration,the system,justice,humanism,the tyranny,the mainstream society/religion,the film  \n",
       "1  I,the 234th comment,The Shawshank Redemption,I,almost everything,it,so many other people,who,comments,I,this simple and eloquent depiction,hope,friendship,redemption,The only other movie,I,me,a Mockingbird,Both movies,me,them,I,this movie,I,prison movies,I,them,I,a branch library,I,The Shawshank Redemption,our older patrons,she,me,I,I,this movie,it,it,me,the time,I,nothing,TV,things,I,any circumstance,things,I,too many times,I,what,she,I,it,I,it,it,every showing,No action,no special effects,...  \n",
       "2  The Godfather,the greatest films,all time,The script,thee,I,The direction,The acting,the best ensemble,any movie,I,It,the most precise and intricate films,I,writer,Mario Puzo,the most hidden and guarded secrets,the underground world,film,The Godfather,cinematic art,Francis Ford Coppola's direction,what,this film,earth,precision direction,he,each and every scene,such care,The film,a black screen,an opening monologue,an undertaker,the man,honor,family,respect,justice,we,his luminous eyes,he,da...  \n",
       "3  The Godfather,the pinnacle,flawless films,The first time,I,The Godfather' I,my early teens,it,the most astounding film,I,my all-time favourite film,It,I,a review,this unforgettable classic,'s,the beginning,The film,four words,I,America,it,this simple line,a resonant quote,the impact,it,the entrance,the film's \"threshold,the many renowned quotes,the film,me,a lot,the first take,we,the life,Vito Corleone,the Oscar- winning performance,Marlon Brando,Vito,a feared man,he,a criminal,he,a mafioso,...  \n",
       "4                                                                                                                                                                                                                                                                                                                                                                                                                                   Wonderful motivational story,Especially wonderful acting mr.suriya,airports scenes  "
      ]
     },
     "execution_count": 151,
     "metadata": {},
     "output_type": "execute_result"
    }
   ],
   "source": [
    "# convert noun_chunk_mod as string from noun_chunk list\n",
    "df3['noun_chunk_mod'] = [','.join(map(str, l)) for l in df3['noun_chunks']]\n",
    "df3.head()\n"
   ]
  },
  {
   "cell_type": "code",
   "execution_count": 152,
   "id": "external-bibliography",
   "metadata": {},
   "outputs": [
    {
     "data": {
      "text/html": [
       "<div>\n",
       "<style scoped>\n",
       "    .dataframe tbody tr th:only-of-type {\n",
       "        vertical-align: middle;\n",
       "    }\n",
       "\n",
       "    .dataframe tbody tr th {\n",
       "        vertical-align: top;\n",
       "    }\n",
       "\n",
       "    .dataframe thead th {\n",
       "        text-align: right;\n",
       "    }\n",
       "</style>\n",
       "<table border=\"1\" class=\"dataframe\">\n",
       "  <thead>\n",
       "    <tr style=\"text-align: right;\">\n",
       "      <th></th>\n",
       "      <th>Unnamed: 0</th>\n",
       "      <th>movie</th>\n",
       "      <th>user_review_permalink</th>\n",
       "      <th>user_review</th>\n",
       "      <th>sentiment</th>\n",
       "      <th>noun_chunks</th>\n",
       "      <th>noun_chunk_mod</th>\n",
       "      <th>scores_nc</th>\n",
       "    </tr>\n",
       "  </thead>\n",
       "  <tbody>\n",
       "    <tr>\n",
       "      <th>0</th>\n",
       "      <td>0</td>\n",
       "      <td>The Shawshank Redemption</td>\n",
       "      <td>https://www.imdb.com/review/rw6627363/</td>\n",
       "      <td>You have already watched this, right?\\nIt is really easy to understand the love for this movie. I'll admit, when it comes to movie adaptations of books, the book is always better. How can it not be? You get way more detail than could be crammed into a two-hour movie. However, I still thoroughly enjoyed this adaptation. Yes, it does deviate from the short a little with character changes and omissions, but I don't think this film could have been any better. I am in line with the ten-star revie...</td>\n",
       "      <td>negative</td>\n",
       "      <td>[You, It, the love, this movie, I, it, movie adaptations, books, the book, it, You, way more detail, a two-hour movie, I, this adaptation, it, character changes, omissions, I, this film, I, line, the ten-star reviews, I, the only reason, I, this parable, hope, I, a rule, Hope, aspiration, the system, justice, humanism, the tyranny, the mainstream society/religion, the film]</td>\n",
       "      <td>You,It,the love,this movie,I,it,movie adaptations,books,the book,it,You,way more detail,a two-hour movie,I,this adaptation,it,character changes,omissions,I,this film,I,line,the ten-star reviews,I,the only reason,I,this parable,hope,I,a rule,Hope,aspiration,the system,justice,humanism,the tyranny,the mainstream society/religion,the film</td>\n",
       "      <td>{'neg': 0.0, 'neu': 1.0, 'pos': 0.0, 'compound': 0.0}</td>\n",
       "    </tr>\n",
       "    <tr>\n",
       "      <th>1</th>\n",
       "      <td>1</td>\n",
       "      <td>The Shawshank Redemption</td>\n",
       "      <td>https://www.imdb.com/review/rw0349418/</td>\n",
       "      <td>Why do I want to write the 234th comment on The Shawshank Redemption? I am not sure - almost everything that could be possibly said about it has been said. But like so many other people who wrote comments, I was and am profoundly moved by this simple and eloquent depiction of hope and friendship and redemption. The only other movie I have ever seen that effects me as strongly is To Kill a Mockingbird. Both movies leave me feeling cleaner for having watched them.I didn't intend to see this mo...</td>\n",
       "      <td>positive</td>\n",
       "      <td>[I, the 234th comment, The Shawshank Redemption, I, almost everything, it, so many other people, who, comments, I, this simple and eloquent depiction, hope, friendship, redemption, The only other movie, I, me, a Mockingbird, Both movies, me, them, I, this movie, I, prison movies, I, them, I, a branch library, I, The Shawshank Redemption, our older patrons, she, me, I, I, this movie, it, it, me, the time, I, nothing, TV, things, I, any circumstance, things, I, too many times, I, what, she, I,...</td>\n",
       "      <td>I,the 234th comment,The Shawshank Redemption,I,almost everything,it,so many other people,who,comments,I,this simple and eloquent depiction,hope,friendship,redemption,The only other movie,I,me,a Mockingbird,Both movies,me,them,I,this movie,I,prison movies,I,them,I,a branch library,I,The Shawshank Redemption,our older patrons,she,me,I,I,this movie,it,it,me,the time,I,nothing,TV,things,I,any circumstance,things,I,too many times,I,what,she,I,it,I,it,it,every showing,No action,no special effects,...</td>\n",
       "      <td>{'neg': 0.0, 'neu': 0.708, 'pos': 0.292, 'compound': 0.9741}</td>\n",
       "    </tr>\n",
       "    <tr>\n",
       "      <th>2</th>\n",
       "      <td>2</td>\n",
       "      <td>The Godfather</td>\n",
       "      <td>https://www.imdb.com/review/rw1901277/</td>\n",
       "      <td>\"The Godfather\" simply put, is one of the greatest films of all time. The script is thee best I've ever read. The direction is flawless. The acting may very well have the best ensemble cast in any movie I've ever seen or will ever see. It's also one of the most precise and intricate films I've ever come across as writer, Mario Puzo brings out some of the most hidden and guarded secrets of the underground world ever captured on film. Watching \"The Godfather,\" is like watching cinematic art. F...</td>\n",
       "      <td>negative</td>\n",
       "      <td>[The Godfather, the greatest films, all time, The script, thee, I, The direction, The acting, the best ensemble, any movie, I, It, the most precise and intricate films, I, writer, Mario Puzo, the most hidden and guarded secrets, the underground world, film, The Godfather, cinematic art, Francis Ford Coppola's direction, what, this film, earth, precision direction, he, each and every scene, such care, The film, a black screen, an opening monologue, an undertaker, the man, honor, family, respe...</td>\n",
       "      <td>The Godfather,the greatest films,all time,The script,thee,I,The direction,The acting,the best ensemble,any movie,I,It,the most precise and intricate films,I,writer,Mario Puzo,the most hidden and guarded secrets,the underground world,film,The Godfather,cinematic art,Francis Ford Coppola's direction,what,this film,earth,precision direction,he,each and every scene,such care,The film,a black screen,an opening monologue,an undertaker,the man,honor,family,respect,justice,we,his luminous eyes,he,da...</td>\n",
       "      <td>{'neg': 0.006, 'neu': 0.891, 'pos': 0.104, 'compound': 0.9746}</td>\n",
       "    </tr>\n",
       "    <tr>\n",
       "      <th>3</th>\n",
       "      <td>3</td>\n",
       "      <td>The Godfather</td>\n",
       "      <td>https://www.imdb.com/review/rw3038370/</td>\n",
       "      <td>'The Godfather' is the pinnacle of flawless films! The first time I viewed 'The Godfather' I was in my early teens and it was the most astounding film I had ever seen, and has since then stood as my all-time favourite film. It is due to this that I have been looking forward to writing a review of this unforgettable classic. So let's start from the beginning. The film opens to four words, 'I believe in America', it's crazy to think that this simple line has become a resonant quote solely due ...</td>\n",
       "      <td>positive</td>\n",
       "      <td>[The Godfather, the pinnacle, flawless films, The first time, I, The Godfather' I, my early teens, it, the most astounding film, I, my all-time favourite film, It, I, a review, this unforgettable classic, 's, the beginning, The film, four words, I, America, it, this simple line, a resonant quote, the impact, it, the entrance, the film's \"threshold, the many renowned quotes, the film, me, a lot, the first take, we, the life, Vito Corleone, the Oscar- winning performance, Marlon Brando, Vito, ...</td>\n",
       "      <td>The Godfather,the pinnacle,flawless films,The first time,I,The Godfather' I,my early teens,it,the most astounding film,I,my all-time favourite film,It,I,a review,this unforgettable classic,'s,the beginning,The film,four words,I,America,it,this simple line,a resonant quote,the impact,it,the entrance,the film's \"threshold,the many renowned quotes,the film,me,a lot,the first take,we,the life,Vito Corleone,the Oscar- winning performance,Marlon Brando,Vito,a feared man,he,a criminal,he,a mafioso,...</td>\n",
       "      <td>{'neg': 0.107, 'neu': 0.69, 'pos': 0.203, 'compound': 0.9357}</td>\n",
       "    </tr>\n",
       "    <tr>\n",
       "      <th>4</th>\n",
       "      <td>4</td>\n",
       "      <td>Soorarai Pottru</td>\n",
       "      <td>https://www.imdb.com/review/rw6260561/</td>\n",
       "      <td>Wonderful motivational story. Especially wonderful acting mr.suriya in airports scenes.</td>\n",
       "      <td>negative</td>\n",
       "      <td>[Wonderful motivational story, Especially wonderful acting mr.suriya, airports scenes]</td>\n",
       "      <td>Wonderful motivational story,Especially wonderful acting mr.suriya,airports scenes</td>\n",
       "      <td>{'neg': 0.0, 'neu': 0.403, 'pos': 0.597, 'compound': 0.8126}</td>\n",
       "    </tr>\n",
       "  </tbody>\n",
       "</table>\n",
       "</div>"
      ],
      "text/plain": [
       "   Unnamed: 0                     movie  \\\n",
       "0           0  The Shawshank Redemption   \n",
       "1           1  The Shawshank Redemption   \n",
       "2           2             The Godfather   \n",
       "3           3             The Godfather   \n",
       "4           4           Soorarai Pottru   \n",
       "\n",
       "                    user_review_permalink  \\\n",
       "0  https://www.imdb.com/review/rw6627363/   \n",
       "1  https://www.imdb.com/review/rw0349418/   \n",
       "2  https://www.imdb.com/review/rw1901277/   \n",
       "3  https://www.imdb.com/review/rw3038370/   \n",
       "4  https://www.imdb.com/review/rw6260561/   \n",
       "\n",
       "                                                                                                                                                                                                                                                                                                                                                                                                                                                                                                           user_review  \\\n",
       "0  You have already watched this, right?\\nIt is really easy to understand the love for this movie. I'll admit, when it comes to movie adaptations of books, the book is always better. How can it not be? You get way more detail than could be crammed into a two-hour movie. However, I still thoroughly enjoyed this adaptation. Yes, it does deviate from the short a little with character changes and omissions, but I don't think this film could have been any better. I am in line with the ten-star revie...   \n",
       "1  Why do I want to write the 234th comment on The Shawshank Redemption? I am not sure - almost everything that could be possibly said about it has been said. But like so many other people who wrote comments, I was and am profoundly moved by this simple and eloquent depiction of hope and friendship and redemption. The only other movie I have ever seen that effects me as strongly is To Kill a Mockingbird. Both movies leave me feeling cleaner for having watched them.I didn't intend to see this mo...   \n",
       "2  \"The Godfather\" simply put, is one of the greatest films of all time. The script is thee best I've ever read. The direction is flawless. The acting may very well have the best ensemble cast in any movie I've ever seen or will ever see. It's also one of the most precise and intricate films I've ever come across as writer, Mario Puzo brings out some of the most hidden and guarded secrets of the underground world ever captured on film. Watching \"The Godfather,\" is like watching cinematic art. F...   \n",
       "3  'The Godfather' is the pinnacle of flawless films! The first time I viewed 'The Godfather' I was in my early teens and it was the most astounding film I had ever seen, and has since then stood as my all-time favourite film. It is due to this that I have been looking forward to writing a review of this unforgettable classic. So let's start from the beginning. The film opens to four words, 'I believe in America', it's crazy to think that this simple line has become a resonant quote solely due ...   \n",
       "4                                                                                                                                                                                                                                                                                                                                                                                                                              Wonderful motivational story. Especially wonderful acting mr.suriya in airports scenes.   \n",
       "\n",
       "  sentiment  \\\n",
       "0  negative   \n",
       "1  positive   \n",
       "2  negative   \n",
       "3  positive   \n",
       "4  negative   \n",
       "\n",
       "                                                                                                                                                                                                                                                                                                                                                                                                                                                                                                           noun_chunks  \\\n",
       "0                                                                                                                             [You, It, the love, this movie, I, it, movie adaptations, books, the book, it, You, way more detail, a two-hour movie, I, this adaptation, it, character changes, omissions, I, this film, I, line, the ten-star reviews, I, the only reason, I, this parable, hope, I, a rule, Hope, aspiration, the system, justice, humanism, the tyranny, the mainstream society/religion, the film]   \n",
       "1  [I, the 234th comment, The Shawshank Redemption, I, almost everything, it, so many other people, who, comments, I, this simple and eloquent depiction, hope, friendship, redemption, The only other movie, I, me, a Mockingbird, Both movies, me, them, I, this movie, I, prison movies, I, them, I, a branch library, I, The Shawshank Redemption, our older patrons, she, me, I, I, this movie, it, it, me, the time, I, nothing, TV, things, I, any circumstance, things, I, too many times, I, what, she, I,...   \n",
       "2  [The Godfather, the greatest films, all time, The script, thee, I, The direction, The acting, the best ensemble, any movie, I, It, the most precise and intricate films, I, writer, Mario Puzo, the most hidden and guarded secrets, the underground world, film, The Godfather, cinematic art, Francis Ford Coppola's direction, what, this film, earth, precision direction, he, each and every scene, such care, The film, a black screen, an opening monologue, an undertaker, the man, honor, family, respe...   \n",
       "3  [The Godfather, the pinnacle, flawless films, The first time, I, The Godfather' I, my early teens, it, the most astounding film, I, my all-time favourite film, It, I, a review, this unforgettable classic, 's, the beginning, The film, four words, I, America, it, this simple line, a resonant quote, the impact, it, the entrance, the film's \"threshold, the many renowned quotes, the film, me, a lot, the first take, we, the life, Vito Corleone, the Oscar- winning performance, Marlon Brando, Vito, ...   \n",
       "4                                                                                                                                                                                                                                                                                                                                                                                                                               [Wonderful motivational story, Especially wonderful acting mr.suriya, airports scenes]   \n",
       "\n",
       "                                                                                                                                                                                                                                                                                                                                                                                                                                                                                                        noun_chunk_mod  \\\n",
       "0                                                                                                                                                                    You,It,the love,this movie,I,it,movie adaptations,books,the book,it,You,way more detail,a two-hour movie,I,this adaptation,it,character changes,omissions,I,this film,I,line,the ten-star reviews,I,the only reason,I,this parable,hope,I,a rule,Hope,aspiration,the system,justice,humanism,the tyranny,the mainstream society/religion,the film   \n",
       "1  I,the 234th comment,The Shawshank Redemption,I,almost everything,it,so many other people,who,comments,I,this simple and eloquent depiction,hope,friendship,redemption,The only other movie,I,me,a Mockingbird,Both movies,me,them,I,this movie,I,prison movies,I,them,I,a branch library,I,The Shawshank Redemption,our older patrons,she,me,I,I,this movie,it,it,me,the time,I,nothing,TV,things,I,any circumstance,things,I,too many times,I,what,she,I,it,I,it,it,every showing,No action,no special effects,...   \n",
       "2  The Godfather,the greatest films,all time,The script,thee,I,The direction,The acting,the best ensemble,any movie,I,It,the most precise and intricate films,I,writer,Mario Puzo,the most hidden and guarded secrets,the underground world,film,The Godfather,cinematic art,Francis Ford Coppola's direction,what,this film,earth,precision direction,he,each and every scene,such care,The film,a black screen,an opening monologue,an undertaker,the man,honor,family,respect,justice,we,his luminous eyes,he,da...   \n",
       "3  The Godfather,the pinnacle,flawless films,The first time,I,The Godfather' I,my early teens,it,the most astounding film,I,my all-time favourite film,It,I,a review,this unforgettable classic,'s,the beginning,The film,four words,I,America,it,this simple line,a resonant quote,the impact,it,the entrance,the film's \"threshold,the many renowned quotes,the film,me,a lot,the first take,we,the life,Vito Corleone,the Oscar- winning performance,Marlon Brando,Vito,a feared man,he,a criminal,he,a mafioso,...   \n",
       "4                                                                                                                                                                                                                                                                                                                                                                                                                                   Wonderful motivational story,Especially wonderful acting mr.suriya,airports scenes   \n",
       "\n",
       "                                                        scores_nc  \n",
       "0           {'neg': 0.0, 'neu': 1.0, 'pos': 0.0, 'compound': 0.0}  \n",
       "1    {'neg': 0.0, 'neu': 0.708, 'pos': 0.292, 'compound': 0.9741}  \n",
       "2  {'neg': 0.006, 'neu': 0.891, 'pos': 0.104, 'compound': 0.9746}  \n",
       "3   {'neg': 0.107, 'neu': 0.69, 'pos': 0.203, 'compound': 0.9357}  \n",
       "4    {'neg': 0.0, 'neu': 0.403, 'pos': 0.597, 'compound': 0.8126}  "
      ]
     },
     "execution_count": 152,
     "metadata": {},
     "output_type": "execute_result"
    }
   ],
   "source": [
    "# Apply this noun_chunk_mod in dataframe as polarity score in column scores_nc\n",
    "\n",
    "df3['scores_nc'] = df3['noun_chunk_mod'].apply(lambda noun_chunk_mod: sid.polarity_scores(noun_chunk_mod))\n",
    "df3.head()"
   ]
  },
  {
   "cell_type": "code",
   "execution_count": 153,
   "id": "monthly-length",
   "metadata": {},
   "outputs": [
    {
     "data": {
      "text/html": [
       "<div>\n",
       "<style scoped>\n",
       "    .dataframe tbody tr th:only-of-type {\n",
       "        vertical-align: middle;\n",
       "    }\n",
       "\n",
       "    .dataframe tbody tr th {\n",
       "        vertical-align: top;\n",
       "    }\n",
       "\n",
       "    .dataframe thead th {\n",
       "        text-align: right;\n",
       "    }\n",
       "</style>\n",
       "<table border=\"1\" class=\"dataframe\">\n",
       "  <thead>\n",
       "    <tr style=\"text-align: right;\">\n",
       "      <th></th>\n",
       "      <th>Unnamed: 0</th>\n",
       "      <th>movie</th>\n",
       "      <th>user_review_permalink</th>\n",
       "      <th>user_review</th>\n",
       "      <th>sentiment</th>\n",
       "      <th>noun_chunks</th>\n",
       "      <th>noun_chunk_mod</th>\n",
       "      <th>scores_nc</th>\n",
       "      <th>compound_nc</th>\n",
       "    </tr>\n",
       "  </thead>\n",
       "  <tbody>\n",
       "    <tr>\n",
       "      <th>0</th>\n",
       "      <td>0</td>\n",
       "      <td>The Shawshank Redemption</td>\n",
       "      <td>https://www.imdb.com/review/rw6627363/</td>\n",
       "      <td>You have already watched this, right?\\nIt is really easy to understand the love for this movie. I'll admit, when it comes to movie adaptations of books, the book is always better. How can it not be? You get way more detail than could be crammed into a two-hour movie. However, I still thoroughly enjoyed this adaptation. Yes, it does deviate from the short a little with character changes and omissions, but I don't think this film could have been any better. I am in line with the ten-star revie...</td>\n",
       "      <td>negative</td>\n",
       "      <td>[You, It, the love, this movie, I, it, movie adaptations, books, the book, it, You, way more detail, a two-hour movie, I, this adaptation, it, character changes, omissions, I, this film, I, line, the ten-star reviews, I, the only reason, I, this parable, hope, I, a rule, Hope, aspiration, the system, justice, humanism, the tyranny, the mainstream society/religion, the film]</td>\n",
       "      <td>You,It,the love,this movie,I,it,movie adaptations,books,the book,it,You,way more detail,a two-hour movie,I,this adaptation,it,character changes,omissions,I,this film,I,line,the ten-star reviews,I,the only reason,I,this parable,hope,I,a rule,Hope,aspiration,the system,justice,humanism,the tyranny,the mainstream society/religion,the film</td>\n",
       "      <td>{'neg': 0.0, 'neu': 1.0, 'pos': 0.0, 'compound': 0.0}</td>\n",
       "      <td>0.0000</td>\n",
       "    </tr>\n",
       "    <tr>\n",
       "      <th>1</th>\n",
       "      <td>1</td>\n",
       "      <td>The Shawshank Redemption</td>\n",
       "      <td>https://www.imdb.com/review/rw0349418/</td>\n",
       "      <td>Why do I want to write the 234th comment on The Shawshank Redemption? I am not sure - almost everything that could be possibly said about it has been said. But like so many other people who wrote comments, I was and am profoundly moved by this simple and eloquent depiction of hope and friendship and redemption. The only other movie I have ever seen that effects me as strongly is To Kill a Mockingbird. Both movies leave me feeling cleaner for having watched them.I didn't intend to see this mo...</td>\n",
       "      <td>positive</td>\n",
       "      <td>[I, the 234th comment, The Shawshank Redemption, I, almost everything, it, so many other people, who, comments, I, this simple and eloquent depiction, hope, friendship, redemption, The only other movie, I, me, a Mockingbird, Both movies, me, them, I, this movie, I, prison movies, I, them, I, a branch library, I, The Shawshank Redemption, our older patrons, she, me, I, I, this movie, it, it, me, the time, I, nothing, TV, things, I, any circumstance, things, I, too many times, I, what, she, I,...</td>\n",
       "      <td>I,the 234th comment,The Shawshank Redemption,I,almost everything,it,so many other people,who,comments,I,this simple and eloquent depiction,hope,friendship,redemption,The only other movie,I,me,a Mockingbird,Both movies,me,them,I,this movie,I,prison movies,I,them,I,a branch library,I,The Shawshank Redemption,our older patrons,she,me,I,I,this movie,it,it,me,the time,I,nothing,TV,things,I,any circumstance,things,I,too many times,I,what,she,I,it,I,it,it,every showing,No action,no special effects,...</td>\n",
       "      <td>{'neg': 0.0, 'neu': 0.708, 'pos': 0.292, 'compound': 0.9741}</td>\n",
       "      <td>0.9741</td>\n",
       "    </tr>\n",
       "    <tr>\n",
       "      <th>2</th>\n",
       "      <td>2</td>\n",
       "      <td>The Godfather</td>\n",
       "      <td>https://www.imdb.com/review/rw1901277/</td>\n",
       "      <td>\"The Godfather\" simply put, is one of the greatest films of all time. The script is thee best I've ever read. The direction is flawless. The acting may very well have the best ensemble cast in any movie I've ever seen or will ever see. It's also one of the most precise and intricate films I've ever come across as writer, Mario Puzo brings out some of the most hidden and guarded secrets of the underground world ever captured on film. Watching \"The Godfather,\" is like watching cinematic art. F...</td>\n",
       "      <td>negative</td>\n",
       "      <td>[The Godfather, the greatest films, all time, The script, thee, I, The direction, The acting, the best ensemble, any movie, I, It, the most precise and intricate films, I, writer, Mario Puzo, the most hidden and guarded secrets, the underground world, film, The Godfather, cinematic art, Francis Ford Coppola's direction, what, this film, earth, precision direction, he, each and every scene, such care, The film, a black screen, an opening monologue, an undertaker, the man, honor, family, respe...</td>\n",
       "      <td>The Godfather,the greatest films,all time,The script,thee,I,The direction,The acting,the best ensemble,any movie,I,It,the most precise and intricate films,I,writer,Mario Puzo,the most hidden and guarded secrets,the underground world,film,The Godfather,cinematic art,Francis Ford Coppola's direction,what,this film,earth,precision direction,he,each and every scene,such care,The film,a black screen,an opening monologue,an undertaker,the man,honor,family,respect,justice,we,his luminous eyes,he,da...</td>\n",
       "      <td>{'neg': 0.006, 'neu': 0.891, 'pos': 0.104, 'compound': 0.9746}</td>\n",
       "      <td>0.9746</td>\n",
       "    </tr>\n",
       "    <tr>\n",
       "      <th>3</th>\n",
       "      <td>3</td>\n",
       "      <td>The Godfather</td>\n",
       "      <td>https://www.imdb.com/review/rw3038370/</td>\n",
       "      <td>'The Godfather' is the pinnacle of flawless films! The first time I viewed 'The Godfather' I was in my early teens and it was the most astounding film I had ever seen, and has since then stood as my all-time favourite film. It is due to this that I have been looking forward to writing a review of this unforgettable classic. So let's start from the beginning. The film opens to four words, 'I believe in America', it's crazy to think that this simple line has become a resonant quote solely due ...</td>\n",
       "      <td>positive</td>\n",
       "      <td>[The Godfather, the pinnacle, flawless films, The first time, I, The Godfather' I, my early teens, it, the most astounding film, I, my all-time favourite film, It, I, a review, this unforgettable classic, 's, the beginning, The film, four words, I, America, it, this simple line, a resonant quote, the impact, it, the entrance, the film's \"threshold, the many renowned quotes, the film, me, a lot, the first take, we, the life, Vito Corleone, the Oscar- winning performance, Marlon Brando, Vito, ...</td>\n",
       "      <td>The Godfather,the pinnacle,flawless films,The first time,I,The Godfather' I,my early teens,it,the most astounding film,I,my all-time favourite film,It,I,a review,this unforgettable classic,'s,the beginning,The film,four words,I,America,it,this simple line,a resonant quote,the impact,it,the entrance,the film's \"threshold,the many renowned quotes,the film,me,a lot,the first take,we,the life,Vito Corleone,the Oscar- winning performance,Marlon Brando,Vito,a feared man,he,a criminal,he,a mafioso,...</td>\n",
       "      <td>{'neg': 0.107, 'neu': 0.69, 'pos': 0.203, 'compound': 0.9357}</td>\n",
       "      <td>0.9357</td>\n",
       "    </tr>\n",
       "    <tr>\n",
       "      <th>4</th>\n",
       "      <td>4</td>\n",
       "      <td>Soorarai Pottru</td>\n",
       "      <td>https://www.imdb.com/review/rw6260561/</td>\n",
       "      <td>Wonderful motivational story. Especially wonderful acting mr.suriya in airports scenes.</td>\n",
       "      <td>negative</td>\n",
       "      <td>[Wonderful motivational story, Especially wonderful acting mr.suriya, airports scenes]</td>\n",
       "      <td>Wonderful motivational story,Especially wonderful acting mr.suriya,airports scenes</td>\n",
       "      <td>{'neg': 0.0, 'neu': 0.403, 'pos': 0.597, 'compound': 0.8126}</td>\n",
       "      <td>0.8126</td>\n",
       "    </tr>\n",
       "  </tbody>\n",
       "</table>\n",
       "</div>"
      ],
      "text/plain": [
       "   Unnamed: 0                     movie  \\\n",
       "0           0  The Shawshank Redemption   \n",
       "1           1  The Shawshank Redemption   \n",
       "2           2             The Godfather   \n",
       "3           3             The Godfather   \n",
       "4           4           Soorarai Pottru   \n",
       "\n",
       "                    user_review_permalink  \\\n",
       "0  https://www.imdb.com/review/rw6627363/   \n",
       "1  https://www.imdb.com/review/rw0349418/   \n",
       "2  https://www.imdb.com/review/rw1901277/   \n",
       "3  https://www.imdb.com/review/rw3038370/   \n",
       "4  https://www.imdb.com/review/rw6260561/   \n",
       "\n",
       "                                                                                                                                                                                                                                                                                                                                                                                                                                                                                                           user_review  \\\n",
       "0  You have already watched this, right?\\nIt is really easy to understand the love for this movie. I'll admit, when it comes to movie adaptations of books, the book is always better. How can it not be? You get way more detail than could be crammed into a two-hour movie. However, I still thoroughly enjoyed this adaptation. Yes, it does deviate from the short a little with character changes and omissions, but I don't think this film could have been any better. I am in line with the ten-star revie...   \n",
       "1  Why do I want to write the 234th comment on The Shawshank Redemption? I am not sure - almost everything that could be possibly said about it has been said. But like so many other people who wrote comments, I was and am profoundly moved by this simple and eloquent depiction of hope and friendship and redemption. The only other movie I have ever seen that effects me as strongly is To Kill a Mockingbird. Both movies leave me feeling cleaner for having watched them.I didn't intend to see this mo...   \n",
       "2  \"The Godfather\" simply put, is one of the greatest films of all time. The script is thee best I've ever read. The direction is flawless. The acting may very well have the best ensemble cast in any movie I've ever seen or will ever see. It's also one of the most precise and intricate films I've ever come across as writer, Mario Puzo brings out some of the most hidden and guarded secrets of the underground world ever captured on film. Watching \"The Godfather,\" is like watching cinematic art. F...   \n",
       "3  'The Godfather' is the pinnacle of flawless films! The first time I viewed 'The Godfather' I was in my early teens and it was the most astounding film I had ever seen, and has since then stood as my all-time favourite film. It is due to this that I have been looking forward to writing a review of this unforgettable classic. So let's start from the beginning. The film opens to four words, 'I believe in America', it's crazy to think that this simple line has become a resonant quote solely due ...   \n",
       "4                                                                                                                                                                                                                                                                                                                                                                                                                              Wonderful motivational story. Especially wonderful acting mr.suriya in airports scenes.   \n",
       "\n",
       "  sentiment  \\\n",
       "0  negative   \n",
       "1  positive   \n",
       "2  negative   \n",
       "3  positive   \n",
       "4  negative   \n",
       "\n",
       "                                                                                                                                                                                                                                                                                                                                                                                                                                                                                                           noun_chunks  \\\n",
       "0                                                                                                                             [You, It, the love, this movie, I, it, movie adaptations, books, the book, it, You, way more detail, a two-hour movie, I, this adaptation, it, character changes, omissions, I, this film, I, line, the ten-star reviews, I, the only reason, I, this parable, hope, I, a rule, Hope, aspiration, the system, justice, humanism, the tyranny, the mainstream society/religion, the film]   \n",
       "1  [I, the 234th comment, The Shawshank Redemption, I, almost everything, it, so many other people, who, comments, I, this simple and eloquent depiction, hope, friendship, redemption, The only other movie, I, me, a Mockingbird, Both movies, me, them, I, this movie, I, prison movies, I, them, I, a branch library, I, The Shawshank Redemption, our older patrons, she, me, I, I, this movie, it, it, me, the time, I, nothing, TV, things, I, any circumstance, things, I, too many times, I, what, she, I,...   \n",
       "2  [The Godfather, the greatest films, all time, The script, thee, I, The direction, The acting, the best ensemble, any movie, I, It, the most precise and intricate films, I, writer, Mario Puzo, the most hidden and guarded secrets, the underground world, film, The Godfather, cinematic art, Francis Ford Coppola's direction, what, this film, earth, precision direction, he, each and every scene, such care, The film, a black screen, an opening monologue, an undertaker, the man, honor, family, respe...   \n",
       "3  [The Godfather, the pinnacle, flawless films, The first time, I, The Godfather' I, my early teens, it, the most astounding film, I, my all-time favourite film, It, I, a review, this unforgettable classic, 's, the beginning, The film, four words, I, America, it, this simple line, a resonant quote, the impact, it, the entrance, the film's \"threshold, the many renowned quotes, the film, me, a lot, the first take, we, the life, Vito Corleone, the Oscar- winning performance, Marlon Brando, Vito, ...   \n",
       "4                                                                                                                                                                                                                                                                                                                                                                                                                               [Wonderful motivational story, Especially wonderful acting mr.suriya, airports scenes]   \n",
       "\n",
       "                                                                                                                                                                                                                                                                                                                                                                                                                                                                                                        noun_chunk_mod  \\\n",
       "0                                                                                                                                                                    You,It,the love,this movie,I,it,movie adaptations,books,the book,it,You,way more detail,a two-hour movie,I,this adaptation,it,character changes,omissions,I,this film,I,line,the ten-star reviews,I,the only reason,I,this parable,hope,I,a rule,Hope,aspiration,the system,justice,humanism,the tyranny,the mainstream society/religion,the film   \n",
       "1  I,the 234th comment,The Shawshank Redemption,I,almost everything,it,so many other people,who,comments,I,this simple and eloquent depiction,hope,friendship,redemption,The only other movie,I,me,a Mockingbird,Both movies,me,them,I,this movie,I,prison movies,I,them,I,a branch library,I,The Shawshank Redemption,our older patrons,she,me,I,I,this movie,it,it,me,the time,I,nothing,TV,things,I,any circumstance,things,I,too many times,I,what,she,I,it,I,it,it,every showing,No action,no special effects,...   \n",
       "2  The Godfather,the greatest films,all time,The script,thee,I,The direction,The acting,the best ensemble,any movie,I,It,the most precise and intricate films,I,writer,Mario Puzo,the most hidden and guarded secrets,the underground world,film,The Godfather,cinematic art,Francis Ford Coppola's direction,what,this film,earth,precision direction,he,each and every scene,such care,The film,a black screen,an opening monologue,an undertaker,the man,honor,family,respect,justice,we,his luminous eyes,he,da...   \n",
       "3  The Godfather,the pinnacle,flawless films,The first time,I,The Godfather' I,my early teens,it,the most astounding film,I,my all-time favourite film,It,I,a review,this unforgettable classic,'s,the beginning,The film,four words,I,America,it,this simple line,a resonant quote,the impact,it,the entrance,the film's \"threshold,the many renowned quotes,the film,me,a lot,the first take,we,the life,Vito Corleone,the Oscar- winning performance,Marlon Brando,Vito,a feared man,he,a criminal,he,a mafioso,...   \n",
       "4                                                                                                                                                                                                                                                                                                                                                                                                                                   Wonderful motivational story,Especially wonderful acting mr.suriya,airports scenes   \n",
       "\n",
       "                                                        scores_nc  compound_nc  \n",
       "0           {'neg': 0.0, 'neu': 1.0, 'pos': 0.0, 'compound': 0.0}       0.0000  \n",
       "1    {'neg': 0.0, 'neu': 0.708, 'pos': 0.292, 'compound': 0.9741}       0.9741  \n",
       "2  {'neg': 0.006, 'neu': 0.891, 'pos': 0.104, 'compound': 0.9746}       0.9746  \n",
       "3   {'neg': 0.107, 'neu': 0.69, 'pos': 0.203, 'compound': 0.9357}       0.9357  \n",
       "4    {'neg': 0.0, 'neu': 0.403, 'pos': 0.597, 'compound': 0.8126}       0.8126  "
      ]
     },
     "execution_count": 153,
     "metadata": {},
     "output_type": "execute_result"
    }
   ],
   "source": [
    "# We will leverage compund score to identify sentiments\n",
    "# add a column with compound score (compound_nc) to dataframe from the dictionary\n",
    "\n",
    "df3['compound_nc'] = df3['scores_nc'].apply(lambda d:d['compound'])\n",
    "df3.head()"
   ]
  },
  {
   "cell_type": "code",
   "execution_count": 154,
   "id": "revolutionary-channel",
   "metadata": {},
   "outputs": [
    {
     "data": {
      "text/html": [
       "<div>\n",
       "<style scoped>\n",
       "    .dataframe tbody tr th:only-of-type {\n",
       "        vertical-align: middle;\n",
       "    }\n",
       "\n",
       "    .dataframe tbody tr th {\n",
       "        vertical-align: top;\n",
       "    }\n",
       "\n",
       "    .dataframe thead th {\n",
       "        text-align: right;\n",
       "    }\n",
       "</style>\n",
       "<table border=\"1\" class=\"dataframe\">\n",
       "  <thead>\n",
       "    <tr style=\"text-align: right;\">\n",
       "      <th></th>\n",
       "      <th>Unnamed: 0</th>\n",
       "      <th>movie</th>\n",
       "      <th>user_review_permalink</th>\n",
       "      <th>user_review</th>\n",
       "      <th>sentiment</th>\n",
       "      <th>noun_chunks</th>\n",
       "      <th>noun_chunk_mod</th>\n",
       "      <th>scores_nc</th>\n",
       "      <th>compound_nc</th>\n",
       "      <th>comp_score_nc</th>\n",
       "    </tr>\n",
       "  </thead>\n",
       "  <tbody>\n",
       "    <tr>\n",
       "      <th>0</th>\n",
       "      <td>0</td>\n",
       "      <td>The Shawshank Redemption</td>\n",
       "      <td>https://www.imdb.com/review/rw6627363/</td>\n",
       "      <td>You have already watched this, right?\\nIt is really easy to understand the love for this movie. I'll admit, when it comes to movie adaptations of books, the book is always better. How can it not be? You get way more detail than could be crammed into a two-hour movie. However, I still thoroughly enjoyed this adaptation. Yes, it does deviate from the short a little with character changes and omissions, but I don't think this film could have been any better. I am in line with the ten-star revie...</td>\n",
       "      <td>negative</td>\n",
       "      <td>[You, It, the love, this movie, I, it, movie adaptations, books, the book, it, You, way more detail, a two-hour movie, I, this adaptation, it, character changes, omissions, I, this film, I, line, the ten-star reviews, I, the only reason, I, this parable, hope, I, a rule, Hope, aspiration, the system, justice, humanism, the tyranny, the mainstream society/religion, the film]</td>\n",
       "      <td>You,It,the love,this movie,I,it,movie adaptations,books,the book,it,You,way more detail,a two-hour movie,I,this adaptation,it,character changes,omissions,I,this film,I,line,the ten-star reviews,I,the only reason,I,this parable,hope,I,a rule,Hope,aspiration,the system,justice,humanism,the tyranny,the mainstream society/religion,the film</td>\n",
       "      <td>{'neg': 0.0, 'neu': 1.0, 'pos': 0.0, 'compound': 0.0}</td>\n",
       "      <td>0.0000</td>\n",
       "      <td>positive</td>\n",
       "    </tr>\n",
       "    <tr>\n",
       "      <th>1</th>\n",
       "      <td>1</td>\n",
       "      <td>The Shawshank Redemption</td>\n",
       "      <td>https://www.imdb.com/review/rw0349418/</td>\n",
       "      <td>Why do I want to write the 234th comment on The Shawshank Redemption? I am not sure - almost everything that could be possibly said about it has been said. But like so many other people who wrote comments, I was and am profoundly moved by this simple and eloquent depiction of hope and friendship and redemption. The only other movie I have ever seen that effects me as strongly is To Kill a Mockingbird. Both movies leave me feeling cleaner for having watched them.I didn't intend to see this mo...</td>\n",
       "      <td>positive</td>\n",
       "      <td>[I, the 234th comment, The Shawshank Redemption, I, almost everything, it, so many other people, who, comments, I, this simple and eloquent depiction, hope, friendship, redemption, The only other movie, I, me, a Mockingbird, Both movies, me, them, I, this movie, I, prison movies, I, them, I, a branch library, I, The Shawshank Redemption, our older patrons, she, me, I, I, this movie, it, it, me, the time, I, nothing, TV, things, I, any circumstance, things, I, too many times, I, what, she, I,...</td>\n",
       "      <td>I,the 234th comment,The Shawshank Redemption,I,almost everything,it,so many other people,who,comments,I,this simple and eloquent depiction,hope,friendship,redemption,The only other movie,I,me,a Mockingbird,Both movies,me,them,I,this movie,I,prison movies,I,them,I,a branch library,I,The Shawshank Redemption,our older patrons,she,me,I,I,this movie,it,it,me,the time,I,nothing,TV,things,I,any circumstance,things,I,too many times,I,what,she,I,it,I,it,it,every showing,No action,no special effects,...</td>\n",
       "      <td>{'neg': 0.0, 'neu': 0.708, 'pos': 0.292, 'compound': 0.9741}</td>\n",
       "      <td>0.9741</td>\n",
       "      <td>positive</td>\n",
       "    </tr>\n",
       "    <tr>\n",
       "      <th>2</th>\n",
       "      <td>2</td>\n",
       "      <td>The Godfather</td>\n",
       "      <td>https://www.imdb.com/review/rw1901277/</td>\n",
       "      <td>\"The Godfather\" simply put, is one of the greatest films of all time. The script is thee best I've ever read. The direction is flawless. The acting may very well have the best ensemble cast in any movie I've ever seen or will ever see. It's also one of the most precise and intricate films I've ever come across as writer, Mario Puzo brings out some of the most hidden and guarded secrets of the underground world ever captured on film. Watching \"The Godfather,\" is like watching cinematic art. F...</td>\n",
       "      <td>negative</td>\n",
       "      <td>[The Godfather, the greatest films, all time, The script, thee, I, The direction, The acting, the best ensemble, any movie, I, It, the most precise and intricate films, I, writer, Mario Puzo, the most hidden and guarded secrets, the underground world, film, The Godfather, cinematic art, Francis Ford Coppola's direction, what, this film, earth, precision direction, he, each and every scene, such care, The film, a black screen, an opening monologue, an undertaker, the man, honor, family, respe...</td>\n",
       "      <td>The Godfather,the greatest films,all time,The script,thee,I,The direction,The acting,the best ensemble,any movie,I,It,the most precise and intricate films,I,writer,Mario Puzo,the most hidden and guarded secrets,the underground world,film,The Godfather,cinematic art,Francis Ford Coppola's direction,what,this film,earth,precision direction,he,each and every scene,such care,The film,a black screen,an opening monologue,an undertaker,the man,honor,family,respect,justice,we,his luminous eyes,he,da...</td>\n",
       "      <td>{'neg': 0.006, 'neu': 0.891, 'pos': 0.104, 'compound': 0.9746}</td>\n",
       "      <td>0.9746</td>\n",
       "      <td>positive</td>\n",
       "    </tr>\n",
       "    <tr>\n",
       "      <th>3</th>\n",
       "      <td>3</td>\n",
       "      <td>The Godfather</td>\n",
       "      <td>https://www.imdb.com/review/rw3038370/</td>\n",
       "      <td>'The Godfather' is the pinnacle of flawless films! The first time I viewed 'The Godfather' I was in my early teens and it was the most astounding film I had ever seen, and has since then stood as my all-time favourite film. It is due to this that I have been looking forward to writing a review of this unforgettable classic. So let's start from the beginning. The film opens to four words, 'I believe in America', it's crazy to think that this simple line has become a resonant quote solely due ...</td>\n",
       "      <td>positive</td>\n",
       "      <td>[The Godfather, the pinnacle, flawless films, The first time, I, The Godfather' I, my early teens, it, the most astounding film, I, my all-time favourite film, It, I, a review, this unforgettable classic, 's, the beginning, The film, four words, I, America, it, this simple line, a resonant quote, the impact, it, the entrance, the film's \"threshold, the many renowned quotes, the film, me, a lot, the first take, we, the life, Vito Corleone, the Oscar- winning performance, Marlon Brando, Vito, ...</td>\n",
       "      <td>The Godfather,the pinnacle,flawless films,The first time,I,The Godfather' I,my early teens,it,the most astounding film,I,my all-time favourite film,It,I,a review,this unforgettable classic,'s,the beginning,The film,four words,I,America,it,this simple line,a resonant quote,the impact,it,the entrance,the film's \"threshold,the many renowned quotes,the film,me,a lot,the first take,we,the life,Vito Corleone,the Oscar- winning performance,Marlon Brando,Vito,a feared man,he,a criminal,he,a mafioso,...</td>\n",
       "      <td>{'neg': 0.107, 'neu': 0.69, 'pos': 0.203, 'compound': 0.9357}</td>\n",
       "      <td>0.9357</td>\n",
       "      <td>positive</td>\n",
       "    </tr>\n",
       "    <tr>\n",
       "      <th>4</th>\n",
       "      <td>4</td>\n",
       "      <td>Soorarai Pottru</td>\n",
       "      <td>https://www.imdb.com/review/rw6260561/</td>\n",
       "      <td>Wonderful motivational story. Especially wonderful acting mr.suriya in airports scenes.</td>\n",
       "      <td>negative</td>\n",
       "      <td>[Wonderful motivational story, Especially wonderful acting mr.suriya, airports scenes]</td>\n",
       "      <td>Wonderful motivational story,Especially wonderful acting mr.suriya,airports scenes</td>\n",
       "      <td>{'neg': 0.0, 'neu': 0.403, 'pos': 0.597, 'compound': 0.8126}</td>\n",
       "      <td>0.8126</td>\n",
       "      <td>positive</td>\n",
       "    </tr>\n",
       "  </tbody>\n",
       "</table>\n",
       "</div>"
      ],
      "text/plain": [
       "   Unnamed: 0                     movie  \\\n",
       "0           0  The Shawshank Redemption   \n",
       "1           1  The Shawshank Redemption   \n",
       "2           2             The Godfather   \n",
       "3           3             The Godfather   \n",
       "4           4           Soorarai Pottru   \n",
       "\n",
       "                    user_review_permalink  \\\n",
       "0  https://www.imdb.com/review/rw6627363/   \n",
       "1  https://www.imdb.com/review/rw0349418/   \n",
       "2  https://www.imdb.com/review/rw1901277/   \n",
       "3  https://www.imdb.com/review/rw3038370/   \n",
       "4  https://www.imdb.com/review/rw6260561/   \n",
       "\n",
       "                                                                                                                                                                                                                                                                                                                                                                                                                                                                                                           user_review  \\\n",
       "0  You have already watched this, right?\\nIt is really easy to understand the love for this movie. I'll admit, when it comes to movie adaptations of books, the book is always better. How can it not be? You get way more detail than could be crammed into a two-hour movie. However, I still thoroughly enjoyed this adaptation. Yes, it does deviate from the short a little with character changes and omissions, but I don't think this film could have been any better. I am in line with the ten-star revie...   \n",
       "1  Why do I want to write the 234th comment on The Shawshank Redemption? I am not sure - almost everything that could be possibly said about it has been said. But like so many other people who wrote comments, I was and am profoundly moved by this simple and eloquent depiction of hope and friendship and redemption. The only other movie I have ever seen that effects me as strongly is To Kill a Mockingbird. Both movies leave me feeling cleaner for having watched them.I didn't intend to see this mo...   \n",
       "2  \"The Godfather\" simply put, is one of the greatest films of all time. The script is thee best I've ever read. The direction is flawless. The acting may very well have the best ensemble cast in any movie I've ever seen or will ever see. It's also one of the most precise and intricate films I've ever come across as writer, Mario Puzo brings out some of the most hidden and guarded secrets of the underground world ever captured on film. Watching \"The Godfather,\" is like watching cinematic art. F...   \n",
       "3  'The Godfather' is the pinnacle of flawless films! The first time I viewed 'The Godfather' I was in my early teens and it was the most astounding film I had ever seen, and has since then stood as my all-time favourite film. It is due to this that I have been looking forward to writing a review of this unforgettable classic. So let's start from the beginning. The film opens to four words, 'I believe in America', it's crazy to think that this simple line has become a resonant quote solely due ...   \n",
       "4                                                                                                                                                                                                                                                                                                                                                                                                                              Wonderful motivational story. Especially wonderful acting mr.suriya in airports scenes.   \n",
       "\n",
       "  sentiment  \\\n",
       "0  negative   \n",
       "1  positive   \n",
       "2  negative   \n",
       "3  positive   \n",
       "4  negative   \n",
       "\n",
       "                                                                                                                                                                                                                                                                                                                                                                                                                                                                                                           noun_chunks  \\\n",
       "0                                                                                                                             [You, It, the love, this movie, I, it, movie adaptations, books, the book, it, You, way more detail, a two-hour movie, I, this adaptation, it, character changes, omissions, I, this film, I, line, the ten-star reviews, I, the only reason, I, this parable, hope, I, a rule, Hope, aspiration, the system, justice, humanism, the tyranny, the mainstream society/religion, the film]   \n",
       "1  [I, the 234th comment, The Shawshank Redemption, I, almost everything, it, so many other people, who, comments, I, this simple and eloquent depiction, hope, friendship, redemption, The only other movie, I, me, a Mockingbird, Both movies, me, them, I, this movie, I, prison movies, I, them, I, a branch library, I, The Shawshank Redemption, our older patrons, she, me, I, I, this movie, it, it, me, the time, I, nothing, TV, things, I, any circumstance, things, I, too many times, I, what, she, I,...   \n",
       "2  [The Godfather, the greatest films, all time, The script, thee, I, The direction, The acting, the best ensemble, any movie, I, It, the most precise and intricate films, I, writer, Mario Puzo, the most hidden and guarded secrets, the underground world, film, The Godfather, cinematic art, Francis Ford Coppola's direction, what, this film, earth, precision direction, he, each and every scene, such care, The film, a black screen, an opening monologue, an undertaker, the man, honor, family, respe...   \n",
       "3  [The Godfather, the pinnacle, flawless films, The first time, I, The Godfather' I, my early teens, it, the most astounding film, I, my all-time favourite film, It, I, a review, this unforgettable classic, 's, the beginning, The film, four words, I, America, it, this simple line, a resonant quote, the impact, it, the entrance, the film's \"threshold, the many renowned quotes, the film, me, a lot, the first take, we, the life, Vito Corleone, the Oscar- winning performance, Marlon Brando, Vito, ...   \n",
       "4                                                                                                                                                                                                                                                                                                                                                                                                                               [Wonderful motivational story, Especially wonderful acting mr.suriya, airports scenes]   \n",
       "\n",
       "                                                                                                                                                                                                                                                                                                                                                                                                                                                                                                        noun_chunk_mod  \\\n",
       "0                                                                                                                                                                    You,It,the love,this movie,I,it,movie adaptations,books,the book,it,You,way more detail,a two-hour movie,I,this adaptation,it,character changes,omissions,I,this film,I,line,the ten-star reviews,I,the only reason,I,this parable,hope,I,a rule,Hope,aspiration,the system,justice,humanism,the tyranny,the mainstream society/religion,the film   \n",
       "1  I,the 234th comment,The Shawshank Redemption,I,almost everything,it,so many other people,who,comments,I,this simple and eloquent depiction,hope,friendship,redemption,The only other movie,I,me,a Mockingbird,Both movies,me,them,I,this movie,I,prison movies,I,them,I,a branch library,I,The Shawshank Redemption,our older patrons,she,me,I,I,this movie,it,it,me,the time,I,nothing,TV,things,I,any circumstance,things,I,too many times,I,what,she,I,it,I,it,it,every showing,No action,no special effects,...   \n",
       "2  The Godfather,the greatest films,all time,The script,thee,I,The direction,The acting,the best ensemble,any movie,I,It,the most precise and intricate films,I,writer,Mario Puzo,the most hidden and guarded secrets,the underground world,film,The Godfather,cinematic art,Francis Ford Coppola's direction,what,this film,earth,precision direction,he,each and every scene,such care,The film,a black screen,an opening monologue,an undertaker,the man,honor,family,respect,justice,we,his luminous eyes,he,da...   \n",
       "3  The Godfather,the pinnacle,flawless films,The first time,I,The Godfather' I,my early teens,it,the most astounding film,I,my all-time favourite film,It,I,a review,this unforgettable classic,'s,the beginning,The film,four words,I,America,it,this simple line,a resonant quote,the impact,it,the entrance,the film's \"threshold,the many renowned quotes,the film,me,a lot,the first take,we,the life,Vito Corleone,the Oscar- winning performance,Marlon Brando,Vito,a feared man,he,a criminal,he,a mafioso,...   \n",
       "4                                                                                                                                                                                                                                                                                                                                                                                                                                   Wonderful motivational story,Especially wonderful acting mr.suriya,airports scenes   \n",
       "\n",
       "                                                        scores_nc  \\\n",
       "0           {'neg': 0.0, 'neu': 1.0, 'pos': 0.0, 'compound': 0.0}   \n",
       "1    {'neg': 0.0, 'neu': 0.708, 'pos': 0.292, 'compound': 0.9741}   \n",
       "2  {'neg': 0.006, 'neu': 0.891, 'pos': 0.104, 'compound': 0.9746}   \n",
       "3   {'neg': 0.107, 'neu': 0.69, 'pos': 0.203, 'compound': 0.9357}   \n",
       "4    {'neg': 0.0, 'neu': 0.403, 'pos': 0.597, 'compound': 0.8126}   \n",
       "\n",
       "   compound_nc comp_score_nc  \n",
       "0       0.0000      positive  \n",
       "1       0.9741      positive  \n",
       "2       0.9746      positive  \n",
       "3       0.9357      positive  \n",
       "4       0.8126      positive  "
      ]
     },
     "execution_count": 154,
     "metadata": {},
     "output_type": "execute_result"
    }
   ],
   "source": [
    "#use compound_nc to determine sentiment of noun chunk _score_nc\n",
    "# If value of compund_nc is equal to or greater than zero call it postive soce, else negative (i.e. comp_score <0)\n",
    "df3['comp_score_nc']=df3['compound_nc'].apply(lambda score:'positive' if score >=0 else 'negative')\n",
    "df3.head()"
   ]
  },
  {
   "cell_type": "markdown",
   "id": "indonesian-crowd",
   "metadata": {},
   "source": [
    "###### Calculate accuracy score comparing ratings (sentiment) with comp_score_nc"
   ]
  },
  {
   "cell_type": "code",
   "execution_count": 155,
   "id": "fiscal-ocean",
   "metadata": {},
   "outputs": [
    {
     "data": {
      "text/plain": [
       "0.5166666666666667"
      ]
     },
     "execution_count": 155,
     "metadata": {},
     "output_type": "execute_result"
    }
   ],
   "source": [
    "accuracy_score(df3['sentiment'],df3['comp_score_nc'])"
   ]
  },
  {
   "cell_type": "markdown",
   "id": "cubic-bristol",
   "metadata": {},
   "source": [
    "Accuracy calculated using noun chunk  is lower than accuracy calculated using user_review"
   ]
  },
  {
   "cell_type": "markdown",
   "id": "historical-patent",
   "metadata": {},
   "source": [
    "###### Calculate accuracy score comparing comp_score (compound score from user_review) and comp_score_nc (compound score from noun Chunk). "
   ]
  },
  {
   "cell_type": "code",
   "execution_count": 156,
   "id": "annoying-bishop",
   "metadata": {
    "scrolled": true
   },
   "outputs": [
    {
     "data": {
      "text/plain": [
       "0.8"
      ]
     },
     "execution_count": 156,
     "metadata": {},
     "output_type": "execute_result"
    }
   ],
   "source": [
    "accuracy_score(df1['comp_score'],df3['comp_score_nc'])"
   ]
  },
  {
   "cell_type": "markdown",
   "id": "published-indian",
   "metadata": {},
   "source": [
    "There is a good alignment between acurracy calcualted using analyzer from user_review and none chunks"
   ]
  },
  {
   "cell_type": "markdown",
   "id": "defensive-albuquerque",
   "metadata": {},
   "source": [
    "###### We will filter out the neutral phrases from above data set to focus our analysis on positive or negative phrases."
   ]
  },
  {
   "cell_type": "code",
   "execution_count": 157,
   "id": "herbal-circle",
   "metadata": {
    "scrolled": true
   },
   "outputs": [
    {
     "data": {
      "text/plain": [
       "(300, 10)"
      ]
     },
     "execution_count": 157,
     "metadata": {},
     "output_type": "execute_result"
    }
   ],
   "source": [
    "np.shape(df3)"
   ]
  },
  {
   "cell_type": "code",
   "execution_count": 158,
   "id": "sweet-pound",
   "metadata": {},
   "outputs": [
    {
     "data": {
      "text/html": [
       "<div>\n",
       "<style scoped>\n",
       "    .dataframe tbody tr th:only-of-type {\n",
       "        vertical-align: middle;\n",
       "    }\n",
       "\n",
       "    .dataframe tbody tr th {\n",
       "        vertical-align: top;\n",
       "    }\n",
       "\n",
       "    .dataframe thead th {\n",
       "        text-align: right;\n",
       "    }\n",
       "</style>\n",
       "<table border=\"1\" class=\"dataframe\">\n",
       "  <thead>\n",
       "    <tr style=\"text-align: right;\">\n",
       "      <th></th>\n",
       "      <th>Unnamed: 0</th>\n",
       "      <th>movie</th>\n",
       "      <th>user_review_permalink</th>\n",
       "      <th>user_review</th>\n",
       "      <th>sentiment</th>\n",
       "      <th>noun_chunks</th>\n",
       "      <th>noun_chunk_mod</th>\n",
       "      <th>scores_nc</th>\n",
       "      <th>compound_nc</th>\n",
       "      <th>comp_score_nc</th>\n",
       "    </tr>\n",
       "  </thead>\n",
       "  <tbody>\n",
       "    <tr>\n",
       "      <th>1</th>\n",
       "      <td>1</td>\n",
       "      <td>The Shawshank Redemption</td>\n",
       "      <td>https://www.imdb.com/review/rw0349418/</td>\n",
       "      <td>Why do I want to write the 234th comment on The Shawshank Redemption? I am not sure - almost everything that could be possibly said about it has been said. But like so many other people who wrote comments, I was and am profoundly moved by this simple and eloquent depiction of hope and friendship and redemption. The only other movie I have ever seen that effects me as strongly is To Kill a Mockingbird. Both movies leave me feeling cleaner for having watched them.I didn't intend to see this mo...</td>\n",
       "      <td>positive</td>\n",
       "      <td>[I, the 234th comment, The Shawshank Redemption, I, almost everything, it, so many other people, who, comments, I, this simple and eloquent depiction, hope, friendship, redemption, The only other movie, I, me, a Mockingbird, Both movies, me, them, I, this movie, I, prison movies, I, them, I, a branch library, I, The Shawshank Redemption, our older patrons, she, me, I, I, this movie, it, it, me, the time, I, nothing, TV, things, I, any circumstance, things, I, too many times, I, what, she, I,...</td>\n",
       "      <td>I,the 234th comment,The Shawshank Redemption,I,almost everything,it,so many other people,who,comments,I,this simple and eloquent depiction,hope,friendship,redemption,The only other movie,I,me,a Mockingbird,Both movies,me,them,I,this movie,I,prison movies,I,them,I,a branch library,I,The Shawshank Redemption,our older patrons,she,me,I,I,this movie,it,it,me,the time,I,nothing,TV,things,I,any circumstance,things,I,too many times,I,what,she,I,it,I,it,it,every showing,No action,no special effects,...</td>\n",
       "      <td>{'neg': 0.0, 'neu': 0.708, 'pos': 0.292, 'compound': 0.9741}</td>\n",
       "      <td>0.9741</td>\n",
       "      <td>positive</td>\n",
       "    </tr>\n",
       "    <tr>\n",
       "      <th>2</th>\n",
       "      <td>2</td>\n",
       "      <td>The Godfather</td>\n",
       "      <td>https://www.imdb.com/review/rw1901277/</td>\n",
       "      <td>\"The Godfather\" simply put, is one of the greatest films of all time. The script is thee best I've ever read. The direction is flawless. The acting may very well have the best ensemble cast in any movie I've ever seen or will ever see. It's also one of the most precise and intricate films I've ever come across as writer, Mario Puzo brings out some of the most hidden and guarded secrets of the underground world ever captured on film. Watching \"The Godfather,\" is like watching cinematic art. F...</td>\n",
       "      <td>negative</td>\n",
       "      <td>[The Godfather, the greatest films, all time, The script, thee, I, The direction, The acting, the best ensemble, any movie, I, It, the most precise and intricate films, I, writer, Mario Puzo, the most hidden and guarded secrets, the underground world, film, The Godfather, cinematic art, Francis Ford Coppola's direction, what, this film, earth, precision direction, he, each and every scene, such care, The film, a black screen, an opening monologue, an undertaker, the man, honor, family, respe...</td>\n",
       "      <td>The Godfather,the greatest films,all time,The script,thee,I,The direction,The acting,the best ensemble,any movie,I,It,the most precise and intricate films,I,writer,Mario Puzo,the most hidden and guarded secrets,the underground world,film,The Godfather,cinematic art,Francis Ford Coppola's direction,what,this film,earth,precision direction,he,each and every scene,such care,The film,a black screen,an opening monologue,an undertaker,the man,honor,family,respect,justice,we,his luminous eyes,he,da...</td>\n",
       "      <td>{'neg': 0.006, 'neu': 0.891, 'pos': 0.104, 'compound': 0.9746}</td>\n",
       "      <td>0.9746</td>\n",
       "      <td>positive</td>\n",
       "    </tr>\n",
       "    <tr>\n",
       "      <th>3</th>\n",
       "      <td>3</td>\n",
       "      <td>The Godfather</td>\n",
       "      <td>https://www.imdb.com/review/rw3038370/</td>\n",
       "      <td>'The Godfather' is the pinnacle of flawless films! The first time I viewed 'The Godfather' I was in my early teens and it was the most astounding film I had ever seen, and has since then stood as my all-time favourite film. It is due to this that I have been looking forward to writing a review of this unforgettable classic. So let's start from the beginning. The film opens to four words, 'I believe in America', it's crazy to think that this simple line has become a resonant quote solely due ...</td>\n",
       "      <td>positive</td>\n",
       "      <td>[The Godfather, the pinnacle, flawless films, The first time, I, The Godfather' I, my early teens, it, the most astounding film, I, my all-time favourite film, It, I, a review, this unforgettable classic, 's, the beginning, The film, four words, I, America, it, this simple line, a resonant quote, the impact, it, the entrance, the film's \"threshold, the many renowned quotes, the film, me, a lot, the first take, we, the life, Vito Corleone, the Oscar- winning performance, Marlon Brando, Vito, ...</td>\n",
       "      <td>The Godfather,the pinnacle,flawless films,The first time,I,The Godfather' I,my early teens,it,the most astounding film,I,my all-time favourite film,It,I,a review,this unforgettable classic,'s,the beginning,The film,four words,I,America,it,this simple line,a resonant quote,the impact,it,the entrance,the film's \"threshold,the many renowned quotes,the film,me,a lot,the first take,we,the life,Vito Corleone,the Oscar- winning performance,Marlon Brando,Vito,a feared man,he,a criminal,he,a mafioso,...</td>\n",
       "      <td>{'neg': 0.107, 'neu': 0.69, 'pos': 0.203, 'compound': 0.9357}</td>\n",
       "      <td>0.9357</td>\n",
       "      <td>positive</td>\n",
       "    </tr>\n",
       "    <tr>\n",
       "      <th>4</th>\n",
       "      <td>4</td>\n",
       "      <td>Soorarai Pottru</td>\n",
       "      <td>https://www.imdb.com/review/rw6260561/</td>\n",
       "      <td>Wonderful motivational story. Especially wonderful acting mr.suriya in airports scenes.</td>\n",
       "      <td>negative</td>\n",
       "      <td>[Wonderful motivational story, Especially wonderful acting mr.suriya, airports scenes]</td>\n",
       "      <td>Wonderful motivational story,Especially wonderful acting mr.suriya,airports scenes</td>\n",
       "      <td>{'neg': 0.0, 'neu': 0.403, 'pos': 0.597, 'compound': 0.8126}</td>\n",
       "      <td>0.8126</td>\n",
       "      <td>positive</td>\n",
       "    </tr>\n",
       "    <tr>\n",
       "      <th>5</th>\n",
       "      <td>5</td>\n",
       "      <td>Soorarai Pottru</td>\n",
       "      <td>https://www.imdb.com/review/rw6260603/</td>\n",
       "      <td>Must watch movie..suriya on his top notch performance.</td>\n",
       "      <td>positive</td>\n",
       "      <td>[movie, suriya, his top notch performance]</td>\n",
       "      <td>movie,suriya,his top notch performance</td>\n",
       "      <td>{'neg': 0.0, 'neu': 0.625, 'pos': 0.375, 'compound': 0.2023}</td>\n",
       "      <td>0.2023</td>\n",
       "      <td>positive</td>\n",
       "    </tr>\n",
       "  </tbody>\n",
       "</table>\n",
       "</div>"
      ],
      "text/plain": [
       "   Unnamed: 0                     movie  \\\n",
       "1           1  The Shawshank Redemption   \n",
       "2           2             The Godfather   \n",
       "3           3             The Godfather   \n",
       "4           4           Soorarai Pottru   \n",
       "5           5           Soorarai Pottru   \n",
       "\n",
       "                    user_review_permalink  \\\n",
       "1  https://www.imdb.com/review/rw0349418/   \n",
       "2  https://www.imdb.com/review/rw1901277/   \n",
       "3  https://www.imdb.com/review/rw3038370/   \n",
       "4  https://www.imdb.com/review/rw6260561/   \n",
       "5  https://www.imdb.com/review/rw6260603/   \n",
       "\n",
       "                                                                                                                                                                                                                                                                                                                                                                                                                                                                                                           user_review  \\\n",
       "1  Why do I want to write the 234th comment on The Shawshank Redemption? I am not sure - almost everything that could be possibly said about it has been said. But like so many other people who wrote comments, I was and am profoundly moved by this simple and eloquent depiction of hope and friendship and redemption. The only other movie I have ever seen that effects me as strongly is To Kill a Mockingbird. Both movies leave me feeling cleaner for having watched them.I didn't intend to see this mo...   \n",
       "2  \"The Godfather\" simply put, is one of the greatest films of all time. The script is thee best I've ever read. The direction is flawless. The acting may very well have the best ensemble cast in any movie I've ever seen or will ever see. It's also one of the most precise and intricate films I've ever come across as writer, Mario Puzo brings out some of the most hidden and guarded secrets of the underground world ever captured on film. Watching \"The Godfather,\" is like watching cinematic art. F...   \n",
       "3  'The Godfather' is the pinnacle of flawless films! The first time I viewed 'The Godfather' I was in my early teens and it was the most astounding film I had ever seen, and has since then stood as my all-time favourite film. It is due to this that I have been looking forward to writing a review of this unforgettable classic. So let's start from the beginning. The film opens to four words, 'I believe in America', it's crazy to think that this simple line has become a resonant quote solely due ...   \n",
       "4                                                                                                                                                                                                                                                                                                                                                                                                                              Wonderful motivational story. Especially wonderful acting mr.suriya in airports scenes.   \n",
       "5                                                                                                                                                                                                                                                                                                                                                                                                                                                               Must watch movie..suriya on his top notch performance.   \n",
       "\n",
       "  sentiment  \\\n",
       "1  positive   \n",
       "2  negative   \n",
       "3  positive   \n",
       "4  negative   \n",
       "5  positive   \n",
       "\n",
       "                                                                                                                                                                                                                                                                                                                                                                                                                                                                                                           noun_chunks  \\\n",
       "1  [I, the 234th comment, The Shawshank Redemption, I, almost everything, it, so many other people, who, comments, I, this simple and eloquent depiction, hope, friendship, redemption, The only other movie, I, me, a Mockingbird, Both movies, me, them, I, this movie, I, prison movies, I, them, I, a branch library, I, The Shawshank Redemption, our older patrons, she, me, I, I, this movie, it, it, me, the time, I, nothing, TV, things, I, any circumstance, things, I, too many times, I, what, she, I,...   \n",
       "2  [The Godfather, the greatest films, all time, The script, thee, I, The direction, The acting, the best ensemble, any movie, I, It, the most precise and intricate films, I, writer, Mario Puzo, the most hidden and guarded secrets, the underground world, film, The Godfather, cinematic art, Francis Ford Coppola's direction, what, this film, earth, precision direction, he, each and every scene, such care, The film, a black screen, an opening monologue, an undertaker, the man, honor, family, respe...   \n",
       "3  [The Godfather, the pinnacle, flawless films, The first time, I, The Godfather' I, my early teens, it, the most astounding film, I, my all-time favourite film, It, I, a review, this unforgettable classic, 's, the beginning, The film, four words, I, America, it, this simple line, a resonant quote, the impact, it, the entrance, the film's \"threshold, the many renowned quotes, the film, me, a lot, the first take, we, the life, Vito Corleone, the Oscar- winning performance, Marlon Brando, Vito, ...   \n",
       "4                                                                                                                                                                                                                                                                                                                                                                                                                               [Wonderful motivational story, Especially wonderful acting mr.suriya, airports scenes]   \n",
       "5                                                                                                                                                                                                                                                                                                                                                                                                                                                                           [movie, suriya, his top notch performance]   \n",
       "\n",
       "                                                                                                                                                                                                                                                                                                                                                                                                                                                                                                        noun_chunk_mod  \\\n",
       "1  I,the 234th comment,The Shawshank Redemption,I,almost everything,it,so many other people,who,comments,I,this simple and eloquent depiction,hope,friendship,redemption,The only other movie,I,me,a Mockingbird,Both movies,me,them,I,this movie,I,prison movies,I,them,I,a branch library,I,The Shawshank Redemption,our older patrons,she,me,I,I,this movie,it,it,me,the time,I,nothing,TV,things,I,any circumstance,things,I,too many times,I,what,she,I,it,I,it,it,every showing,No action,no special effects,...   \n",
       "2  The Godfather,the greatest films,all time,The script,thee,I,The direction,The acting,the best ensemble,any movie,I,It,the most precise and intricate films,I,writer,Mario Puzo,the most hidden and guarded secrets,the underground world,film,The Godfather,cinematic art,Francis Ford Coppola's direction,what,this film,earth,precision direction,he,each and every scene,such care,The film,a black screen,an opening monologue,an undertaker,the man,honor,family,respect,justice,we,his luminous eyes,he,da...   \n",
       "3  The Godfather,the pinnacle,flawless films,The first time,I,The Godfather' I,my early teens,it,the most astounding film,I,my all-time favourite film,It,I,a review,this unforgettable classic,'s,the beginning,The film,four words,I,America,it,this simple line,a resonant quote,the impact,it,the entrance,the film's \"threshold,the many renowned quotes,the film,me,a lot,the first take,we,the life,Vito Corleone,the Oscar- winning performance,Marlon Brando,Vito,a feared man,he,a criminal,he,a mafioso,...   \n",
       "4                                                                                                                                                                                                                                                                                                                                                                                                                                   Wonderful motivational story,Especially wonderful acting mr.suriya,airports scenes   \n",
       "5                                                                                                                                                                                                                                                                                                                                                                                                                                                                               movie,suriya,his top notch performance   \n",
       "\n",
       "                                                        scores_nc  \\\n",
       "1    {'neg': 0.0, 'neu': 0.708, 'pos': 0.292, 'compound': 0.9741}   \n",
       "2  {'neg': 0.006, 'neu': 0.891, 'pos': 0.104, 'compound': 0.9746}   \n",
       "3   {'neg': 0.107, 'neu': 0.69, 'pos': 0.203, 'compound': 0.9357}   \n",
       "4    {'neg': 0.0, 'neu': 0.403, 'pos': 0.597, 'compound': 0.8126}   \n",
       "5    {'neg': 0.0, 'neu': 0.625, 'pos': 0.375, 'compound': 0.2023}   \n",
       "\n",
       "   compound_nc comp_score_nc  \n",
       "1       0.9741      positive  \n",
       "2       0.9746      positive  \n",
       "3       0.9357      positive  \n",
       "4       0.8126      positive  \n",
       "5       0.2023      positive  "
      ]
     },
     "execution_count": 158,
     "metadata": {},
     "output_type": "execute_result"
    }
   ],
   "source": [
    "df_chunk_scores_non_zero = df3[df3.compound_nc != 0] # keep only records that have non-zero compund_nc\n",
    "df_chunk_scores_non_zero.head()"
   ]
  },
  {
   "cell_type": "code",
   "execution_count": 159,
   "id": "cathedral-rally",
   "metadata": {},
   "outputs": [
    {
     "data": {
      "text/plain": [
       "(280, 10)"
      ]
     },
     "execution_count": 159,
     "metadata": {},
     "output_type": "execute_result"
    }
   ],
   "source": [
    "np.shape(df_chunk_scores_non_zero)"
   ]
  },
  {
   "cell_type": "markdown",
   "id": "alternative-paragraph",
   "metadata": {},
   "source": [
    "~20 rows we removed from data frame. "
   ]
  },
  {
   "cell_type": "markdown",
   "id": "mineral-auditor",
   "metadata": {},
   "source": [
    "##### b.\tNow sort the table twice, once to show the highest negative-sentiment-scoring chunks at the top and again to show the highest positive-sentiment-scoring chunks at the top. Examine the upper portions of both sorted lists, to identify any trends, and explain what you see. \n"
   ]
  },
  {
   "cell_type": "markdown",
   "id": "classical-harbor",
   "metadata": {},
   "source": [
    "##### Highest negative-sentiment-scoring chunks noun phrases."
   ]
  },
  {
   "cell_type": "code",
   "execution_count": 160,
   "id": "basic-distributor",
   "metadata": {},
   "outputs": [
    {
     "data": {
      "text/html": [
       "<div>\n",
       "<style scoped>\n",
       "    .dataframe tbody tr th:only-of-type {\n",
       "        vertical-align: middle;\n",
       "    }\n",
       "\n",
       "    .dataframe tbody tr th {\n",
       "        vertical-align: top;\n",
       "    }\n",
       "\n",
       "    .dataframe thead th {\n",
       "        text-align: right;\n",
       "    }\n",
       "</style>\n",
       "<table border=\"1\" class=\"dataframe\">\n",
       "  <thead>\n",
       "    <tr style=\"text-align: right;\">\n",
       "      <th></th>\n",
       "      <th>Unnamed: 0</th>\n",
       "      <th>movie</th>\n",
       "      <th>user_review_permalink</th>\n",
       "      <th>user_review</th>\n",
       "      <th>sentiment</th>\n",
       "      <th>noun_chunks</th>\n",
       "      <th>noun_chunk_mod</th>\n",
       "      <th>scores_nc</th>\n",
       "      <th>compound_nc</th>\n",
       "      <th>comp_score_nc</th>\n",
       "    </tr>\n",
       "  </thead>\n",
       "  <tbody>\n",
       "    <tr>\n",
       "      <th>193</th>\n",
       "      <td>193</td>\n",
       "      <td>Reservoir Dogs</td>\n",
       "      <td>https://www.imdb.com/review/rw0311912/</td>\n",
       "      <td>Reservoir Dogs is a testament to the idea that \"less is more.\" This doesn't apply to the violence, the film is extremely violent from beginning to end, but the details of the botched diamond heist, which the entire film is based on, are conveyed only in the dialogue, except for one scene where Mr. Pink (Steve Buscemi) recalls his escape. The whole film takes place after the failed robbery is over, and the mystery that unfolds among the criminal participants is amazing to watch. This is not a...</td>\n",
       "      <td>positive</td>\n",
       "      <td>[Reservoir Dogs, a testament, the idea, the violence, the film, the details, the botched diamond heist, the entire film, the dialogue, one scene, Mr. Pink, Steve Buscemi, his escape, The whole film, place, the failed robbery, the mystery, the criminal participants, a normal crime film, The thing, Reservoir Dogs, the others, it, you, the screen, you, reality, no Hollywood actors, no make-up, them, no comic relief, no goofy romantic subplot, a detrimental trademark, so many action films, virtu...</td>\n",
       "      <td>Reservoir Dogs,a testament,the idea,the violence,the film,the details,the botched diamond heist,the entire film,the dialogue,one scene,Mr. Pink,Steve Buscemi,his escape,The whole film,place,the failed robbery,the mystery,the criminal participants,a normal crime film,The thing,Reservoir Dogs,the others,it,you,the screen,you,reality,no Hollywood actors,no make-up,them,no comic relief,no goofy romantic subplot,a detrimental trademark,so many action films,virtually all Jerry Bruckheimer films,th...</td>\n",
       "      <td>{'neg': 0.268, 'neu': 0.66, 'pos': 0.072, 'compound': -0.9788}</td>\n",
       "      <td>-0.9788</td>\n",
       "      <td>negative</td>\n",
       "    </tr>\n",
       "    <tr>\n",
       "      <th>272</th>\n",
       "      <td>272</td>\n",
       "      <td>There Will Be Blood</td>\n",
       "      <td>https://www.imdb.com/review/rw1796522/</td>\n",
       "      <td>First off, I'd like to say that I have enjoyed most all of PTA's films. I loved Boogie Nights, thought Magnolia was an ambitious, but not great picture, and thoroughly enjoyed Punch- Drunk Love. I, like many others have eagerly awaited Paul Thomas Anderson's latest film, There Will Be Blood. In fact, I drove almost 120 miles and waited 2-3 hours in line to see it, as that was the closest showing of it. I bought into all the hype, read almost every review, watched any and all interviews of it...</td>\n",
       "      <td>negative</td>\n",
       "      <td>[I, I, PTA's films, I, Boogie Nights, Magnolia, an ambitious, but not great picture, Punch- Drunk Love, I, many others, Paul Thomas Anderson's latest film, Blood, fact, I, almost 120 miles, 2-3 hours, line, it, the closest showing, it, I, all the hype, almost every review, all interviews, it, I, a \"masterpiece, so many IMDBers, it, People, the audacity, it, the best films, the decade, Some big words, shoes, a film, the wait, I, myself, this film, The movie's pacing, editing, SO slow and too ...</td>\n",
       "      <td>I,I,PTA's films,I,Boogie Nights,Magnolia,an ambitious, but not great picture,Punch- Drunk Love,I,many others,Paul Thomas Anderson's latest film,Blood,fact,I,almost 120 miles,2-3 hours,line,it,the closest showing,it,I,all the hype,almost every review,all interviews,it,I,a \"masterpiece,so many IMDBers,it,People,the audacity,it,the best films,the decade,Some big words,shoes,a film,the wait,I,myself,this film,The movie's pacing,editing,SO slow and too long (nearly 3 hours,I,the editor,another mu...</td>\n",
       "      <td>{'neg': 0.152, 'neu': 0.798, 'pos': 0.05, 'compound': -0.9781}</td>\n",
       "      <td>-0.9781</td>\n",
       "      <td>negative</td>\n",
       "    </tr>\n",
       "    <tr>\n",
       "      <th>195</th>\n",
       "      <td>195</td>\n",
       "      <td>Full Metal Jacket</td>\n",
       "      <td>https://www.imdb.com/review/rw3335538/</td>\n",
       "      <td>SPOILER: Full Metal Jacket is a 1987 realistic Vietnam war film and is one of the best films of the 80's ever made, directed and produced by Stanley Kubrick. The screenplay by Kubrick, Michael Herr, and Gustav Hasford was based on Hasford's novel The Short-Timers (1979). Full Metal jacket (1987) was Nominated for 1 Oscar. Another 7 wins &amp; 9 nominations. It is one of my personal favorite war movies. I love this movie to death. A superb ensemble falls in for for Stanley Kubrick's brilliant sag...</td>\n",
       "      <td>positive</td>\n",
       "      <td>[SPOILER, Full Metal Jacket, a 1987 realistic Vietnam war film, the best films, Stanley Kubrick, The screenplay, Kubrick, Michael Herr, Gustav Hasford, Hasford's novel, The Short-Timers, Full Metal jacket, 1 Oscar, Another 7 wins, 9 nominations, It, my personal favorite war movies, I, this movie, death, A superb ensemble, Stanley Kubrick's brilliant saga, the Vietnam War, the dehumanizing process, people, trained killers, Joker, Matthew Modine, Animal Mother, Adam Baldwin, Gomer, Vincent D'O...</td>\n",
       "      <td>SPOILER,Full Metal Jacket,a 1987 realistic Vietnam war film,the best films,Stanley Kubrick,The screenplay,Kubrick,Michael Herr,Gustav Hasford,Hasford's novel,The Short-Timers,Full Metal jacket,1 Oscar,Another 7 wins,9 nominations,It,my personal favorite war movies,I,this movie,death,A superb ensemble,Stanley Kubrick's brilliant saga,the Vietnam War,the dehumanizing process,people,trained killers,Joker,Matthew Modine,Animal Mother,Adam Baldwin,Gomer,Vincent D'Onofrio,Eightball,(Dorian Harewoo...</td>\n",
       "      <td>{'neg': 0.16, 'neu': 0.751, 'pos': 0.089, 'compound': -0.9779}</td>\n",
       "      <td>-0.9779</td>\n",
       "      <td>negative</td>\n",
       "    </tr>\n",
       "    <tr>\n",
       "      <th>48</th>\n",
       "      <td>48</td>\n",
       "      <td>Saving Private Ryan</td>\n",
       "      <td>https://www.imdb.com/review/rw3260616/</td>\n",
       "      <td>Saving Private Ryan is a military movie based during World War II. The movie starts with the invasion of Normandy at what is now known as D Day. Captain Miller, who is played by Tom Hanks, leads his troops onto the beaches of Normandy against the Germans. Once they are able to take the beach, they learn of story of Private James Ryan. James and his other four brothers are scattered throughout Europe battling in World War II. The United States Headquarters learns that all of James's brothers ...</td>\n",
       "      <td>negative</td>\n",
       "      <td>[Private Ryan, a military movie, World War II, The movie, the invasion, Normandy, what, D Day, Captain Miller, who, Tom Hanks, his troops, the beaches, Normandy, the Germans, they, the beach, they, story, Private James Ryan, James, his other four brothers, Europe, World War II, The United States Headquarters, James's brothers, action, James, the only sibling, The United States Military, his mother, all news, his brothers, action, a plot, his mother, some type, comfort, the Military, Captain ...</td>\n",
       "      <td>Private Ryan,a military movie,World War II,The movie,the invasion,Normandy,what,D Day,Captain Miller,who,Tom Hanks,his troops,the beaches,Normandy,the Germans,they,the beach,they,story,Private James Ryan,James,his other four brothers,Europe,World War II,The United States Headquarters,James's brothers,action,James,the only sibling,The United States Military,his mother,all news,his brothers,action,a plot,his mother,some type,comfort,the Military,Captain Miller,his troops,a hunt,Private Ryan,hi...</td>\n",
       "      <td>{'neg': 0.196, 'neu': 0.732, 'pos': 0.072, 'compound': -0.9581}</td>\n",
       "      <td>-0.9581</td>\n",
       "      <td>negative</td>\n",
       "    </tr>\n",
       "    <tr>\n",
       "      <th>197</th>\n",
       "      <td>197</td>\n",
       "      <td>Come and See</td>\n",
       "      <td>https://www.imdb.com/review/rw1648309/</td>\n",
       "      <td>Even before the final credits rolled, I strongly suspected this movie would end up on my Top 20; in fact, perhaps even my Top 10. A teenage boy, his hearing impaired from having just been at the site of a bombing, and a young woman clutching at him, the two of them stumbling and sludging through a slimy, smelly bog. A stork in the woods as it rains. A cluster of dolls piled up on the floor with flies buzzing all over the room. You don't need vast, elaborately choreographed battle scenes to b...</td>\n",
       "      <td>positive</td>\n",
       "      <td>[the final credits, I, this movie, my Top, fact, A teenage boy, his hearing, the site, a bombing, him, them, a slimy, smelly bog, A stork, the woods, it, A cluster, dolls, the floor, flies, the room, You, vast, elaborately choreographed battle scenes, the message, the senselessness, pain, war, viewers' comments, the movie, it, the second half , the most powerful massacre scenes, , A few other viewers, the movie, the second half, me, it, the first half, my skin, its cinematic originality, p...</td>\n",
       "      <td>the final credits,I,this movie,my Top,fact,A teenage boy,his hearing,the site,a bombing,him,them,a slimy, smelly bog,A stork,the woods,it,A cluster,dolls,the floor,flies,the room,You,vast, elaborately choreographed battle scenes,the message,the senselessness,pain,war,viewers' comments,the movie,it,the second half ,the most powerful massacre scenes,,A few other viewers,the movie,the second half,me,it,the first half,my skin,its cinematic originality,poetry,symbolic power,War,civilians,soldie...</td>\n",
       "      <td>{'neg': 0.155, 'neu': 0.82, 'pos': 0.025, 'compound': -0.9517}</td>\n",
       "      <td>-0.9517</td>\n",
       "      <td>negative</td>\n",
       "    </tr>\n",
       "    <tr>\n",
       "      <th>258</th>\n",
       "      <td>258</td>\n",
       "      <td>Gangs of Wasseypur</td>\n",
       "      <td>https://www.imdb.com/review/rw2631497/</td>\n",
       "      <td>Guns of Wassyepur.Bollywood very proudly flaunts badges like mindless entertainment, leave your brains behind comedy, potboiler, masala entertainer etc. The recent box office success of these films proves that there exists a larger population of people who step into the theatre to consume these films and most of them find it entertaining too.Gangs of Wasseypur is Anurag Kashyaps Take your brains with you masala potboiler film.On the surface it is a revenge drama spanning almost 70 years that...</td>\n",
       "      <td>negative</td>\n",
       "      <td>[Guns, Wassyepur, Bollywood, badges, mindless entertainment, your brains, comedy, potboiler, The recent box office success, these films, a larger population, people, who, the theatre, these films, them, it, Gangs, Wasseypur, Anurag Kashyaps, your brains, you masala potboiler film, the surface, it, a revenge drama, almost 70 years, Shahid Khan, Jaideep Ahalawat, Ramadhir Singh, two actors, the older part, Tigmanshu Dhulia, future generations, Shahid Khan, a running time, 2 hrs, 40 min, the fi...</td>\n",
       "      <td>Guns,Wassyepur,Bollywood,badges,mindless entertainment,your brains,comedy,potboiler,The recent box office success,these films,a larger population,people,who,the theatre,these films,them,it,Gangs,Wasseypur,Anurag Kashyaps,your brains,you masala potboiler film,the surface,it,a revenge drama,almost 70 years,Shahid Khan,Jaideep Ahalawat,Ramadhir Singh,two actors,the older part,Tigmanshu Dhulia,future generations,Shahid Khan,a running time,2 hrs,40 min,the film,not a single boring moment,you,a co...</td>\n",
       "      <td>{'neg': 0.125, 'neu': 0.849, 'pos': 0.025, 'compound': -0.9501}</td>\n",
       "      <td>-0.9501</td>\n",
       "      <td>negative</td>\n",
       "    </tr>\n",
       "    <tr>\n",
       "      <th>150</th>\n",
       "      <td>150</td>\n",
       "      <td>Dr. Strangelove or: How I Learned to Stop Worrying and Love the Bomb</td>\n",
       "      <td>https://www.imdb.com/review/rw1918429/</td>\n",
       "      <td>Stanley Kubrick directs \"Dr Strangelove.\" The plot? General Ripper, a manic US general, orders a nuclear attack on Russia. He believes the \"purity of his essence\" has been contaminated by the enemy, the mere existence of whom threatens his gene pool. To maintain the purity of his lineage, Ripper thus initiates \"Attack Plan R\", an order which results in the 843rd bomb wing leaving their fail safe points and proceeding into enemy airspace. In response, the Russians reveal that they are in poss...</td>\n",
       "      <td>negative</td>\n",
       "      <td>[Stanley Kubrick, Dr Strangelove, The plot, General Ripper, a manic US general, a nuclear attack, Russia, He, the \"purity, his essence, the enemy, the mere existence, whom, his gene pool, the purity, his lineage, Ripper, Attack Plan R, an order, the 843rd bomb wing, their fail safe points, enemy airspace, response, the Russians, they, possession, a \"doomsday device, the film, Americans, Soviets, political ideologies, a danger, purity, Ripper, the film's characters, He, his post coital fatigu...</td>\n",
       "      <td>Stanley Kubrick,Dr Strangelove,The plot,General Ripper,a manic US general,a nuclear attack,Russia,He,the \"purity,his essence,the enemy,the mere existence,whom,his gene pool,the purity,his lineage,Ripper,Attack Plan R,an order,the 843rd bomb wing,their fail safe points,enemy airspace,response,the Russians,they,possession,a \"doomsday device,the film,Americans,Soviets,political ideologies,a danger,purity,Ripper,the film's characters,He,his post coital fatigue,erectile dysfunctions,a Communist p...</td>\n",
       "      <td>{'neg': 0.116, 'neu': 0.816, 'pos': 0.068, 'compound': -0.9423}</td>\n",
       "      <td>-0.9423</td>\n",
       "      <td>negative</td>\n",
       "    </tr>\n",
       "    <tr>\n",
       "      <th>196</th>\n",
       "      <td>196</td>\n",
       "      <td>Come and See</td>\n",
       "      <td>https://www.imdb.com/review/rw0233821/</td>\n",
       "      <td>In all fairness, this Belorussian-made World War II picture detailing Nazi atrocities, holds a special distinction in world cinema: it is by far the most brutal and emotionally draining of all - in fact, a viewer whose senses have not been properly trained would most likely find it unwatchable. Those brave souls willing to be put through an ordeal of almost 2 1/2 hours will find themselves deeply immersed in an absolutely horrifying experience that will not easily subside whether they want i...</td>\n",
       "      <td>negative</td>\n",
       "      <td>[all fairness, this Belorussian-made World War II picture, Nazi atrocities, a special distinction, world cinema, it, all - in fact, a viewer, whose senses, it, Those brave souls, an ordeal, almost 2 1/2 hours, themselves, an absolutely horrifying experience, they, it, The title, the frequently repeating lines, the book, Revelation, the audience, the role, St. John, the Apocalypse, the darkest periods, the history, humankind, What, we, a demented version, \"Modern Times, the panel, Brueghel's ...</td>\n",
       "      <td>all fairness,this Belorussian-made World War II picture,Nazi atrocities,a special distinction,world cinema,it,all - in fact,a viewer,whose senses,it,Those brave souls,an ordeal,almost 2 1/2 hours,themselves,an absolutely horrifying experience,they,it,The title,the frequently repeating lines,the book,Revelation,the audience,the role,St. John,the Apocalypse,the darkest periods,the history,humankind,What,we,a demented version,\"Modern Times,the panel,Brueghel's \"Trimuph,Death,such a combination,...</td>\n",
       "      <td>{'neg': 0.138, 'neu': 0.814, 'pos': 0.048, 'compound': -0.9295}</td>\n",
       "      <td>-0.9295</td>\n",
       "      <td>negative</td>\n",
       "    </tr>\n",
       "    <tr>\n",
       "      <th>146</th>\n",
       "      <td>146</td>\n",
       "      <td>Apocalypse Now</td>\n",
       "      <td>https://www.imdb.com/review/rw0166320/</td>\n",
       "      <td>Spoilers. This review has been edited due to word limit.`The horror. The horror.' Marlon Brando, Apocalypse Now (1979) and Apocalypse Now Redux (2001)The sentence which is as famous as `Here's looking at you, kid,' or `Are you talkin' to me?' or `May the Force be with you,' or `I'll be back,' means a little more than some one-liners. When it is spoken it lingers in the air with an importance and meaning that does not go unnoticed. What might drive some viewers nuts is that they may never fin...</td>\n",
       "      <td>negative</td>\n",
       "      <td>[Spoilers, This review, word limit, `The horror, The horror, Marlon Brando, Apocalypse, Apocalypse Now Redux, 2001)The sentence, you, you, me, the Force, you, I, some one-liners, it, it, the air, an importance, meaning, What, some viewers, they, an answer, the horror, close observation, every single frame, What, this line, dialogue, The horror, the reality, war, The reality, moral men, they, their inborn instincts, fellow beings, any sign, guilt, Capt. Willard, Martin Sheen, the dying Col. K...</td>\n",
       "      <td>Spoilers,This review,word limit,`The horror,The horror,Marlon Brando,Apocalypse,Apocalypse Now Redux,2001)The sentence,you,you,me,the Force,you,I,some one-liners,it,it,the air,an importance,meaning,What,some viewers,they,an answer,the horror,close observation,every single frame,What,this line,dialogue,The horror,the reality,war,The reality,moral men,they,their inborn instincts,fellow beings,any sign,guilt,Capt. Willard,Martin Sheen,the dying Col. Kurtz,Marlon Brando,the end,the film,The horr...</td>\n",
       "      <td>{'neg': 0.095, 'neu': 0.874, 'pos': 0.031, 'compound': -0.9231}</td>\n",
       "      <td>-0.9231</td>\n",
       "      <td>negative</td>\n",
       "    </tr>\n",
       "    <tr>\n",
       "      <th>160</th>\n",
       "      <td>160</td>\n",
       "      <td>1917</td>\n",
       "      <td>https://www.imdb.com/review/rw5414373/</td>\n",
       "      <td>I knew nothing of the film heading into the theatre other than it was based on WW1.Cinematography, lighting, yes brilliant. That of course doesn't make a film deserve an 8.7 rating.This is a war film for the Marvel generation. There is limited emotion shown by the main characters, scenes that suspend reality and cliche, cliche, cliche.Our hero finds a bucket of unspoilt milk at an abandoned farmhouse beside the only cow in sight.A trip wire is tripped by a rat in a bunker in which the two so...</td>\n",
       "      <td>negative</td>\n",
       "      <td>[I, nothing, the film, the theatre, it, WW1.Cinematography, lighting, course, a film, an 8.7 rating, a war film, the Marvel generation, limited emotion, the main characters, scenes, reality, cliche, Our hero, a bucket, unspoilt milk, an abandoned farmhouse, the only cow, sight, A trip wire, a rat, a bunker, the two soldiers, rubble, He, the rubble, not a scratch, some dust, his eyes, the explosion, it, the entire large bunker, Our hero, a sniper, the bridge, I, this point, we, a tense scene,...</td>\n",
       "      <td>I,nothing,the film,the theatre,it,WW1.Cinematography,lighting,course,a film,an 8.7 rating,a war film,the Marvel generation,limited emotion,the main characters,scenes,reality,cliche,Our hero,a bucket,unspoilt milk,an abandoned farmhouse,the only cow,sight,A trip wire,a rat,a bunker,the two soldiers,rubble,He,the rubble,not a scratch,some dust,his eyes,the explosion,it,the entire large bunker,Our hero,a sniper,the bridge,I,this point,we,a tense scene,other good war films,this game,cat,mouse,No...</td>\n",
       "      <td>{'neg': 0.184, 'neu': 0.755, 'pos': 0.061, 'compound': -0.9118}</td>\n",
       "      <td>-0.9118</td>\n",
       "      <td>negative</td>\n",
       "    </tr>\n",
       "  </tbody>\n",
       "</table>\n",
       "</div>"
      ],
      "text/plain": [
       "     Unnamed: 0  \\\n",
       "193         193   \n",
       "272         272   \n",
       "195         195   \n",
       "48           48   \n",
       "197         197   \n",
       "258         258   \n",
       "150         150   \n",
       "196         196   \n",
       "146         146   \n",
       "160         160   \n",
       "\n",
       "                                                                    movie  \\\n",
       "193                                                        Reservoir Dogs   \n",
       "272                                                   There Will Be Blood   \n",
       "195                                                     Full Metal Jacket   \n",
       "48                                                    Saving Private Ryan   \n",
       "197                                                          Come and See   \n",
       "258                                                    Gangs of Wasseypur   \n",
       "150  Dr. Strangelove or: How I Learned to Stop Worrying and Love the Bomb   \n",
       "196                                                          Come and See   \n",
       "146                                                        Apocalypse Now   \n",
       "160                                                                  1917   \n",
       "\n",
       "                      user_review_permalink  \\\n",
       "193  https://www.imdb.com/review/rw0311912/   \n",
       "272  https://www.imdb.com/review/rw1796522/   \n",
       "195  https://www.imdb.com/review/rw3335538/   \n",
       "48   https://www.imdb.com/review/rw3260616/   \n",
       "197  https://www.imdb.com/review/rw1648309/   \n",
       "258  https://www.imdb.com/review/rw2631497/   \n",
       "150  https://www.imdb.com/review/rw1918429/   \n",
       "196  https://www.imdb.com/review/rw0233821/   \n",
       "146  https://www.imdb.com/review/rw0166320/   \n",
       "160  https://www.imdb.com/review/rw5414373/   \n",
       "\n",
       "                                                                                                                                                                                                                                                                                                                                                                                                                                                                                                             user_review  \\\n",
       "193  Reservoir Dogs is a testament to the idea that \"less is more.\" This doesn't apply to the violence, the film is extremely violent from beginning to end, but the details of the botched diamond heist, which the entire film is based on, are conveyed only in the dialogue, except for one scene where Mr. Pink (Steve Buscemi) recalls his escape. The whole film takes place after the failed robbery is over, and the mystery that unfolds among the criminal participants is amazing to watch. This is not a...   \n",
       "272  First off, I'd like to say that I have enjoyed most all of PTA's films. I loved Boogie Nights, thought Magnolia was an ambitious, but not great picture, and thoroughly enjoyed Punch- Drunk Love. I, like many others have eagerly awaited Paul Thomas Anderson's latest film, There Will Be Blood. In fact, I drove almost 120 miles and waited 2-3 hours in line to see it, as that was the closest showing of it. I bought into all the hype, read almost every review, watched any and all interviews of it...   \n",
       "195  SPOILER: Full Metal Jacket is a 1987 realistic Vietnam war film and is one of the best films of the 80's ever made, directed and produced by Stanley Kubrick. The screenplay by Kubrick, Michael Herr, and Gustav Hasford was based on Hasford's novel The Short-Timers (1979). Full Metal jacket (1987) was Nominated for 1 Oscar. Another 7 wins & 9 nominations. It is one of my personal favorite war movies. I love this movie to death. A superb ensemble falls in for for Stanley Kubrick's brilliant sag...   \n",
       "48   Saving Private Ryan is a military movie based during World War II. The movie starts with the invasion of Normandy at what is now known as D Day. Captain Miller, who is played by Tom Hanks, leads his troops onto the beaches of Normandy against the Germans. Once they are able to take the beach, they learn of story of Private James Ryan. James and his other four brothers are scattered throughout Europe battling in World War II. The United States Headquarters learns that all of James's brothers ...   \n",
       "197  Even before the final credits rolled, I strongly suspected this movie would end up on my Top 20; in fact, perhaps even my Top 10. A teenage boy, his hearing impaired from having just been at the site of a bombing, and a young woman clutching at him, the two of them stumbling and sludging through a slimy, smelly bog. A stork in the woods as it rains. A cluster of dolls piled up on the floor with flies buzzing all over the room. You don't need vast, elaborately choreographed battle scenes to b...   \n",
       "258  Guns of Wassyepur.Bollywood very proudly flaunts badges like mindless entertainment, leave your brains behind comedy, potboiler, masala entertainer etc. The recent box office success of these films proves that there exists a larger population of people who step into the theatre to consume these films and most of them find it entertaining too.Gangs of Wasseypur is Anurag Kashyaps Take your brains with you masala potboiler film.On the surface it is a revenge drama spanning almost 70 years that...   \n",
       "150  Stanley Kubrick directs \"Dr Strangelove.\" The plot? General Ripper, a manic US general, orders a nuclear attack on Russia. He believes the \"purity of his essence\" has been contaminated by the enemy, the mere existence of whom threatens his gene pool. To maintain the purity of his lineage, Ripper thus initiates \"Attack Plan R\", an order which results in the 843rd bomb wing leaving their fail safe points and proceeding into enemy airspace. In response, the Russians reveal that they are in poss...   \n",
       "196  In all fairness, this Belorussian-made World War II picture detailing Nazi atrocities, holds a special distinction in world cinema: it is by far the most brutal and emotionally draining of all - in fact, a viewer whose senses have not been properly trained would most likely find it unwatchable. Those brave souls willing to be put through an ordeal of almost 2 1/2 hours will find themselves deeply immersed in an absolutely horrifying experience that will not easily subside whether they want i...   \n",
       "146  Spoilers. This review has been edited due to word limit.`The horror. The horror.' Marlon Brando, Apocalypse Now (1979) and Apocalypse Now Redux (2001)The sentence which is as famous as `Here's looking at you, kid,' or `Are you talkin' to me?' or `May the Force be with you,' or `I'll be back,' means a little more than some one-liners. When it is spoken it lingers in the air with an importance and meaning that does not go unnoticed. What might drive some viewers nuts is that they may never fin...   \n",
       "160  I knew nothing of the film heading into the theatre other than it was based on WW1.Cinematography, lighting, yes brilliant. That of course doesn't make a film deserve an 8.7 rating.This is a war film for the Marvel generation. There is limited emotion shown by the main characters, scenes that suspend reality and cliche, cliche, cliche.Our hero finds a bucket of unspoilt milk at an abandoned farmhouse beside the only cow in sight.A trip wire is tripped by a rat in a bunker in which the two so...   \n",
       "\n",
       "    sentiment  \\\n",
       "193  positive   \n",
       "272  negative   \n",
       "195  positive   \n",
       "48   negative   \n",
       "197  positive   \n",
       "258  negative   \n",
       "150  negative   \n",
       "196  negative   \n",
       "146  negative   \n",
       "160  negative   \n",
       "\n",
       "                                                                                                                                                                                                                                                                                                                                                                                                                                                                                                             noun_chunks  \\\n",
       "193  [Reservoir Dogs, a testament, the idea, the violence, the film, the details, the botched diamond heist, the entire film, the dialogue, one scene, Mr. Pink, Steve Buscemi, his escape, The whole film, place, the failed robbery, the mystery, the criminal participants, a normal crime film, The thing, Reservoir Dogs, the others, it, you, the screen, you, reality, no Hollywood actors, no make-up, them, no comic relief, no goofy romantic subplot, a detrimental trademark, so many action films, virtu...   \n",
       "272  [I, I, PTA's films, I, Boogie Nights, Magnolia, an ambitious, but not great picture, Punch- Drunk Love, I, many others, Paul Thomas Anderson's latest film, Blood, fact, I, almost 120 miles, 2-3 hours, line, it, the closest showing, it, I, all the hype, almost every review, all interviews, it, I, a \"masterpiece, so many IMDBers, it, People, the audacity, it, the best films, the decade, Some big words, shoes, a film, the wait, I, myself, this film, The movie's pacing, editing, SO slow and too ...   \n",
       "195  [SPOILER, Full Metal Jacket, a 1987 realistic Vietnam war film, the best films, Stanley Kubrick, The screenplay, Kubrick, Michael Herr, Gustav Hasford, Hasford's novel, The Short-Timers, Full Metal jacket, 1 Oscar, Another 7 wins, 9 nominations, It, my personal favorite war movies, I, this movie, death, A superb ensemble, Stanley Kubrick's brilliant saga, the Vietnam War, the dehumanizing process, people, trained killers, Joker, Matthew Modine, Animal Mother, Adam Baldwin, Gomer, Vincent D'O...   \n",
       "48   [Private Ryan, a military movie, World War II, The movie, the invasion, Normandy, what, D Day, Captain Miller, who, Tom Hanks, his troops, the beaches, Normandy, the Germans, they, the beach, they, story, Private James Ryan, James, his other four brothers, Europe, World War II, The United States Headquarters, James's brothers, action, James, the only sibling, The United States Military, his mother, all news, his brothers, action, a plot, his mother, some type, comfort, the Military, Captain ...   \n",
       "197  [the final credits, I, this movie, my Top, fact, A teenage boy, his hearing, the site, a bombing, him, them, a slimy, smelly bog, A stork, the woods, it, A cluster, dolls, the floor, flies, the room, You, vast, elaborately choreographed battle scenes, the message, the senselessness, pain, war, viewers' comments, the movie, it, the second half , the most powerful massacre scenes, , A few other viewers, the movie, the second half, me, it, the first half, my skin, its cinematic originality, p...   \n",
       "258  [Guns, Wassyepur, Bollywood, badges, mindless entertainment, your brains, comedy, potboiler, The recent box office success, these films, a larger population, people, who, the theatre, these films, them, it, Gangs, Wasseypur, Anurag Kashyaps, your brains, you masala potboiler film, the surface, it, a revenge drama, almost 70 years, Shahid Khan, Jaideep Ahalawat, Ramadhir Singh, two actors, the older part, Tigmanshu Dhulia, future generations, Shahid Khan, a running time, 2 hrs, 40 min, the fi...   \n",
       "150  [Stanley Kubrick, Dr Strangelove, The plot, General Ripper, a manic US general, a nuclear attack, Russia, He, the \"purity, his essence, the enemy, the mere existence, whom, his gene pool, the purity, his lineage, Ripper, Attack Plan R, an order, the 843rd bomb wing, their fail safe points, enemy airspace, response, the Russians, they, possession, a \"doomsday device, the film, Americans, Soviets, political ideologies, a danger, purity, Ripper, the film's characters, He, his post coital fatigu...   \n",
       "196  [all fairness, this Belorussian-made World War II picture, Nazi atrocities, a special distinction, world cinema, it, all - in fact, a viewer, whose senses, it, Those brave souls, an ordeal, almost 2 1/2 hours, themselves, an absolutely horrifying experience, they, it, The title, the frequently repeating lines, the book, Revelation, the audience, the role, St. John, the Apocalypse, the darkest periods, the history, humankind, What, we, a demented version, \"Modern Times, the panel, Brueghel's ...   \n",
       "146  [Spoilers, This review, word limit, `The horror, The horror, Marlon Brando, Apocalypse, Apocalypse Now Redux, 2001)The sentence, you, you, me, the Force, you, I, some one-liners, it, it, the air, an importance, meaning, What, some viewers, they, an answer, the horror, close observation, every single frame, What, this line, dialogue, The horror, the reality, war, The reality, moral men, they, their inborn instincts, fellow beings, any sign, guilt, Capt. Willard, Martin Sheen, the dying Col. K...   \n",
       "160  [I, nothing, the film, the theatre, it, WW1.Cinematography, lighting, course, a film, an 8.7 rating, a war film, the Marvel generation, limited emotion, the main characters, scenes, reality, cliche, Our hero, a bucket, unspoilt milk, an abandoned farmhouse, the only cow, sight, A trip wire, a rat, a bunker, the two soldiers, rubble, He, the rubble, not a scratch, some dust, his eyes, the explosion, it, the entire large bunker, Our hero, a sniper, the bridge, I, this point, we, a tense scene,...   \n",
       "\n",
       "                                                                                                                                                                                                                                                                                                                                                                                                                                                                                                          noun_chunk_mod  \\\n",
       "193  Reservoir Dogs,a testament,the idea,the violence,the film,the details,the botched diamond heist,the entire film,the dialogue,one scene,Mr. Pink,Steve Buscemi,his escape,The whole film,place,the failed robbery,the mystery,the criminal participants,a normal crime film,The thing,Reservoir Dogs,the others,it,you,the screen,you,reality,no Hollywood actors,no make-up,them,no comic relief,no goofy romantic subplot,a detrimental trademark,so many action films,virtually all Jerry Bruckheimer films,th...   \n",
       "272  I,I,PTA's films,I,Boogie Nights,Magnolia,an ambitious, but not great picture,Punch- Drunk Love,I,many others,Paul Thomas Anderson's latest film,Blood,fact,I,almost 120 miles,2-3 hours,line,it,the closest showing,it,I,all the hype,almost every review,all interviews,it,I,a \"masterpiece,so many IMDBers,it,People,the audacity,it,the best films,the decade,Some big words,shoes,a film,the wait,I,myself,this film,The movie's pacing,editing,SO slow and too long (nearly 3 hours,I,the editor,another mu...   \n",
       "195  SPOILER,Full Metal Jacket,a 1987 realistic Vietnam war film,the best films,Stanley Kubrick,The screenplay,Kubrick,Michael Herr,Gustav Hasford,Hasford's novel,The Short-Timers,Full Metal jacket,1 Oscar,Another 7 wins,9 nominations,It,my personal favorite war movies,I,this movie,death,A superb ensemble,Stanley Kubrick's brilliant saga,the Vietnam War,the dehumanizing process,people,trained killers,Joker,Matthew Modine,Animal Mother,Adam Baldwin,Gomer,Vincent D'Onofrio,Eightball,(Dorian Harewoo...   \n",
       "48   Private Ryan,a military movie,World War II,The movie,the invasion,Normandy,what,D Day,Captain Miller,who,Tom Hanks,his troops,the beaches,Normandy,the Germans,they,the beach,they,story,Private James Ryan,James,his other four brothers,Europe,World War II,The United States Headquarters,James's brothers,action,James,the only sibling,The United States Military,his mother,all news,his brothers,action,a plot,his mother,some type,comfort,the Military,Captain Miller,his troops,a hunt,Private Ryan,hi...   \n",
       "197  the final credits,I,this movie,my Top,fact,A teenage boy,his hearing,the site,a bombing,him,them,a slimy, smelly bog,A stork,the woods,it,A cluster,dolls,the floor,flies,the room,You,vast, elaborately choreographed battle scenes,the message,the senselessness,pain,war,viewers' comments,the movie,it,the second half ,the most powerful massacre scenes,,A few other viewers,the movie,the second half,me,it,the first half,my skin,its cinematic originality,poetry,symbolic power,War,civilians,soldie...   \n",
       "258  Guns,Wassyepur,Bollywood,badges,mindless entertainment,your brains,comedy,potboiler,The recent box office success,these films,a larger population,people,who,the theatre,these films,them,it,Gangs,Wasseypur,Anurag Kashyaps,your brains,you masala potboiler film,the surface,it,a revenge drama,almost 70 years,Shahid Khan,Jaideep Ahalawat,Ramadhir Singh,two actors,the older part,Tigmanshu Dhulia,future generations,Shahid Khan,a running time,2 hrs,40 min,the film,not a single boring moment,you,a co...   \n",
       "150  Stanley Kubrick,Dr Strangelove,The plot,General Ripper,a manic US general,a nuclear attack,Russia,He,the \"purity,his essence,the enemy,the mere existence,whom,his gene pool,the purity,his lineage,Ripper,Attack Plan R,an order,the 843rd bomb wing,their fail safe points,enemy airspace,response,the Russians,they,possession,a \"doomsday device,the film,Americans,Soviets,political ideologies,a danger,purity,Ripper,the film's characters,He,his post coital fatigue,erectile dysfunctions,a Communist p...   \n",
       "196  all fairness,this Belorussian-made World War II picture,Nazi atrocities,a special distinction,world cinema,it,all - in fact,a viewer,whose senses,it,Those brave souls,an ordeal,almost 2 1/2 hours,themselves,an absolutely horrifying experience,they,it,The title,the frequently repeating lines,the book,Revelation,the audience,the role,St. John,the Apocalypse,the darkest periods,the history,humankind,What,we,a demented version,\"Modern Times,the panel,Brueghel's \"Trimuph,Death,such a combination,...   \n",
       "146  Spoilers,This review,word limit,`The horror,The horror,Marlon Brando,Apocalypse,Apocalypse Now Redux,2001)The sentence,you,you,me,the Force,you,I,some one-liners,it,it,the air,an importance,meaning,What,some viewers,they,an answer,the horror,close observation,every single frame,What,this line,dialogue,The horror,the reality,war,The reality,moral men,they,their inborn instincts,fellow beings,any sign,guilt,Capt. Willard,Martin Sheen,the dying Col. Kurtz,Marlon Brando,the end,the film,The horr...   \n",
       "160  I,nothing,the film,the theatre,it,WW1.Cinematography,lighting,course,a film,an 8.7 rating,a war film,the Marvel generation,limited emotion,the main characters,scenes,reality,cliche,Our hero,a bucket,unspoilt milk,an abandoned farmhouse,the only cow,sight,A trip wire,a rat,a bunker,the two soldiers,rubble,He,the rubble,not a scratch,some dust,his eyes,the explosion,it,the entire large bunker,Our hero,a sniper,the bridge,I,this point,we,a tense scene,other good war films,this game,cat,mouse,No...   \n",
       "\n",
       "                                                           scores_nc  \\\n",
       "193   {'neg': 0.268, 'neu': 0.66, 'pos': 0.072, 'compound': -0.9788}   \n",
       "272   {'neg': 0.152, 'neu': 0.798, 'pos': 0.05, 'compound': -0.9781}   \n",
       "195   {'neg': 0.16, 'neu': 0.751, 'pos': 0.089, 'compound': -0.9779}   \n",
       "48   {'neg': 0.196, 'neu': 0.732, 'pos': 0.072, 'compound': -0.9581}   \n",
       "197   {'neg': 0.155, 'neu': 0.82, 'pos': 0.025, 'compound': -0.9517}   \n",
       "258  {'neg': 0.125, 'neu': 0.849, 'pos': 0.025, 'compound': -0.9501}   \n",
       "150  {'neg': 0.116, 'neu': 0.816, 'pos': 0.068, 'compound': -0.9423}   \n",
       "196  {'neg': 0.138, 'neu': 0.814, 'pos': 0.048, 'compound': -0.9295}   \n",
       "146  {'neg': 0.095, 'neu': 0.874, 'pos': 0.031, 'compound': -0.9231}   \n",
       "160  {'neg': 0.184, 'neu': 0.755, 'pos': 0.061, 'compound': -0.9118}   \n",
       "\n",
       "     compound_nc comp_score_nc  \n",
       "193      -0.9788      negative  \n",
       "272      -0.9781      negative  \n",
       "195      -0.9779      negative  \n",
       "48       -0.9581      negative  \n",
       "197      -0.9517      negative  \n",
       "258      -0.9501      negative  \n",
       "150      -0.9423      negative  \n",
       "196      -0.9295      negative  \n",
       "146      -0.9231      negative  \n",
       "160      -0.9118      negative  "
      ]
     },
     "execution_count": 160,
     "metadata": {},
     "output_type": "execute_result"
    }
   ],
   "source": [
    "df_chunk_scores_non_zero.nsmallest(10, 'compound_nc')"
   ]
  },
  {
   "cell_type": "markdown",
   "id": "modern-lending",
   "metadata": {},
   "source": [
    "Indeed, we see many negative words like failed, not great, bombing, boring moment, nothing, spoilers, and many more. However, some of the comments were there giving a summary of the movie and used negative words. "
   ]
  },
  {
   "cell_type": "markdown",
   "id": "crazy-possible",
   "metadata": {},
   "source": [
    "##### Highest positive-sentiment-scoring chunks"
   ]
  },
  {
   "cell_type": "code",
   "execution_count": 161,
   "id": "innovative-sociology",
   "metadata": {},
   "outputs": [
    {
     "data": {
      "text/html": [
       "<div>\n",
       "<style scoped>\n",
       "    .dataframe tbody tr th:only-of-type {\n",
       "        vertical-align: middle;\n",
       "    }\n",
       "\n",
       "    .dataframe tbody tr th {\n",
       "        vertical-align: top;\n",
       "    }\n",
       "\n",
       "    .dataframe thead th {\n",
       "        text-align: right;\n",
       "    }\n",
       "</style>\n",
       "<table border=\"1\" class=\"dataframe\">\n",
       "  <thead>\n",
       "    <tr style=\"text-align: right;\">\n",
       "      <th></th>\n",
       "      <th>Unnamed: 0</th>\n",
       "      <th>movie</th>\n",
       "      <th>user_review_permalink</th>\n",
       "      <th>user_review</th>\n",
       "      <th>sentiment</th>\n",
       "      <th>noun_chunks</th>\n",
       "      <th>noun_chunk_mod</th>\n",
       "      <th>scores_nc</th>\n",
       "      <th>compound_nc</th>\n",
       "      <th>comp_score_nc</th>\n",
       "    </tr>\n",
       "  </thead>\n",
       "  <tbody>\n",
       "    <tr>\n",
       "      <th>91</th>\n",
       "      <td>91</td>\n",
       "      <td>Back to the Future</td>\n",
       "      <td>https://www.imdb.com/review/rw3686847/</td>\n",
       "      <td>What can I say about this movie that was already said? It is my favorite time travel sci-fi, adventure epic comedy in the 80's and I love this movie to death! When I saw this movie I was thrown out by its theme. An excellent sci-fi, adventure epic, I LOVE the 80s. It's simple the greatest time travel movie ever happened in the history of world cinema. I love this movie to death, I love, LOVE, love it! I firstly saw this movie in the early 90's as a kid on VHS tape and I was blow away by the ...</td>\n",
       "      <td>positive</td>\n",
       "      <td>[What, I, this movie, It, my favorite time travel sci-fi, adventure epic comedy, I, this movie, death, I, this movie, I, its theme, An excellent sci-fi, adventure epic, I, the 80s, It, the greatest time travel movie, the history, world cinema, I, this movie, death, I, LOVE, it, I, this movie, a kid, VHS tape, I, the action, the score, the title, the future, This movie, the best masterpiece time travel epic adventure film, Michael J. Fox, Christopher Lloyd, acting, Music theme score, Alan Sil...</td>\n",
       "      <td>What,I,this movie,It,my favorite time travel sci-fi,adventure epic comedy,I,this movie,death,I,this movie,I,its theme,An excellent sci-fi,adventure epic,I,the 80s,It,the greatest time travel movie,the history,world cinema,I,this movie,death,I,LOVE,it,I,this movie,a kid,VHS tape,I,the action,the score,the title,the future,This movie,the best masterpiece time travel epic adventure film,Michael J. Fox,Christopher Lloyd,acting,Music theme score,Alan Silvestri,I,it,the Future,the Academy Award \"-...</td>\n",
       "      <td>{'neg': 0.024, 'neu': 0.701, 'pos': 0.274, 'compound': 0.9975}</td>\n",
       "      <td>0.9975</td>\n",
       "      <td>positive</td>\n",
       "    </tr>\n",
       "    <tr>\n",
       "      <th>87</th>\n",
       "      <td>87</td>\n",
       "      <td>Cinema Paradiso</td>\n",
       "      <td>https://www.imdb.com/review/rw1024609/</td>\n",
       "      <td>It is by now well known that there are two versions of this film that differ greatly, the original 3 hour Italian cut and the heavily re-edited 2 hour version which was the version that charmed the world in 1989. It remains a wonderful experience, but the director's cut is so much richer, deeper, satisfying,well,everything. This review is of the director's cut which may not be the greatest film in the world but is my favourite film of all time ever since I came out of the cinema in which I f...</td>\n",
       "      <td>positive</td>\n",
       "      <td>[It, two versions, this film, the version, the world, It, a wonderful experience, the director's cut, so much richer, deeper, satisfying,well,everything, This review, the director's cut, the greatest film, the world, my favourite film, all time, I, the cinema, I, it, my eyes, a film, me, this one, Cinema Paradiso, a touching story, a friendship, a wonderful portrayal, a Sicilian village, a loving tribute, the cinema, other things, I, the most moving and romantic love story, my money, you, Ca...</td>\n",
       "      <td>It,two versions,this film,the version,the world,It,a wonderful experience,the director's cut,so much richer, deeper, satisfying,well,everything,This review,the director's cut,the greatest film,the world,my favourite film,all time,I,the cinema,I,it,my eyes,a film,me,this one,Cinema Paradiso,a touching story,a friendship,a wonderful portrayal,a Sicilian village,a loving tribute,the cinema,other things,I,the most moving and romantic love story,my money,you,Casablanca,Dr Zhivago,Titanic,Romeo,Ju...</td>\n",
       "      <td>{'neg': 0.033, 'neu': 0.696, 'pos': 0.271, 'compound': 0.9967}</td>\n",
       "      <td>0.9967</td>\n",
       "      <td>positive</td>\n",
       "    </tr>\n",
       "    <tr>\n",
       "      <th>175</th>\n",
       "      <td>175</td>\n",
       "      <td>Eternal Sunshine of the Spotless Mind</td>\n",
       "      <td>https://www.imdb.com/review/rw0902240/</td>\n",
       "      <td>How happy is the blameless vestal's lot! The world forgetting, by the world forgot. Eternal sunshine of the spotless mind! Each pray'r accepted, and each wish resign'd. -- Alexander Pope==&gt; I confess to being an idealist and a romantic. This type of film appeals to people like me... the ones who believe in love at first sight, soul mates, destiny, yada yada yada. The Charlie Kaufman penned 'Eternal Sunshine of the Spotless Mind' is as fresh and original as some of his other screenplays (Bein...</td>\n",
       "      <td>positive</td>\n",
       "      <td>[the blameless vestal's lot, The world, the world, Eternal sunshine, the spotless mind, Each pray'r, each wish, resign'd, Alexander, I, This type, film appeals, people, me, the ones, who, love, first sight, soul mates, destiny, yada yada yada, The Charlie Kaufman, 'Eternal Sunshine, the Spotless Mind, his other screenplays, John Malkovich, Human Nature, Adaptation, a romantic depth, the most complete film, experiences, I, an exchange, the film, our two leads, Joel, Clementine, poignancy, nua...</td>\n",
       "      <td>the blameless vestal's lot,The world,the world,Eternal sunshine,the spotless mind,Each pray'r,each wish,resign'd,Alexander,I,This type,film appeals,people,me,the ones,who,love,first sight,soul mates,destiny,yada yada yada,The Charlie Kaufman,'Eternal Sunshine,the Spotless Mind,his other screenplays,John Malkovich,Human Nature,Adaptation,a romantic depth,the most complete film,experiences,I,an exchange,the film,our two leads,Joel,Clementine,poignancy,nuance,Jim Carrey,Kate Winslet,what,I,the ...</td>\n",
       "      <td>{'neg': 0.006, 'neu': 0.746, 'pos': 0.249, 'compound': 0.9954}</td>\n",
       "      <td>0.9954</td>\n",
       "      <td>positive</td>\n",
       "    </tr>\n",
       "    <tr>\n",
       "      <th>287</th>\n",
       "      <td>287</td>\n",
       "      <td>A Beautiful Mind</td>\n",
       "      <td>https://www.imdb.com/review/rw0779884/</td>\n",
       "      <td>A BEAUTIFUL MIND (2001) Rating: 10/10A Beautiful Mind's greatest achievement, in my humble opinion, is the way it makes schizophrenia accessible to \"sane\" people. The general public knows schizophrenics tend to talk to themselves, repeat certain actions and do things generally at odds with the norm. But why? It's nearly impossible for a \"sane\" individual to understand why this happens...and more importantly, what that feels like. Without this essential empathy, many people become frustrated ...</td>\n",
       "      <td>positive</td>\n",
       "      <td>[A BEAUTIFUL MIND, (2001) Rating, Beautiful Mind's greatest achievement, my humble opinion, the way, it, schizophrenia, \"sane\" people, The general public, schizophrenics, themselves, certain actions, things, odds, the norm, It, a \"sane\" individual, what, this essential empathy, many people, patients, themselves, We, this same impatience, who, delusions, disastrous results, It, A Beautiful Mind, it, it, you, John Nash's story, you, he, part-way, the movie, He, His delusions, reality, Nash, th...</td>\n",
       "      <td>A BEAUTIFUL MIND,(2001) Rating,Beautiful Mind's greatest achievement,my humble opinion,the way,it,schizophrenia,\"sane\" people,The general public,schizophrenics,themselves,certain actions,things,odds,the norm,It,a \"sane\" individual,what,this essential empathy,many people,patients,themselves,We,this same impatience,who,delusions,disastrous results,It,A Beautiful Mind,it,it,you,John Nash's story,you,he,part-way,the movie,He,His delusions,reality,Nash,they,the audience,who,the difference,truth,d...</td>\n",
       "      <td>{'neg': 0.022, 'neu': 0.714, 'pos': 0.264, 'compound': 0.9953}</td>\n",
       "      <td>0.9953</td>\n",
       "      <td>positive</td>\n",
       "    </tr>\n",
       "    <tr>\n",
       "      <th>37</th>\n",
       "      <td>37</td>\n",
       "      <td>Star Wars: Episode V - The Empire Strikes Back</td>\n",
       "      <td>https://www.imdb.com/review/rw3457948/</td>\n",
       "      <td>Star Wars: Episode V - The Empire Strikes Back (1980) is an excellent timeless classic that it is the best sequel of all time. I love this film to death, it is my second favorite film and the best sequel in the Star Wars franchise that I love. The Empire Strikes Back is a movie that it is one of the best sequels I can think of, it is right there with Aliens (1986), it is right there with Terminator 2: Judgment Day (1991) it is an excellent sequel and it really does establish The Empire as a ...</td>\n",
       "      <td>positive</td>\n",
       "      <td>[Star Wars, Episode V, The Empire, an excellent timeless classic, it, the best sequel, all time, I, this film, death, it, my second favorite film, the best sequel, the Star Wars franchise, I, The Empire, a movie, it, the best sequels, I, it, Aliens, it, Terminator, Judgment Day, it, an excellent sequel, it, The Empire, a value treat, Empire, excellent film, I, a timeless classic, my second favorite film, director Irvin Kershner, Number 1 favorite Irvin Kershner film, RoboCop, very underrated...</td>\n",
       "      <td>Star Wars,Episode V,The Empire,an excellent timeless classic,it,the best sequel,all time,I,this film,death,it,my second favorite film,the best sequel,the Star Wars franchise,I,The Empire,a movie,it,the best sequels,I,it,Aliens,it,Terminator,Judgment Day,it,an excellent sequel,it,The Empire,a value treat,Empire,excellent film,I,a timeless classic,my second favorite film,director Irvin Kershner,Number 1 favorite Irvin Kershner film,RoboCop,very underrated action flick,I,those movies,Empire,the...</td>\n",
       "      <td>{'neg': 0.021, 'neu': 0.752, 'pos': 0.228, 'compound': 0.9944}</td>\n",
       "      <td>0.9944</td>\n",
       "      <td>positive</td>\n",
       "    </tr>\n",
       "    <tr>\n",
       "      <th>83</th>\n",
       "      <td>83</td>\n",
       "      <td>The Lion King</td>\n",
       "      <td>https://www.imdb.com/review/rw0342377/</td>\n",
       "      <td>Seriously, I know that sounds stupid as this is an animated movie, but why can't we have a favorite movie that's animated? If you ask me this is Disney's best animated film of all time. Why do you ask? The animation is just beautiful, the story is powerful and moving, the characters are terrific, the villain is one of Disney's most monstrous and the songs are out of this world incredible! Not only is it my favorite animated movie, this is one of my favorite soundtracks, with the strong power...</td>\n",
       "      <td>positive</td>\n",
       "      <td>[I, an animated movie, we, a favorite movie, you, me, Disney's best animated film, all time, you, The animation, the story, the characters, the villain, Disney, the songs, this world, it, my favorite animated movie, my favorite soundtracks, the strong power, Elton John, The Lion King, this day, I, this story, it, the movies, a tear, my eye, I, I, my dad, me, the re-release, of The Lion King, him, I, the only adults, the parents, who, their children, the movie, Simba's father, I, My dad, it, ...</td>\n",
       "      <td>I,an animated movie,we,a favorite movie,you,me,Disney's best animated film,all time,you,The animation,the story,the characters,the villain,Disney,the songs,this world,it,my favorite animated movie,my favorite soundtracks,the strong power,Elton John,The Lion King,this day,I,this story,it,the movies,a tear,my eye,I,I,my dad,me,the re-release,of The Lion King,him,I,the only adults,the parents,who,their children,the movie,Simba's father,I,My dad,it,I,it,saaaaad,Simba's daddy,I,a sap,I,it,a power...</td>\n",
       "      <td>{'neg': 0.021, 'neu': 0.751, 'pos': 0.228, 'compound': 0.991}</td>\n",
       "      <td>0.9910</td>\n",
       "      <td>positive</td>\n",
       "    </tr>\n",
       "    <tr>\n",
       "      <th>115</th>\n",
       "      <td>115</td>\n",
       "      <td>Spider-Man: Into the Spider-Verse</td>\n",
       "      <td>https://www.imdb.com/review/rw4510491/</td>\n",
       "      <td>I have to say, and no pun-intended: Into the Spider-Verse is a total marvel, all the way down to its stylish and diverse styles of animation to its bold, sophisticated storytelling. The visuals are absolutely enchanting. Fast, colorful, and distinct. Something Sony Animation always nails is how each character has a pronounced look and movement. With the various kinds of Spider-Men and Marvel villains featured in this story, the animators went all out to give them a unique identity. Notably i...</td>\n",
       "      <td>positive</td>\n",
       "      <td>[I, the Spider-Verse, a total marvel, its stylish and diverse styles, animation, its bold, sophisticated storytelling, The visuals, Something, Sony Animation, each character, a pronounced look, movement, the various kinds, Spider-Men and Marvel villains, this story, the animators, them, a unique identity, this case, Spider-Man Noir, Peni Parker, Spider-Ham, Noir, whose universe, place, 1930s New York, a dark, shadowy vibe, Sin City, Peni Parker, a bubbly anime look, Spider-Ham, a bouncy, ecc...</td>\n",
       "      <td>I,the Spider-Verse,a total marvel,its stylish and diverse styles,animation,its bold, sophisticated storytelling,The visuals,Something,Sony Animation,each character,a pronounced look,movement,the various kinds,Spider-Men and Marvel villains,this story,the animators,them,a unique identity,this case,Spider-Man Noir,Peni Parker,Spider-Ham,Noir,whose universe,place,1930s New York,a dark, shadowy vibe,Sin City,Peni Parker,a bubbly anime look,Spider-Ham,a bouncy, eccentric cartoon character,who,ful...</td>\n",
       "      <td>{'neg': 0.031, 'neu': 0.778, 'pos': 0.19, 'compound': 0.9896}</td>\n",
       "      <td>0.9896</td>\n",
       "      <td>positive</td>\n",
       "    </tr>\n",
       "    <tr>\n",
       "      <th>234</th>\n",
       "      <td>234</td>\n",
       "      <td>Citizen Kane</td>\n",
       "      <td>https://www.imdb.com/review/rw3346591/</td>\n",
       "      <td>Anyone who sees \"Citizen Kane\" (1941) for the first time today does so because he or she has heard that it is the greatest film ever made. One simply doesn't come across the film by accident on TV, watching it \"for what it is,\" so to speak. The common approach of seeing it to believe it can be at best exhilarating and at worst hostile. Unfortunately, the latter is usually, although quite understandably, the case. For how can one do anything but look down at a film that elitist snobs have pra...</td>\n",
       "      <td>negative</td>\n",
       "      <td>[Anyone, who, \"Citizen Kane, the first time, he, she, it, the greatest film, the film, accident, TV, it, what, it, The common approach, it, it, the case, one, anything, a film, elitist snobs, years, years, oneself, the critics' claims, the theater, the living room, a shrug, a condescending comment, it, It, a great tragedy, Citizen Kane, these kinds, incidents, it, the same kind, respect, Shakespeare's \"Hamlet, Beethoven's \"9th Symphony, order, someone's viewing experience, I, Citizen Kane, t...</td>\n",
       "      <td>Anyone,who,\"Citizen Kane,the first time,he,she,it,the greatest film,the film,accident,TV,it,what,it,The common approach,it,it,the case,one,anything,a film,elitist snobs,years,years,oneself,the critics' claims,the theater,the living room,a shrug,a condescending comment,it,It,a great tragedy,Citizen Kane,these kinds,incidents,it,the same kind,respect,Shakespeare's \"Hamlet,Beethoven's \"9th Symphony,order,someone's viewing experience,I,Citizen Kane,the best film,people,it,over a thousand reviews...</td>\n",
       "      <td>{'neg': 0.018, 'neu': 0.83, 'pos': 0.152, 'compound': 0.9879}</td>\n",
       "      <td>0.9879</td>\n",
       "      <td>positive</td>\n",
       "    </tr>\n",
       "    <tr>\n",
       "      <th>279</th>\n",
       "      <td>279</td>\n",
       "      <td>Batman Begins</td>\n",
       "      <td>https://www.imdb.com/review/rw1399745/</td>\n",
       "      <td>To tell the truth, I thought the Batman franchise could never be saved, and I was really let down that I may never see my favorite superhero in a good movie ever again. Then I saw the preview to Batman Begins, I didn't really know what to think. New Batman. New Alfred. New story. New style. I wasn't sure why I wanted it 'the old way', but maybe I wanted to the actors in the Batman films I grew up with, to revive themselves and make a good Batman movie. I wanted Robin and sadly, Batgirl, alon...</td>\n",
       "      <td>positive</td>\n",
       "      <td>[the truth, I, the Batman franchise, I, I, my favorite superhero, a good movie, I, the preview, Batman, I, what, New Batman, New Alfred, New story, New style, I, I, it, I, the actors, the Batman films, I, themselves, a good Batman movie, I, Robin, sadly, Batgirl, Batman, the world, another familiar villain, I, Batman, I, \"Batman, I, I, something, course, a big Batman fan, I, Begings, the rest, the audience, It, the only movie, I, I, some great ones, the crowd, just golf claps, a popcorn clip...</td>\n",
       "      <td>the truth,I,the Batman franchise,I,I,my favorite superhero,a good movie,I,the preview,Batman,I,what,New Batman,New Alfred,New story,New style,I,I,it,I,the actors,the Batman films,I,themselves,a good Batman movie,I,Robin,sadly, Batgirl,Batman,the world,another familiar villain,I,Batman,I,\"Batman,I,I,something,course,a big Batman fan,I,Begings,the rest,the audience,It,the only movie,I,I,some great ones,the crowd,just golf claps,a popcorn clip,a standing ovation,a crowded theater,Austin,Texas,I...</td>\n",
       "      <td>{'neg': 0.039, 'neu': 0.662, 'pos': 0.299, 'compound': 0.9877}</td>\n",
       "      <td>0.9877</td>\n",
       "      <td>positive</td>\n",
       "    </tr>\n",
       "    <tr>\n",
       "      <th>267</th>\n",
       "      <td>267</td>\n",
       "      <td>Up</td>\n",
       "      <td>https://www.imdb.com/review/rw2073792/</td>\n",
       "      <td>If there's a list of great computer animation movies of all time, Pixar would dominate most of the top positions. Great story, great voice talent, great timing, great for all ages. It'd be hard to pick just one above another and perhaps another viewing of Up may be in order to figure out where I'd place it among so much stellar work.Up is by far the most emotional human drama of any Pixar movies thus far, very heavy, so much so if you're looking for pure fun with some jaw-dropping chase and/...</td>\n",
       "      <td>positive</td>\n",
       "      <td>[a list, great computer animation movies, all time, Pixar, the top positions, Great story, great voice talent, great timing, all ages, It, perhaps another viewing, order, I, it, so much stellar work, the most emotional human drama, any Pixar movies, you, pure fun, some jaw-dropping chase, thematic scenes, no downer moments, you, I, it, a packed theatre, about a 65% adult, 35%, adult split audience, it, the only time, I, ANY animated movie, sniffles, watery eyes, the first 10 minutes, the mov...</td>\n",
       "      <td>a list,great computer animation movies,all time,Pixar,the top positions,Great story,great voice talent,great timing,all ages,It,perhaps another viewing,order,I,it,so much stellar work,the most emotional human drama,any Pixar movies,you,pure fun,some jaw-dropping chase,thematic scenes,no downer moments,you,I,it,a packed theatre,about a 65% adult,35%,adult split audience,it,the only time,I,ANY animated movie,sniffles,watery eyes,the first 10 minutes,the movie,an undercurrent,life,a loved one,t...</td>\n",
       "      <td>{'neg': 0.0, 'neu': 0.76, 'pos': 0.24, 'compound': 0.9861}</td>\n",
       "      <td>0.9861</td>\n",
       "      <td>positive</td>\n",
       "    </tr>\n",
       "  </tbody>\n",
       "</table>\n",
       "</div>"
      ],
      "text/plain": [
       "     Unnamed: 0                                           movie  \\\n",
       "91           91                              Back to the Future   \n",
       "87           87                                 Cinema Paradiso   \n",
       "175         175           Eternal Sunshine of the Spotless Mind   \n",
       "287         287                                A Beautiful Mind   \n",
       "37           37  Star Wars: Episode V - The Empire Strikes Back   \n",
       "83           83                                   The Lion King   \n",
       "115         115               Spider-Man: Into the Spider-Verse   \n",
       "234         234                                    Citizen Kane   \n",
       "279         279                                   Batman Begins   \n",
       "267         267                                              Up   \n",
       "\n",
       "                      user_review_permalink  \\\n",
       "91   https://www.imdb.com/review/rw3686847/   \n",
       "87   https://www.imdb.com/review/rw1024609/   \n",
       "175  https://www.imdb.com/review/rw0902240/   \n",
       "287  https://www.imdb.com/review/rw0779884/   \n",
       "37   https://www.imdb.com/review/rw3457948/   \n",
       "83   https://www.imdb.com/review/rw0342377/   \n",
       "115  https://www.imdb.com/review/rw4510491/   \n",
       "234  https://www.imdb.com/review/rw3346591/   \n",
       "279  https://www.imdb.com/review/rw1399745/   \n",
       "267  https://www.imdb.com/review/rw2073792/   \n",
       "\n",
       "                                                                                                                                                                                                                                                                                                                                                                                                                                                                                                             user_review  \\\n",
       "91   What can I say about this movie that was already said? It is my favorite time travel sci-fi, adventure epic comedy in the 80's and I love this movie to death! When I saw this movie I was thrown out by its theme. An excellent sci-fi, adventure epic, I LOVE the 80s. It's simple the greatest time travel movie ever happened in the history of world cinema. I love this movie to death, I love, LOVE, love it! I firstly saw this movie in the early 90's as a kid on VHS tape and I was blow away by the ...   \n",
       "87   It is by now well known that there are two versions of this film that differ greatly, the original 3 hour Italian cut and the heavily re-edited 2 hour version which was the version that charmed the world in 1989. It remains a wonderful experience, but the director's cut is so much richer, deeper, satisfying,well,everything. This review is of the director's cut which may not be the greatest film in the world but is my favourite film of all time ever since I came out of the cinema in which I f...   \n",
       "175  How happy is the blameless vestal's lot! The world forgetting, by the world forgot. Eternal sunshine of the spotless mind! Each pray'r accepted, and each wish resign'd. -- Alexander Pope==> I confess to being an idealist and a romantic. This type of film appeals to people like me... the ones who believe in love at first sight, soul mates, destiny, yada yada yada. The Charlie Kaufman penned 'Eternal Sunshine of the Spotless Mind' is as fresh and original as some of his other screenplays (Bein...   \n",
       "287  A BEAUTIFUL MIND (2001) Rating: 10/10A Beautiful Mind's greatest achievement, in my humble opinion, is the way it makes schizophrenia accessible to \"sane\" people. The general public knows schizophrenics tend to talk to themselves, repeat certain actions and do things generally at odds with the norm. But why? It's nearly impossible for a \"sane\" individual to understand why this happens...and more importantly, what that feels like. Without this essential empathy, many people become frustrated ...   \n",
       "37   Star Wars: Episode V - The Empire Strikes Back (1980) is an excellent timeless classic that it is the best sequel of all time. I love this film to death, it is my second favorite film and the best sequel in the Star Wars franchise that I love. The Empire Strikes Back is a movie that it is one of the best sequels I can think of, it is right there with Aliens (1986), it is right there with Terminator 2: Judgment Day (1991) it is an excellent sequel and it really does establish The Empire as a ...   \n",
       "83   Seriously, I know that sounds stupid as this is an animated movie, but why can't we have a favorite movie that's animated? If you ask me this is Disney's best animated film of all time. Why do you ask? The animation is just beautiful, the story is powerful and moving, the characters are terrific, the villain is one of Disney's most monstrous and the songs are out of this world incredible! Not only is it my favorite animated movie, this is one of my favorite soundtracks, with the strong power...   \n",
       "115  I have to say, and no pun-intended: Into the Spider-Verse is a total marvel, all the way down to its stylish and diverse styles of animation to its bold, sophisticated storytelling. The visuals are absolutely enchanting. Fast, colorful, and distinct. Something Sony Animation always nails is how each character has a pronounced look and movement. With the various kinds of Spider-Men and Marvel villains featured in this story, the animators went all out to give them a unique identity. Notably i...   \n",
       "234  Anyone who sees \"Citizen Kane\" (1941) for the first time today does so because he or she has heard that it is the greatest film ever made. One simply doesn't come across the film by accident on TV, watching it \"for what it is,\" so to speak. The common approach of seeing it to believe it can be at best exhilarating and at worst hostile. Unfortunately, the latter is usually, although quite understandably, the case. For how can one do anything but look down at a film that elitist snobs have pra...   \n",
       "279  To tell the truth, I thought the Batman franchise could never be saved, and I was really let down that I may never see my favorite superhero in a good movie ever again. Then I saw the preview to Batman Begins, I didn't really know what to think. New Batman. New Alfred. New story. New style. I wasn't sure why I wanted it 'the old way', but maybe I wanted to the actors in the Batman films I grew up with, to revive themselves and make a good Batman movie. I wanted Robin and sadly, Batgirl, alon...   \n",
       "267  If there's a list of great computer animation movies of all time, Pixar would dominate most of the top positions. Great story, great voice talent, great timing, great for all ages. It'd be hard to pick just one above another and perhaps another viewing of Up may be in order to figure out where I'd place it among so much stellar work.Up is by far the most emotional human drama of any Pixar movies thus far, very heavy, so much so if you're looking for pure fun with some jaw-dropping chase and/...   \n",
       "\n",
       "    sentiment  \\\n",
       "91   positive   \n",
       "87   positive   \n",
       "175  positive   \n",
       "287  positive   \n",
       "37   positive   \n",
       "83   positive   \n",
       "115  positive   \n",
       "234  negative   \n",
       "279  positive   \n",
       "267  positive   \n",
       "\n",
       "                                                                                                                                                                                                                                                                                                                                                                                                                                                                                                             noun_chunks  \\\n",
       "91   [What, I, this movie, It, my favorite time travel sci-fi, adventure epic comedy, I, this movie, death, I, this movie, I, its theme, An excellent sci-fi, adventure epic, I, the 80s, It, the greatest time travel movie, the history, world cinema, I, this movie, death, I, LOVE, it, I, this movie, a kid, VHS tape, I, the action, the score, the title, the future, This movie, the best masterpiece time travel epic adventure film, Michael J. Fox, Christopher Lloyd, acting, Music theme score, Alan Sil...   \n",
       "87   [It, two versions, this film, the version, the world, It, a wonderful experience, the director's cut, so much richer, deeper, satisfying,well,everything, This review, the director's cut, the greatest film, the world, my favourite film, all time, I, the cinema, I, it, my eyes, a film, me, this one, Cinema Paradiso, a touching story, a friendship, a wonderful portrayal, a Sicilian village, a loving tribute, the cinema, other things, I, the most moving and romantic love story, my money, you, Ca...   \n",
       "175  [the blameless vestal's lot, The world, the world, Eternal sunshine, the spotless mind, Each pray'r, each wish, resign'd, Alexander, I, This type, film appeals, people, me, the ones, who, love, first sight, soul mates, destiny, yada yada yada, The Charlie Kaufman, 'Eternal Sunshine, the Spotless Mind, his other screenplays, John Malkovich, Human Nature, Adaptation, a romantic depth, the most complete film, experiences, I, an exchange, the film, our two leads, Joel, Clementine, poignancy, nua...   \n",
       "287  [A BEAUTIFUL MIND, (2001) Rating, Beautiful Mind's greatest achievement, my humble opinion, the way, it, schizophrenia, \"sane\" people, The general public, schizophrenics, themselves, certain actions, things, odds, the norm, It, a \"sane\" individual, what, this essential empathy, many people, patients, themselves, We, this same impatience, who, delusions, disastrous results, It, A Beautiful Mind, it, it, you, John Nash's story, you, he, part-way, the movie, He, His delusions, reality, Nash, th...   \n",
       "37   [Star Wars, Episode V, The Empire, an excellent timeless classic, it, the best sequel, all time, I, this film, death, it, my second favorite film, the best sequel, the Star Wars franchise, I, The Empire, a movie, it, the best sequels, I, it, Aliens, it, Terminator, Judgment Day, it, an excellent sequel, it, The Empire, a value treat, Empire, excellent film, I, a timeless classic, my second favorite film, director Irvin Kershner, Number 1 favorite Irvin Kershner film, RoboCop, very underrated...   \n",
       "83   [I, an animated movie, we, a favorite movie, you, me, Disney's best animated film, all time, you, The animation, the story, the characters, the villain, Disney, the songs, this world, it, my favorite animated movie, my favorite soundtracks, the strong power, Elton John, The Lion King, this day, I, this story, it, the movies, a tear, my eye, I, I, my dad, me, the re-release, of The Lion King, him, I, the only adults, the parents, who, their children, the movie, Simba's father, I, My dad, it, ...   \n",
       "115  [I, the Spider-Verse, a total marvel, its stylish and diverse styles, animation, its bold, sophisticated storytelling, The visuals, Something, Sony Animation, each character, a pronounced look, movement, the various kinds, Spider-Men and Marvel villains, this story, the animators, them, a unique identity, this case, Spider-Man Noir, Peni Parker, Spider-Ham, Noir, whose universe, place, 1930s New York, a dark, shadowy vibe, Sin City, Peni Parker, a bubbly anime look, Spider-Ham, a bouncy, ecc...   \n",
       "234  [Anyone, who, \"Citizen Kane, the first time, he, she, it, the greatest film, the film, accident, TV, it, what, it, The common approach, it, it, the case, one, anything, a film, elitist snobs, years, years, oneself, the critics' claims, the theater, the living room, a shrug, a condescending comment, it, It, a great tragedy, Citizen Kane, these kinds, incidents, it, the same kind, respect, Shakespeare's \"Hamlet, Beethoven's \"9th Symphony, order, someone's viewing experience, I, Citizen Kane, t...   \n",
       "279  [the truth, I, the Batman franchise, I, I, my favorite superhero, a good movie, I, the preview, Batman, I, what, New Batman, New Alfred, New story, New style, I, I, it, I, the actors, the Batman films, I, themselves, a good Batman movie, I, Robin, sadly, Batgirl, Batman, the world, another familiar villain, I, Batman, I, \"Batman, I, I, something, course, a big Batman fan, I, Begings, the rest, the audience, It, the only movie, I, I, some great ones, the crowd, just golf claps, a popcorn clip...   \n",
       "267  [a list, great computer animation movies, all time, Pixar, the top positions, Great story, great voice talent, great timing, all ages, It, perhaps another viewing, order, I, it, so much stellar work, the most emotional human drama, any Pixar movies, you, pure fun, some jaw-dropping chase, thematic scenes, no downer moments, you, I, it, a packed theatre, about a 65% adult, 35%, adult split audience, it, the only time, I, ANY animated movie, sniffles, watery eyes, the first 10 minutes, the mov...   \n",
       "\n",
       "                                                                                                                                                                                                                                                                                                                                                                                                                                                                                                          noun_chunk_mod  \\\n",
       "91   What,I,this movie,It,my favorite time travel sci-fi,adventure epic comedy,I,this movie,death,I,this movie,I,its theme,An excellent sci-fi,adventure epic,I,the 80s,It,the greatest time travel movie,the history,world cinema,I,this movie,death,I,LOVE,it,I,this movie,a kid,VHS tape,I,the action,the score,the title,the future,This movie,the best masterpiece time travel epic adventure film,Michael J. Fox,Christopher Lloyd,acting,Music theme score,Alan Silvestri,I,it,the Future,the Academy Award \"-...   \n",
       "87   It,two versions,this film,the version,the world,It,a wonderful experience,the director's cut,so much richer, deeper, satisfying,well,everything,This review,the director's cut,the greatest film,the world,my favourite film,all time,I,the cinema,I,it,my eyes,a film,me,this one,Cinema Paradiso,a touching story,a friendship,a wonderful portrayal,a Sicilian village,a loving tribute,the cinema,other things,I,the most moving and romantic love story,my money,you,Casablanca,Dr Zhivago,Titanic,Romeo,Ju...   \n",
       "175  the blameless vestal's lot,The world,the world,Eternal sunshine,the spotless mind,Each pray'r,each wish,resign'd,Alexander,I,This type,film appeals,people,me,the ones,who,love,first sight,soul mates,destiny,yada yada yada,The Charlie Kaufman,'Eternal Sunshine,the Spotless Mind,his other screenplays,John Malkovich,Human Nature,Adaptation,a romantic depth,the most complete film,experiences,I,an exchange,the film,our two leads,Joel,Clementine,poignancy,nuance,Jim Carrey,Kate Winslet,what,I,the ...   \n",
       "287  A BEAUTIFUL MIND,(2001) Rating,Beautiful Mind's greatest achievement,my humble opinion,the way,it,schizophrenia,\"sane\" people,The general public,schizophrenics,themselves,certain actions,things,odds,the norm,It,a \"sane\" individual,what,this essential empathy,many people,patients,themselves,We,this same impatience,who,delusions,disastrous results,It,A Beautiful Mind,it,it,you,John Nash's story,you,he,part-way,the movie,He,His delusions,reality,Nash,they,the audience,who,the difference,truth,d...   \n",
       "37   Star Wars,Episode V,The Empire,an excellent timeless classic,it,the best sequel,all time,I,this film,death,it,my second favorite film,the best sequel,the Star Wars franchise,I,The Empire,a movie,it,the best sequels,I,it,Aliens,it,Terminator,Judgment Day,it,an excellent sequel,it,The Empire,a value treat,Empire,excellent film,I,a timeless classic,my second favorite film,director Irvin Kershner,Number 1 favorite Irvin Kershner film,RoboCop,very underrated action flick,I,those movies,Empire,the...   \n",
       "83   I,an animated movie,we,a favorite movie,you,me,Disney's best animated film,all time,you,The animation,the story,the characters,the villain,Disney,the songs,this world,it,my favorite animated movie,my favorite soundtracks,the strong power,Elton John,The Lion King,this day,I,this story,it,the movies,a tear,my eye,I,I,my dad,me,the re-release,of The Lion King,him,I,the only adults,the parents,who,their children,the movie,Simba's father,I,My dad,it,I,it,saaaaad,Simba's daddy,I,a sap,I,it,a power...   \n",
       "115  I,the Spider-Verse,a total marvel,its stylish and diverse styles,animation,its bold, sophisticated storytelling,The visuals,Something,Sony Animation,each character,a pronounced look,movement,the various kinds,Spider-Men and Marvel villains,this story,the animators,them,a unique identity,this case,Spider-Man Noir,Peni Parker,Spider-Ham,Noir,whose universe,place,1930s New York,a dark, shadowy vibe,Sin City,Peni Parker,a bubbly anime look,Spider-Ham,a bouncy, eccentric cartoon character,who,ful...   \n",
       "234  Anyone,who,\"Citizen Kane,the first time,he,she,it,the greatest film,the film,accident,TV,it,what,it,The common approach,it,it,the case,one,anything,a film,elitist snobs,years,years,oneself,the critics' claims,the theater,the living room,a shrug,a condescending comment,it,It,a great tragedy,Citizen Kane,these kinds,incidents,it,the same kind,respect,Shakespeare's \"Hamlet,Beethoven's \"9th Symphony,order,someone's viewing experience,I,Citizen Kane,the best film,people,it,over a thousand reviews...   \n",
       "279  the truth,I,the Batman franchise,I,I,my favorite superhero,a good movie,I,the preview,Batman,I,what,New Batman,New Alfred,New story,New style,I,I,it,I,the actors,the Batman films,I,themselves,a good Batman movie,I,Robin,sadly, Batgirl,Batman,the world,another familiar villain,I,Batman,I,\"Batman,I,I,something,course,a big Batman fan,I,Begings,the rest,the audience,It,the only movie,I,I,some great ones,the crowd,just golf claps,a popcorn clip,a standing ovation,a crowded theater,Austin,Texas,I...   \n",
       "267  a list,great computer animation movies,all time,Pixar,the top positions,Great story,great voice talent,great timing,all ages,It,perhaps another viewing,order,I,it,so much stellar work,the most emotional human drama,any Pixar movies,you,pure fun,some jaw-dropping chase,thematic scenes,no downer moments,you,I,it,a packed theatre,about a 65% adult,35%,adult split audience,it,the only time,I,ANY animated movie,sniffles,watery eyes,the first 10 minutes,the movie,an undercurrent,life,a loved one,t...   \n",
       "\n",
       "                                                          scores_nc  \\\n",
       "91   {'neg': 0.024, 'neu': 0.701, 'pos': 0.274, 'compound': 0.9975}   \n",
       "87   {'neg': 0.033, 'neu': 0.696, 'pos': 0.271, 'compound': 0.9967}   \n",
       "175  {'neg': 0.006, 'neu': 0.746, 'pos': 0.249, 'compound': 0.9954}   \n",
       "287  {'neg': 0.022, 'neu': 0.714, 'pos': 0.264, 'compound': 0.9953}   \n",
       "37   {'neg': 0.021, 'neu': 0.752, 'pos': 0.228, 'compound': 0.9944}   \n",
       "83    {'neg': 0.021, 'neu': 0.751, 'pos': 0.228, 'compound': 0.991}   \n",
       "115   {'neg': 0.031, 'neu': 0.778, 'pos': 0.19, 'compound': 0.9896}   \n",
       "234   {'neg': 0.018, 'neu': 0.83, 'pos': 0.152, 'compound': 0.9879}   \n",
       "279  {'neg': 0.039, 'neu': 0.662, 'pos': 0.299, 'compound': 0.9877}   \n",
       "267      {'neg': 0.0, 'neu': 0.76, 'pos': 0.24, 'compound': 0.9861}   \n",
       "\n",
       "     compound_nc comp_score_nc  \n",
       "91        0.9975      positive  \n",
       "87        0.9967      positive  \n",
       "175       0.9954      positive  \n",
       "287       0.9953      positive  \n",
       "37        0.9944      positive  \n",
       "83        0.9910      positive  \n",
       "115       0.9896      positive  \n",
       "234       0.9879      positive  \n",
       "279       0.9877      positive  \n",
       "267       0.9861      positive  "
      ]
     },
     "execution_count": 161,
     "metadata": {},
     "output_type": "execute_result"
    }
   ],
   "source": [
    "df_chunk_scores_non_zero.nlargest(10, 'compound_nc')"
   ]
  },
  {
   "cell_type": "markdown",
   "id": "norman-slovakia",
   "metadata": {},
   "source": [
    "Indeed, we see many positive words like Award, my favorite, wonderful experience, spotless, blameless, beautiful, stylish, and many more. However, some of the comments were there, giving a summary of the movie and used positive words. Although overall these reviews were positive reviews."
   ]
  }
 ],
 "metadata": {
  "kernelspec": {
   "display_name": "Python 3",
   "language": "python",
   "name": "python3"
  },
  "language_info": {
   "codemirror_mode": {
    "name": "ipython",
    "version": 3
   },
   "file_extension": ".py",
   "mimetype": "text/x-python",
   "name": "python",
   "nbconvert_exporter": "python",
   "pygments_lexer": "ipython3",
   "version": "3.8.8"
  }
 },
 "nbformat": 4,
 "nbformat_minor": 5
}
